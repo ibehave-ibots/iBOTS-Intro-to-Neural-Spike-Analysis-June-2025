{
  "cells": [
    {
      "cell_type": "markdown",
      "metadata": {},
      "source": [
        "# Simulating Neurons as Poisson Processes\n",
        "\n",
        "## 1 Preparation\n",
        "\n",
        "Import the modules required for this session"
      ],
      "id": "f70b1fc1-1254-462f-9dec-9c60c94794b6"
    },
    {
      "cell_type": "code",
      "execution_count": 1,
      "metadata": {},
      "outputs": [],
      "source": [
        "import quantities as pq\n",
        "import numpy as np\n",
        "from matplotlib import pyplot as plt\n",
        "from elephant.spike_train_generation import StationaryPoissonProcess, NonStationaryPoissonProcess\n",
        "from elephant.statistics import isi\n",
        "\n",
        "%matplotlib inline"
      ],
      "id": "644dbe06"
    },
    {
      "cell_type": "markdown",
      "metadata": {},
      "source": [
        "Define the functions required for this session."
      ],
      "id": "4ddf29b3-c530-47de-bc52-bad516558586"
    },
    {
      "cell_type": "code",
      "execution_count": 2,
      "metadata": {},
      "outputs": [],
      "source": [
        "from scipy.stats import poisson, expon\n",
        "from scipy import interpolate\n",
        "from neo.core import AnalogSignal\n",
        "\n",
        "\n",
        "class utils:\n",
        "    @staticmethod\n",
        "    def plot_poisson_distribution(rate, duration, x_range):\n",
        "        bins = np.arange(x_range[0], x_range[1] + 1)\n",
        "        mu = rate * duration\n",
        "        prob = poisson.pmf(k=bins, mu=mu)\n",
        "        plt.plot(bins, prob, color=\"black\", marker=\"o\", linestyle=\"None\")\n",
        "\n",
        "        f = interpolate.interp1d(bins, prob, kind=\"cubic\")\n",
        "        bins = np.arange(x_range[0], x_range[1], 0.1)\n",
        "\n",
        "        plt.plot(bins, f(bins), color=\"black\")\n",
        "        plt.xlabel(\"Number of Spikes\")\n",
        "        plt.ylabel(\"Probability\")\n",
        "\n",
        "    @staticmethod\n",
        "    def plot_exponential_distribution(rate, x_range):\n",
        "        t = np.linspace(x_range[0], x_range[1], 1000)\n",
        "        pdf_values = expon.pdf(t, scale=1 / rate)\n",
        "        plt.plot(t, pdf_values, color=\"black\")\n",
        "\n",
        "    @staticmethod\n",
        "    def NonStationaryPoissonProcess(\n",
        "        rate, t_stop, burst_rate, burst_start=1 * pq.s, burst_dur=0.2 * pq.s\n",
        "    ):\n",
        "        t = np.linspace(0 * pq.s, t_stop, int(t_stop.magnitude * 1000))\n",
        "        rate_signal = np.zeros(len(t)) * pq.Hz + rate\n",
        "        idx_start = np.argmin(np.abs(t - burst_start))\n",
        "        idx_stop = np.argmin(np.abs(t - (burst_start + burst_dur)))\n",
        "        rate_signal[idx_start:idx_stop] = burst_rate\n",
        "        rate_signal = AnalogSignal(rate_signal, sampling_rate=1000 * pq.Hz)\n",
        "        neuron = NonStationaryPoissonProcess(rate_signal)\n",
        "        return neuron"
      ],
      "id": "1e3171c4"
    },
    {
      "cell_type": "markdown",
      "metadata": {},
      "source": [
        "## 2 Working With Physical Quantities\n",
        "\n",
        "In Research, we work with many physical quantities (e.g. voltage,\n",
        "frequency or time) and we use them at different orders of magnitude\n",
        "(e.g. seconds and milliseconds). This can make it difficult to keep\n",
        "track of a variable’s unit when we are combining and manipulating\n",
        "different quantities in our analysis. The `quantities` module addresses\n",
        "this problem by allowing us to attach physical units to our variables.\n",
        "When we combine variables with units, quantities will automatically\n",
        "perform the correct conversion or raise an error if we are trying to\n",
        "combine incompatible quantities.\n",
        "\n",
        "| Code | Description |\n",
        "|------------------------------------|------------------------------------|\n",
        "| `freq = 2 * pq.Hz` | Define a quantity of 2 Hertz and assign it to the variable `freq` |\n",
        "| `time = 2500 * pq.ms` | Define a quantity of 2500 milliseconds and assign it to the variable `time` |\n",
        "| `time.units` | Get the unit of `time` |\n",
        "| `time.magnitude` | Get the magnitude of `time` |\n",
        "\n",
        "------------------------------------------------------------------------\n",
        "\n",
        "<span class=\"theorem-title\">**Exercise 1**</span> Create a variable\n",
        "called `firing_rate` and assign it the value `5 * pq.Hz`."
      ],
      "id": "b3e2c186-876d-4e8b-87b9-406fc0d941f7"
    },
    {
      "cell_type": "code",
      "execution_count": 4,
      "metadata": {},
      "outputs": [
        {
          "output_type": "stream",
          "name": "stdout",
          "text": [
            "​"
          ]
        }
      ],
      "source": [],
      "id": "f3047de7"
    },
    {
      "cell_type": "markdown",
      "metadata": {},
      "source": [
        "<span class=\"theorem-title\">**Exercise 2**</span> Create a variable\n",
        "called `t_start` and assign it the value `100*pq.ms`."
      ],
      "id": "e7e59910-b369-4e91-9dca-2d34fb223322"
    },
    {
      "cell_type": "code",
      "execution_count": 6,
      "metadata": {},
      "outputs": [
        {
          "output_type": "stream",
          "name": "stdout",
          "text": [
            "​"
          ]
        }
      ],
      "source": [],
      "id": "0c49f10d"
    },
    {
      "cell_type": "markdown",
      "metadata": {},
      "source": [
        "<span class=\"theorem-title\">**Exercise 3**</span> Create a variable\n",
        "called `t_stop` and assign it the value `3 * pq.s`"
      ],
      "id": "8805265c-f0c6-4475-be23-4c31428d2f87"
    },
    {
      "cell_type": "code",
      "execution_count": 8,
      "metadata": {},
      "outputs": [
        {
          "output_type": "stream",
          "name": "stdout",
          "text": [
            "​"
          ]
        }
      ],
      "source": [],
      "id": "f4c3f443"
    },
    {
      "cell_type": "markdown",
      "metadata": {},
      "source": [
        "<span class=\"theorem-title\">**Exercise 4**</span> Compute the difference\n",
        "between `t_stop` and `t_start` and assign the result to a new variable\n",
        "`duration`. Then, print that variable."
      ],
      "id": "1b1eb47e-8648-404b-8ba5-24a20de45cee"
    },
    {
      "cell_type": "code",
      "execution_count": 10,
      "metadata": {},
      "outputs": [
        {
          "output_type": "stream",
          "name": "stdout",
          "text": [
            "​"
          ]
        }
      ],
      "source": [],
      "id": "e54ffe9a"
    },
    {
      "cell_type": "markdown",
      "metadata": {},
      "source": [
        "<span class=\"theorem-title\">**Exercise 5**</span> Get the `.magnitude`\n",
        "and the `.units` of `duration`."
      ],
      "id": "283795c5-ebff-4e7e-baf6-17eeb4369cde"
    },
    {
      "cell_type": "code",
      "execution_count": 12,
      "metadata": {},
      "outputs": [
        {
          "output_type": "stream",
          "name": "stdout",
          "text": [
            "​"
          ]
        }
      ],
      "source": [],
      "id": "2d6ad2bb"
    },
    {
      "cell_type": "markdown",
      "metadata": {},
      "source": [
        "<span class=\"theorem-title\">**Exercise 6**</span> Try adding the\n",
        "variables `firing_rate` and `duration`. What error message do you\n",
        "observe?"
      ],
      "id": "48c39fb6-f3c3-482e-9825-893bc2a53194"
    },
    {
      "cell_type": "code",
      "execution_count": 14,
      "metadata": {},
      "outputs": [
        {
          "output_type": "stream",
          "name": "stdout",
          "text": [
            "​"
          ]
        }
      ],
      "source": [],
      "id": "1e640f87"
    },
    {
      "cell_type": "markdown",
      "metadata": {},
      "source": [
        "<span class=\"theorem-title\">**Exercise 7**</span> Multiply `firing_rate`\n",
        "by `duration` and assign the result to a new variable `n_spikes`. Print\n",
        "that variable."
      ],
      "id": "b2c45b93-c07c-4854-8100-9d78ee5cbe3c"
    },
    {
      "cell_type": "code",
      "execution_count": 16,
      "metadata": {},
      "outputs": [
        {
          "output_type": "stream",
          "name": "stdout",
          "text": [
            "​"
          ]
        }
      ],
      "source": [],
      "id": "fd4ed7d9"
    },
    {
      "cell_type": "markdown",
      "metadata": {},
      "source": [
        "## 3 Simulating Randomly Firing Neurons with Poisson Processes\n",
        "\n",
        "Simulations are a great for testing data processing and analysis\n",
        "pipelines because they allow us to compare our results against a known\n",
        "ground truth. The `elephant` package provides a\n",
        "`StationaryPoissonProcess` class that simulates spiking events that\n",
        "occur at a constant average rate and independently of the time since the\n",
        "last event. A Poisson process has two parameters: the average rate of\n",
        "events and duration. In this section, we will explore how to generate\n",
        "spiketrains from Poisson neurons and how to compare the observed event\n",
        "counts against the theoretical Poisson distribution that describes the\n",
        "expected number of events.\n",
        "\n",
        "| Code | Description |\n",
        "|------------------------------------|------------------------------------|\n",
        "| `neuron = StationaryPoissonProcess(rate, t_stop=1*pq.s)` | Simulate a Poisson `neuron` with an average firing `rate` that is active from 0 to `1` seconds |\n",
        "| `st = neuron.generate_spiketrain()` | Generate a spiketrain `st` from the simulated `neuron` |\n",
        "| `st.times` | Access the `.times` of the generated spikes in the spike train `st` |\n",
        "| `sts = neuron.generate_n_spiketrains(n)` | Generate a list `sts` with `n` spiketrains from the simulated `neuron` |\n",
        "| `[st.times for st in sts]` | Get the spike times for every spike train `st` in the list `sts` |\n",
        "| `ax1 = plt.subplot(2, 1, 1)` | Generate the 1st plot in a 2-by-1 subplot and assign the returned object to a variable `ax1` |\n",
        "| `plt.subplot(2, 1, 2, sharex=ax1)` | Generate the 2nd plot in a 2-by-1 subplot and make it share the x-axis with `ax1` |\n",
        "| `plt.eventplot(st.times)` | Create a raster plot of the spike times `st.times` |\n",
        "| `plt.eventplot([st.times for st in sts])` | Create a raster plot with each spike train in the list of spike trains `sts` |\n",
        "| `plt.hist(x, density=True)` | Plot the densities of the values in `x` as a histogram |\n",
        "\n",
        "------------------------------------------------------------------------\n",
        "\n",
        "<span class=\"theorem-title\">**Example 1**</span> Simulate a neuron as a\n",
        "`StationaryPoissonProcess` with a `rate=5*pq.Hz` and `t_stop=10*pq.s`.\n",
        "Then, generate a spike train `st` and print its length (i.e. the number\n",
        "of spikes)."
      ],
      "id": "7e616195-3869-4a5c-a0ba-fc475fa3b8ec"
    },
    {
      "cell_type": "code",
      "execution_count": 17,
      "metadata": {},
      "outputs": [
        {
          "output_type": "display_data",
          "metadata": {},
          "data": {
            "text/plain": [
              "47"
            ]
          }
        }
      ],
      "source": [
        "neuron = StationaryPoissonProcess(rate=5 * pq.Hz, t_stop=10 * pq.s)\n",
        "st = neuron.generate_spiketrain()\n",
        "len(st)"
      ],
      "id": "65c99b7c"
    },
    {
      "cell_type": "markdown",
      "metadata": {},
      "source": [
        "<span class=\"theorem-title\">**Example 2**</span> Print the spike times\n",
        "`st.times` with `plt.eventplot`."
      ],
      "id": "b4bf0703-3d52-45a5-80c4-187f3b88c48f"
    },
    {
      "cell_type": "code",
      "execution_count": 18,
      "metadata": {},
      "outputs": [
        {
          "output_type": "display_data",
          "metadata": {},
          "data": {
            "image/png": "[encoded data removed]"
          }
        }
      ],
      "source": [
        "plt.eventplot(st.times)"
      ],
      "id": "6158f681"
    },
    {
      "cell_type": "markdown",
      "metadata": {},
      "source": [
        "<span class=\"theorem-title\">**Exercise 8**</span> Simulate a neuron as a\n",
        "`StationaryPoissonProcess` with a `rate=1*pq.Hz` and `t_stop=10*pq.s`.\n",
        "Then, generate a spike train `st` and print its length (i.e. the number\n",
        "of spikes)."
      ],
      "id": "dbcf1d8f-e184-4c50-9279-1d40fb9ae375"
    },
    {
      "cell_type": "code",
      "execution_count": 20,
      "metadata": {},
      "outputs": [
        {
          "output_type": "stream",
          "name": "stdout",
          "text": [
            "​"
          ]
        }
      ],
      "source": [],
      "id": "89e73ecb"
    },
    {
      "cell_type": "markdown",
      "metadata": {},
      "source": [
        "<span class=\"theorem-title\">**Exercise 9**</span> Print the spike times\n",
        "`st.times` with `plt.eventplot`."
      ],
      "id": "3e65e971-4624-4747-b981-d6f4b1644ab3"
    },
    {
      "cell_type": "code",
      "execution_count": 22,
      "metadata": {},
      "outputs": [
        {
          "output_type": "stream",
          "name": "stdout",
          "text": [
            "​"
          ]
        }
      ],
      "source": [],
      "id": "a925833e"
    },
    {
      "cell_type": "markdown",
      "metadata": {},
      "source": [
        "<span class=\"theorem-title\">**Exercise 10**</span> Simulate a neuron as\n",
        "a `StationaryPoissonProcess` with a `rate=0.1*pq.Hz` and\n",
        "`t_stop=2*pq.s`. Then, generate a spike train `st` and plot it with\n",
        "`plt.eventplot`. Did you see any spikes?"
      ],
      "id": "6de55aa6-60a2-44e9-9dc9-17fc59bbe418"
    },
    {
      "cell_type": "code",
      "execution_count": 24,
      "metadata": {},
      "outputs": [
        {
          "output_type": "stream",
          "name": "stdout",
          "text": [
            "​"
          ]
        }
      ],
      "source": [],
      "id": "02564570"
    },
    {
      "cell_type": "markdown",
      "metadata": {},
      "source": [
        "<span class=\"theorem-title\">**Example 3**</span> Generate `100` spike\n",
        "trains from the neuron, then get the times `st.times` for every spike\n",
        "train `st` in the list of spike trains `sts`."
      ],
      "id": "5a08c104-d13e-4f1a-b7a8-78cb1a5f5fb0"
    },
    {
      "cell_type": "code",
      "execution_count": 25,
      "metadata": {},
      "outputs": [
        {
          "output_type": "display_data",
          "metadata": {},
          "data": {
            "image/png": "[encoded data removed]"
          }
        }
      ],
      "source": [
        "sts = neuron.generate_n_spiketrains(100)\n",
        "plt.eventplot([st.times for st in sts]);"
      ],
      "id": "8e1a0a38"
    },
    {
      "cell_type": "markdown",
      "metadata": {},
      "source": [
        "<span class=\"theorem-title\">**Exercise 11**</span> Generate `500` spike\n",
        "trains from the neuron, then get the times `st.times` for every spike\n",
        "train `st` in the list of spike trains `sts`."
      ],
      "id": "55585783-b567-4df5-8906-89defdc45ca1"
    },
    {
      "cell_type": "code",
      "execution_count": 27,
      "metadata": {},
      "outputs": [
        {
          "output_type": "stream",
          "name": "stdout",
          "text": [
            "​"
          ]
        }
      ],
      "source": [],
      "id": "e877998f"
    },
    {
      "cell_type": "markdown",
      "metadata": {},
      "source": [
        "<span class=\"theorem-title\">**Example 4**</span> Generate `10`\n",
        "spiketrains from a `neuron` with `rate=1*pq.Hz` and `t_stop=10*pq.s`.\n",
        "Then, get the number of spikes `n_spikes` from every spike train `st` in\n",
        "the list of spike trains `sts` and plot their `density` as a histogram."
      ],
      "id": "154b25e8-e13e-4a56-b0bf-a17786e99aff"
    },
    {
      "cell_type": "code",
      "execution_count": 28,
      "metadata": {},
      "outputs": [
        {
          "output_type": "display_data",
          "metadata": {},
          "data": {
            "text/plain": [
              "(array([0.1, 0.1, 0.2, 0.2, 0.2, 0. , 0.1, 0. , 0. , 0.1]),\n",
              " array([ 8.,  9., 10., 11., 12., 13., 14., 15., 16., 17., 18.]),\n",
              " <BarContainer object of 10 artists>)"
            ]
          }
        },
        {
          "output_type": "display_data",
          "metadata": {},
          "data": {
            "image/png": "[encoded data removed]"
          }
        }
      ],
      "source": [
        "neuron = StationaryPoissonProcess(rate=1*pq.Hz, t_stop=10*pq.s)\n",
        "sts = neuron.generate_n_spiketrains(10)\n",
        "n_spikes = [len(st) for st in sts]\n",
        "plt.hist(n_spikes, density=True)"
      ],
      "id": "679c8427"
    },
    {
      "cell_type": "markdown",
      "metadata": {},
      "source": [
        "<span class=\"theorem-title\">**Exercise 12**</span> Generate `100` spike\n",
        "trains from the same `neuron`, get the number of spikes in every spike\n",
        "train and plot their density as a histogram."
      ],
      "id": "ab7f3e0d-4297-437d-a671-628126c5eaa4"
    },
    {
      "cell_type": "code",
      "execution_count": 30,
      "metadata": {},
      "outputs": [
        {
          "output_type": "stream",
          "name": "stdout",
          "text": [
            "​"
          ]
        }
      ],
      "source": [],
      "id": "e6ad1328"
    },
    {
      "cell_type": "markdown",
      "metadata": {},
      "source": [
        "<span class=\"theorem-title\">**Exercise 13**</span> Generate `100` spike\n",
        "trains from the same `neuron`, get the number of spikes in every spike\n",
        "train and plot their density as a histogram."
      ],
      "id": "b3e48d8f-895c-46f6-9b52-f7af19dfbabd"
    },
    {
      "cell_type": "code",
      "execution_count": 32,
      "metadata": {},
      "outputs": [
        {
          "output_type": "stream",
          "name": "stdout",
          "text": [
            "​"
          ]
        }
      ],
      "source": [],
      "id": "ea9d0359"
    },
    {
      "cell_type": "markdown",
      "metadata": {},
      "source": [
        "<span class=\"theorem-title\">**Example 5**</span> Plot a histogram with\n",
        "the density of the observed number of spikes together with the\n",
        "theoretical Poisson distribution for a neuron with the given `rate` and\n",
        "`duration`."
      ],
      "id": "3c6a11c0-1fb7-40fb-8ea2-3aa389ca1706"
    },
    {
      "cell_type": "code",
      "execution_count": 33,
      "metadata": {},
      "outputs": [
        {
          "output_type": "display_data",
          "metadata": {},
          "data": {
            "image/png": "[encoded data removed]"
          }
        }
      ],
      "source": [
        "plt.hist(n_spikes, density=True)\n",
        "utils.plot_poisson_distribution(\n",
        "    rate=neuron.rate, duration=neuron.t_stop, x_range=(min(n_spikes)-1, max(n_spikes)+1)\n",
        ")"
      ],
      "id": "70f0e0d1"
    },
    {
      "cell_type": "markdown",
      "metadata": {},
      "source": [
        "<span class=\"theorem-title\">**Exercise 14**</span> Generate `100` spike\n",
        "trains from a `StationaryPoissonProcess` with a `rate=10*pq.Hz` and\n",
        "`t_stop=20*pq.s`. Then, get the number of spikes for each spike train\n",
        "and plot a histogram with their density together with the theoretical\n",
        "Poisson distribution for a neuron with the given `rate` and `duration`."
      ],
      "id": "c1e47992-e393-48b0-a479-e1cac60948e1"
    },
    {
      "cell_type": "code",
      "execution_count": 35,
      "metadata": {},
      "outputs": [
        {
          "output_type": "stream",
          "name": "stdout",
          "text": [
            "​"
          ]
        }
      ],
      "source": [],
      "id": "5dc40f68"
    },
    {
      "cell_type": "markdown",
      "metadata": {},
      "source": [
        "<span class=\"theorem-title\">**Exercise 15**</span> Generate `100` spike\n",
        "trains from a `StationaryPoissonProcess` with a `rate=0.1*pq.Hz` and\n",
        "`t_stop=20*pq.s`, get the number of spikes for each spike train and plot\n",
        "a histogram with their density together with the theoretical Poisson\n",
        "distribution."
      ],
      "id": "08360597-d1d0-4020-a6c8-86cca081e564"
    },
    {
      "cell_type": "code",
      "execution_count": 37,
      "metadata": {},
      "outputs": [
        {
          "output_type": "stream",
          "name": "stdout",
          "text": [
            "​"
          ]
        }
      ],
      "source": [],
      "id": "921da3e1"
    },
    {
      "cell_type": "markdown",
      "metadata": {},
      "source": [
        "<span class=\"theorem-title\">**Exercise 16**</span> Generate `1000` spike\n",
        "trains from the same neuron, get the number of spikes for every spike\n",
        "train and plot a histogram with their density together with the\n",
        "theoretical poisson distribution."
      ],
      "id": "58d6c16b-0037-4076-b091-b117e57fbc1c"
    },
    {
      "cell_type": "code",
      "execution_count": 39,
      "metadata": {},
      "outputs": [
        {
          "output_type": "stream",
          "name": "stdout",
          "text": [
            "​"
          ]
        }
      ],
      "source": [],
      "id": "e8472d8b"
    },
    {
      "cell_type": "markdown",
      "metadata": {},
      "source": [
        "## 4 Simulating Bursting Neurons with Non-Stationary Poisson Processes\n",
        "\n",
        "While the Poisson process allows us to simulate randomly spiking\n",
        "neurons, in many situations, we want to simulate neurons that respond to\n",
        "some particular event. This can be done using a non-stationary Process\n",
        "which works just like the regular poisson Process, except that its rate\n",
        "varies across time. By setting the time varying rate, we can simulate\n",
        "neurons that respond with bursting at specific points in time.\n",
        "\n",
        "| Code | Description |\n",
        "|------------------------------------|------------------------------------|\n",
        "| `neuron = utils.NonStationaryPoissonProcess(rate, t_start, burst_rate)` | Simulate a neuron that increases its `rate` to a given `burst_rate` |\n",
        "| `neuron = utils.NonStationaryPoissonProcess(rate, t_start, burst_rate, burst_start, burst_dur)` | Simulate a neuron that increases its `rate` to a given `burst_rate` at the given `burst_start` for the `burst_dur` |\n",
        "| `neuron.rate_signal` | Access the time-varying `.rate_signal` of the simulated `neuron` |\n",
        "| `neuron.rate_signal.times` | Access the time points of the simulated neurons’ `.rate_signal` |\n",
        "\n",
        "------------------------------------------------------------------------\n",
        "\n",
        "<span class=\"theorem-title\">**Example 6**</span> Use\n",
        "`utils.NonStationaryPoissonProcess()` with `rate =5*pq.Hz`,\n",
        "`t_stop=2*pq.s` and `burst_rate=100*pq.Hz` to simulate a `neuron` and\n",
        "plot its `rate_signal`."
      ],
      "id": "05cb6614-cccb-4d1d-a67a-c77d33a4ab66"
    },
    {
      "cell_type": "code",
      "execution_count": 40,
      "metadata": {},
      "outputs": [
        {
          "output_type": "display_data",
          "metadata": {},
          "data": {
            "image/png": "[encoded data removed]"
          }
        }
      ],
      "source": [
        "neuron = utils.NonStationaryPoissonProcess(\n",
        "    rate=5 * pq.Hz,\n",
        "    t_stop=2 * pq.s,\n",
        "    burst_rate=100 * pq.Hz,\n",
        ")\n",
        "plt.plot(neuron.rate_signal.times, neuron.rate_signal)"
      ],
      "id": "37aad554"
    },
    {
      "cell_type": "markdown",
      "metadata": {},
      "source": [
        "<span class=\"theorem-title\">**Example 7**</span> Generate a spiketrain\n",
        "from the `neuron`. Then, plot the neurons `.rate_signal` together with\n",
        "the spike times `st` in a 2-by-1 subplot grid with a shared x-axis."
      ],
      "id": "455fec5d-23b2-495c-af7b-55704b453c30"
    },
    {
      "cell_type": "code",
      "execution_count": 41,
      "metadata": {},
      "outputs": [
        {
          "output_type": "display_data",
          "metadata": {},
          "data": {
            "image/png": "[encoded data removed]"
          }
        }
      ],
      "source": [
        "st = neuron.generate_spiketrain()\n",
        "ax1 = plt.subplot(2, 1, 1)\n",
        "plt.plot(neuron.rate_signal.times, neuron.rate_signal)\n",
        "ax2 = plt.subplot(2, 1, 2, sharex=ax1)\n",
        "plt.eventplot(st.times)"
      ],
      "id": "bb8434a3"
    },
    {
      "cell_type": "markdown",
      "metadata": {},
      "source": [
        "<span class=\"theorem-title\">**Exercise 17**</span> Use\n",
        "`utils.NonStationaryPoissonProcess` with `rate=15*pq.Hz`,\n",
        "`t_stop=2*pq.s` and `burst_rate=30*pq.Hz` to simulate a `neuron` and\n",
        "plot its `.rate_signal`."
      ],
      "id": "1cff7a3b-47c9-44b9-ba03-eaf93f7e0a2c"
    },
    {
      "cell_type": "code",
      "execution_count": 43,
      "metadata": {},
      "outputs": [
        {
          "output_type": "stream",
          "name": "stdout",
          "text": [
            "​"
          ]
        }
      ],
      "source": [],
      "id": "b3f4464c"
    },
    {
      "cell_type": "markdown",
      "metadata": {},
      "source": [
        "<span class=\"theorem-title\">**Exercise 18**</span> Generate a spiketrain\n",
        "from the `neuron`. Then, plot the neurons `.rate_signal` together with\n",
        "the spike times `st` in a 2-by-1 subplot grid with a shared x-axis."
      ],
      "id": "611df7ee-eb5b-4ed4-bae0-0fd75fcaa1b8"
    },
    {
      "cell_type": "code",
      "execution_count": 45,
      "metadata": {},
      "outputs": [
        {
          "output_type": "stream",
          "name": "stdout",
          "text": [
            "​"
          ]
        }
      ],
      "source": [],
      "id": "2cb8bc21"
    },
    {
      "cell_type": "markdown",
      "metadata": {},
      "source": [
        "<span class=\"theorem-title\">**Exercise 19**</span> Use\n",
        "`utils.NonStationaryPoissonProcess` with the arguments\n",
        "`burst_start=1.2*pq.s` and `burst_dur=0.5*pq.s`. Then, generate a\n",
        "spiketrain from the `neuron` and plot the neurons `.rate_signal`\n",
        "together with the spike times `st` in a 2-by-1 subplot grid with a\n",
        "shared x-axis."
      ],
      "id": "9bd4cd29-c0a9-4e42-9a8e-62e93502d0ee"
    },
    {
      "cell_type": "code",
      "execution_count": 47,
      "metadata": {},
      "outputs": [
        {
          "output_type": "stream",
          "name": "stdout",
          "text": [
            "​"
          ]
        }
      ],
      "source": [],
      "id": "44181d8f"
    },
    {
      "cell_type": "markdown",
      "metadata": {},
      "source": [
        "<span class=\"theorem-title\">**Exercise 20**</span> Generate `500` spike\n",
        "trains from the simulated `neuron` and use `plt.eventplot` to plot each\n",
        "spike train `st` in the list of spike trains `sts`."
      ],
      "id": "b77978b9-bef9-4341-8cfe-15c3abd470a6"
    },
    {
      "cell_type": "code",
      "execution_count": 49,
      "metadata": {},
      "outputs": [
        {
          "output_type": "stream",
          "name": "stdout",
          "text": [
            "​"
          ]
        }
      ],
      "source": [],
      "id": "e8c85705"
    },
    {
      "cell_type": "markdown",
      "metadata": {},
      "source": [
        "## 5 Inter-Spike Intervals (ISIs) and the Coefficient of Variation (CV)\n",
        "\n",
        "So far, we mostly cared about spike times but the inter spike intervals\n",
        "(ISIs) carry important information as well. From the ISIs, we can\n",
        "compute the coefficient of variation CV by dividing the standard\n",
        "deviation of the ISIs by their mean:\n",
        "\n",
        "$$\n",
        "CV = \\frac{\\sigma_{ISI}}{\\mu_{ISI}}\n",
        "$$\n",
        "\n",
        "In a pure Poisson process, the ISIs follow an exponential distribution.\n",
        "n a pure Poisson process, the ISIs follow an exponential distribution.\n",
        "For this distribution, the standard deviation is equal to the mean,\n",
        "leading to a CV of 1. If a neuron responds by bursting, the standard\n",
        "deviation of the ISIs will exceed the mean leading to a CV above 1. If\n",
        "the neuron fires more regularly, the CV will go below one. In this\n",
        "section we will compute and visualize the CV for various kinds of\n",
        "simulated spike trains.\n",
        "\n",
        "| Code | Description |\n",
        "|------------------------------------|------------------------------------|\n",
        "| `isis = isi(st)` | Compute the inter-spike intervals (ISIs) for the spikes in a spike train `st` |\n",
        "| `cv = isis.std()/isis.mean()` | Compute the coefficient of variation by dividing the `.std()` of the ISIs by their `.mean()` |\n",
        "| `utils.plot_exponential_distribution(rate, x_range)` | Plot an exponential distribution for the ISIs of a Poisson neuron with a given `rate` across the given `x_range` |\n",
        "| `neuron = StationaryPoissonProcess(rate, t_stop, refractory_period)` | Simulate a neuron with a `refractory_period` |\n",
        "| `plt.axvline(x=1, color=\"black\")` | Add a black vertical line at `x=1` |\n",
        "\n",
        "------------------------------------------------------------------------\n",
        "\n",
        "<span class=\"theorem-title\">**Exercise 21**</span> Compute the\n",
        "inter-spike intervals for the spike train `st` generated below using the\n",
        "`isi()` function and compute the mean inter-spike interval."
      ],
      "id": "371c6bff-a004-4b31-972b-83a2c5018bc2"
    },
    {
      "cell_type": "code",
      "execution_count": 50,
      "metadata": {},
      "outputs": [],
      "source": [
        "neuron = StationaryPoissonProcess(rate=3 * pq.Hz, t_stop=60 * pq.s)\n",
        "st = neuron.generate_spiketrain()"
      ],
      "id": "21eb1161"
    },
    {
      "cell_type": "code",
      "execution_count": 52,
      "metadata": {},
      "outputs": [
        {
          "output_type": "stream",
          "name": "stdout",
          "text": [
            "​"
          ]
        }
      ],
      "source": [],
      "id": "a282e949"
    },
    {
      "cell_type": "markdown",
      "metadata": {},
      "source": [
        "<span class=\"theorem-title\">**Exercise 22**</span> Compute the\n",
        "inter-spike intervals for the spike train `st` generated below. What is\n",
        "the relationship between the mean ISI and the neuron’s `rate`?"
      ],
      "id": "d72fb000-6202-4764-8637-d910bf17f4c8"
    },
    {
      "cell_type": "code",
      "execution_count": 53,
      "metadata": {},
      "outputs": [],
      "source": [
        "neuron = StationaryPoissonProcess(rate=10 * pq.Hz, t_stop=60 * pq.s)\n",
        "st = neuron.generate_spiketrain()"
      ],
      "id": "c2434e2e"
    },
    {
      "cell_type": "code",
      "execution_count": 55,
      "metadata": {},
      "outputs": [
        {
          "output_type": "stream",
          "name": "stdout",
          "text": [
            "​"
          ]
        }
      ],
      "source": [],
      "id": "9c3464ee"
    },
    {
      "cell_type": "markdown",
      "metadata": {},
      "source": [
        "<span class=\"theorem-title\">**Example 8**</span> Plot a histogram with\n",
        "the densities of the observed ISIs `isis.magnitude` together with the\n",
        "theoretical exponential distribution that describes the expected ISIs\n",
        "for a neuron with the given `rate`."
      ],
      "id": "fec1f91a-2c20-4c15-83cb-265dbd05dd70"
    },
    {
      "cell_type": "code",
      "execution_count": 56,
      "metadata": {},
      "outputs": [
        {
          "output_type": "display_data",
          "metadata": {},
          "data": {
            "image/png": "[encoded data removed]"
          }
        }
      ],
      "source": [
        "plt.hist(isis.magnitude, density=True)\n",
        "utils.plot_exponential_distribution(rate=neuron.rate, x_range=(0, isis.max().magnitude))"
      ],
      "id": "06a0c080"
    },
    {
      "cell_type": "markdown",
      "metadata": {},
      "source": [
        "<span class=\"theorem-title\">**Exercise 23**</span> Compute the ISIs for\n",
        "the spike train `st` generated below and plot a histogram with their\n",
        "densities together with the theoretical exponential distribution."
      ],
      "id": "22cd70c0-0660-4b3f-920f-6766246acfab"
    },
    {
      "cell_type": "code",
      "execution_count": 57,
      "metadata": {},
      "outputs": [],
      "source": [
        "neuron = StationaryPoissonProcess(rate=0.5 * pq.Hz, t_stop=30 * pq.s)\n",
        "st = neuron.generate_spiketrain()"
      ],
      "id": "53e3a091"
    },
    {
      "cell_type": "code",
      "execution_count": 59,
      "metadata": {},
      "outputs": [
        {
          "output_type": "stream",
          "name": "stdout",
          "text": [
            "​"
          ]
        }
      ],
      "source": [],
      "id": "b2e80fa4"
    },
    {
      "cell_type": "markdown",
      "metadata": {},
      "source": [
        "<span class=\"theorem-title\">**Exercise 24**</span> Increase the `t_stop`\n",
        "of the simulated `neuron` to `1000*pq.s`, generate a new spike train and\n",
        "plot a histogram with their densities togteher with the theoretical\n",
        "exponential distribution."
      ],
      "id": "0feb19f1-36e9-42b6-91d4-02d0ebadfb5a"
    },
    {
      "cell_type": "code",
      "execution_count": 61,
      "metadata": {},
      "outputs": [
        {
          "output_type": "stream",
          "name": "stdout",
          "text": [
            "​"
          ]
        }
      ],
      "source": [],
      "id": "df1531f5"
    },
    {
      "cell_type": "markdown",
      "metadata": {},
      "source": [
        "<span class=\"theorem-title\">**Example 9**</span> Compute the coefficient\n",
        "of variation (`cv`) by dividing the standard deviation of inter spike\n",
        "intervals from the spike train `st` by their mean."
      ],
      "id": "2d5869ce-4f92-4824-990a-8dcfbaf390e7"
    },
    {
      "cell_type": "code",
      "execution_count": 62,
      "metadata": {},
      "outputs": [
        {
          "output_type": "display_data",
          "metadata": {},
          "data": {
            "text/plain": [
              "array(0.95961191) * dimensionless"
            ]
          }
        }
      ],
      "source": [
        "isis = isi(st)\n",
        "cv = isis.std()/isis.mean()\n",
        "cv"
      ],
      "id": "43090db1"
    },
    {
      "cell_type": "markdown",
      "metadata": {},
      "source": [
        "<span class=\"theorem-title\">**Example 10**</span> Compute the `isis` for\n",
        "every spike train in the list of spike trains `sts` and compute the\n",
        "`cvs` from the list of `isis`."
      ],
      "id": "750e8417-d3b5-4429-ac92-f5c1770bef17"
    },
    {
      "cell_type": "code",
      "execution_count": 63,
      "metadata": {},
      "outputs": [
        {
          "output_type": "display_data",
          "metadata": {},
          "data": {
            "text/plain": [
              "[array(0.67959246) * dimensionless,\n",
              " array(0.) * dimensionless,\n",
              " array(0.74811293) * dimensionless,\n",
              " array(0.42115717) * dimensionless,\n",
              " array(0.53399239) * dimensionless,\n",
              " array(0.94282019) * dimensionless,\n",
              " array(0.) * dimensionless,\n",
              " array(0.) * dimensionless,\n",
              " array(0.48298473) * dimensionless,\n",
              " array(0.) * dimensionless]"
            ]
          }
        }
      ],
      "source": [
        "neuron = StationaryPoissonProcess(rate=0.5 * pq.Hz, t_stop=10 * pq.s)\n",
        "sts = neuron.generate_n_spiketrains(10)\n",
        "isis = [isi(st) for st in sts]\n",
        "cvs = [i.std() / i.mean() for i in isis]\n",
        "cvs"
      ],
      "id": "eb37caf7"
    },
    {
      "cell_type": "markdown",
      "metadata": {},
      "source": [
        "<span class=\"theorem-title\">**Exercise 25**</span> Compute the `cvs` for\n",
        "the list of spike trains `sts` generated below and plot them in a\n",
        "histogram. Add a `\"black\"` vertical line at `x=1`"
      ],
      "id": "5916a071-b33e-4997-bc00-54db6bc525a1"
    },
    {
      "cell_type": "code",
      "execution_count": 64,
      "metadata": {},
      "outputs": [],
      "source": [
        "neuron = StationaryPoissonProcess(rate=5 * pq.Hz, t_stop=20 * pq.s)\n",
        "sts = neuron.generate_n_spiketrains(1000)"
      ],
      "id": "34727a1e"
    },
    {
      "cell_type": "code",
      "execution_count": 66,
      "metadata": {},
      "outputs": [
        {
          "output_type": "stream",
          "name": "stdout",
          "text": [
            "​"
          ]
        }
      ],
      "source": [],
      "id": "450315d7"
    },
    {
      "cell_type": "markdown",
      "metadata": {},
      "source": [
        "<span class=\"theorem-title\">**Exercise 26**</span> Change the `rate` of\n",
        "the `neuron` above to `20*pq.Hz` and generate `1000` new spike trains.\n",
        "Then, compute the `cvs` and plot them in a histogram. Add a vertical\n",
        "line at `x=1`. Did quadrupling the `rate` change the distribution of\n",
        "CVs?"
      ],
      "id": "a87cb1a4-cb05-495b-aa89-9da9145185d7"
    },
    {
      "cell_type": "code",
      "execution_count": 68,
      "metadata": {},
      "outputs": [
        {
          "output_type": "stream",
          "name": "stdout",
          "text": [
            "​"
          ]
        }
      ],
      "source": [],
      "id": "d26077f9"
    },
    {
      "cell_type": "markdown",
      "metadata": {},
      "source": [
        "<span class=\"theorem-title\">**Exercise 27**</span> Simulate a neuron\n",
        "using a `StationaryPoissonProcess` with `refractory_period=2*pq.ms` and\n",
        "generate `1000` spike trains. Then, compute the `cvs` and plot them in a\n",
        "histogram. Add a vertical line at `x=1`."
      ],
      "id": "f26ebb26-dd05-4377-b018-04dbd1b076c3"
    },
    {
      "cell_type": "code",
      "execution_count": 70,
      "metadata": {},
      "outputs": [
        {
          "output_type": "stream",
          "name": "stdout",
          "text": [
            "​"
          ]
        }
      ],
      "source": [],
      "id": "4ce6c804"
    },
    {
      "cell_type": "markdown",
      "metadata": {},
      "source": [
        "<span class=\"theorem-title\">**Exercise 28**</span> Increase the\n",
        "refractory period to `10*pq.ms` and generate `1000` new spike trains.\n",
        "Then, compute the `cvs` and plot them in a histogram. Add a vertical\n",
        "line at `x=1`. What effect does the refractory period have on the\n",
        "distribution of CVs?"
      ],
      "id": "96f51e55-02cd-49c4-ba12-5786bee1bf1a"
    },
    {
      "cell_type": "code",
      "execution_count": 72,
      "metadata": {},
      "outputs": [
        {
          "output_type": "stream",
          "name": "stdout",
          "text": [
            "​"
          ]
        }
      ],
      "source": [],
      "id": "f4bef41d"
    },
    {
      "cell_type": "markdown",
      "metadata": {},
      "source": [
        "<span class=\"theorem-title\">**Exercise 29**</span> Compute the `cvs` for\n",
        "the list of spike trains `sts` generated below and plot them in a\n",
        "histogram. Add a `\"black\"` vertical line at `x=1`"
      ],
      "id": "994df363-9204-47a1-9652-ea884e46e580"
    },
    {
      "cell_type": "code",
      "execution_count": 73,
      "metadata": {},
      "outputs": [],
      "source": [
        "neuron = utils.NonStationaryPoissonProcess(\n",
        "    rate=5 * pq.Hz, t_stop=2 * pq.s, burst_rate=20 * pq.Hz\n",
        ")\n",
        "sts = neuron.generate_n_spiketrains(1000)"
      ],
      "id": "6779350c"
    },
    {
      "cell_type": "code",
      "execution_count": 75,
      "metadata": {},
      "outputs": [
        {
          "output_type": "stream",
          "name": "stdout",
          "text": [
            "​"
          ]
        }
      ],
      "source": [],
      "id": "281f74d7"
    },
    {
      "cell_type": "markdown",
      "metadata": {},
      "source": [
        "<span class=\"theorem-title\">**Exercise 30**</span> Increase the\n",
        "`burst_rate` to `60*pq.Hz` and generate `1000` new spike trains. Then,\n",
        "compute the `cvs` and plot them in a histogram. Add a vertical line at\n",
        "`x=1`. What effect does the increased bursting have on the distribution\n",
        "of CVs?"
      ],
      "id": "7c2a2f99-cb0e-4563-af85-0876226d580b"
    },
    {
      "cell_type": "code",
      "execution_count": 77,
      "metadata": {},
      "outputs": [
        {
          "output_type": "stream",
          "name": "stdout",
          "text": [
            "​"
          ]
        }
      ],
      "source": [],
      "id": "d2ff994c"
    }
  ],
  "nbformat": 4,
  "nbformat_minor": 5,
  "metadata": {
    "kernelspec": {
      "name": "python3",
      "display_name": "Python 3 (ipykernel)",
      "language": "python",
      "path": "/home/olebi/courses/Intro-to-Neural-Spike-Analysis-in-Python/.pixi/envs/default/share/jupyter/kernels/python3"
    }
  }
}