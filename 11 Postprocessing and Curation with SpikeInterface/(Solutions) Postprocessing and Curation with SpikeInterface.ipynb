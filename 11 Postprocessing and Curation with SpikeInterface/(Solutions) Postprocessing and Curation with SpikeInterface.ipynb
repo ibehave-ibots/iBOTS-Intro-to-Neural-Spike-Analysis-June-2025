{
  "cells": [
    {
      "cell_type": "markdown",
      "metadata": {},
      "source": [
        "# Postprocessing and Curation with SpikeInterface\n",
        "\n",
        "## 1 Preparation\n",
        "\n",
        "Import the modules required for this notebook"
      ],
      "id": "7967a17f-3535-4d5d-91af-9575953aef5a"
    },
    {
      "cell_type": "code",
      "execution_count": 1,
      "metadata": {},
      "outputs": [],
      "source": [
        "import numpy as np\n",
        "from matplotlib import pyplot as plt\n",
        "import spikeinterface.full as si\n",
        "import probeinterface as pi\n",
        "from probeinterface.plotting import plot_probe\n",
        "\n",
        "%matplotlib inline"
      ],
      "id": "1e7585a5"
    },
    {
      "cell_type": "markdown",
      "metadata": {},
      "source": [
        "Download the data for this notebook (this may take a while)"
      ],
      "id": "ce36a4a1-7dc0-42d6-818c-4d14ded5796c"
    },
    {
      "cell_type": "code",
      "execution_count": 2,
      "metadata": {},
      "outputs": [],
      "source": [
        "import os\n",
        "import zipfile\n",
        "import requests\n",
        "\n",
        "fnames = [\"openephys_preprocessed\", \"results_KS4\", \"results_SPC\", \"results_TDC\"]\n",
        "urls = [\n",
        "    \"https://uni-bonn.sciebo.de/s/2LbWWs3VPVrQkLO\",\n",
        "    \"https://uni-bonn.sciebo.de/s/26X6qhAAYq1uJfZ\",\n",
        "    \"https://uni-bonn.sciebo.de/s/FnRPj7EQSYXFIEg\",\n",
        "    \"https://uni-bonn.sciebo.de/s/EkdnDNhvF68HC9D\",\n",
        "]\n",
        "\n",
        "for url, fname in zip(urls, fnames):\n",
        "    print(\"downloading\", fname)\n",
        "    response = requests.get(f\"{url}/download\")\n",
        "    with open(f\"{fname}.zip\", \"wb\") as file:\n",
        "        file.write(response.content)\n",
        "\n",
        "    with zipfile.ZipFile(f\"{fname}.zip\", \"r\") as zip_ref:\n",
        "        zip_ref.extractall(\".\")\n",
        "        extracted_name = zip_ref.namelist()[0].split(\"/\")[0]\n",
        "        if extracted_name != fname:\n",
        "            os.rename(extracted_name, fname)\n",
        "    os.remove(f\"{fname}.zip\")\n",
        "print(\"Done!\")"
      ],
      "id": "ffe5e84b"
    },
    {
      "cell_type": "markdown",
      "metadata": {},
      "source": [
        "## 2 Extracting Waveforms and Computing Templates\n",
        "\n",
        "After spike sorting, we have the times when spikes occurred, but to\n",
        "validate and understand the sorted units, we need to examine their\n",
        "shapes. This process involves extracting the raw voltage “snippets”\n",
        "(waveforms) around each detected spike time. SpikeInterface streamlines\n",
        "this with the SortingAnalyzer object, a central hub that links a sorting\n",
        "result with its corresponding recording. In this section, you will learn\n",
        "how to create an analyzer and compute “extensions” like spike waveforms\n",
        "and average templates, which are the basis for all subsequent quality\n",
        "control and analysis.\n",
        "\n",
        "| Code | Description |\n",
        "|------------------------------------|------------------------------------|\n",
        "| `rec = si.load_extractor(\"mydir\")` | Load a recording extractor stored in the folder `\"mydir\"`. |\n",
        "| `sorting = si.read_sorter_folder(\"results_SPC\")` | Load spike sorting results from a folder. |\n",
        "| `analyzer = si.create_sorting_analyzer(sorting, rec)` | Create an analyzer by pairing sorting results with the recording. |\n",
        "| `analyzer.compute(\"random_spikes\", **kwargs)` | Randomly sample spikes from each unit for efficient processing. |\n",
        "| `analyzer.compute(\"waveforms\", **kwargs)` | Extract spike waveforms for the sampled spikes. |\n",
        "| `analyzer.compute(\"templates\", **kwargs)` | Compute average templates from the extracted waveforms. |\n",
        "| `ext = analyzer.get_extension(\"extension_name\")` | Get a computed extension (e.g., “waveforms”) from the analyzer. |\n",
        "| `ext.get_data()` | Get the raw data from an extension object. |\n",
        "| `ext.get_waveforms_one_unit(unit_id)` | Get the waveforms for a single specified unit. |\n",
        "| `ext.get_unit_template(unit_id, operator)` | Get the template for a single unit (e.g., using “average” or “median”). |\n",
        "| `plt.plot(template)` | Plot the average template waveform. |\n",
        "\n",
        "------------------------------------------------------------------------\n",
        "\n",
        "Load the recoring extractor stored in the directory\n",
        "`\"openephys_preprocessed\"` and the sorting results stored in the\n",
        "directory `\"results_SPC\"` and create a sorting `analyzer`."
      ],
      "id": "5ea221bd-691c-4de1-b5c4-36ffd1890e11"
    },
    {
      "cell_type": "code",
      "execution_count": 3,
      "metadata": {},
      "outputs": [
        {
          "output_type": "display_data",
          "metadata": {},
          "data": {
            "application/vnd.jupyter.widget-view+json": {
              "model_id": "75cc7b57b69e4eb7a2bb8b48d2cde5be",
              "version_major": 2,
              "version_minor": 0
            }
          }
        }
      ],
      "source": [
        "rec = si.load(\"openephys_preprocessed\")\n",
        "sort = si.read_sorter_folder(\"results_SPC\")\n",
        "analyzer = si.create_sorting_analyzer(sort, rec)"
      ],
      "id": "e48c4a8d"
    },
    {
      "cell_type": "markdown",
      "metadata": {},
      "source": [
        "<span class=\"theorem-title\">**Example 1**</span> Randomly sample up to\n",
        "`300` spikes from every unit."
      ],
      "id": "061780f4-ab10-4e40-b185-8d8fc957e317"
    },
    {
      "cell_type": "code",
      "execution_count": 4,
      "metadata": {},
      "outputs": [
        {
          "output_type": "display_data",
          "metadata": {},
          "data": {
            "text/plain": [
              "<spikeinterface.core.analyzer_extension_core.ComputeRandomSpikes at 0x7f3da2fc76e0>"
            ]
          }
        }
      ],
      "source": [
        "analyzer.compute(\"random_spikes\", method=\"uniform\", max_spikes_per_unit=300)"
      ],
      "id": "37ef6f14"
    },
    {
      "cell_type": "markdown",
      "metadata": {},
      "source": [
        "<span class=\"theorem-title\">**Example 2**</span> Get the\n",
        "`\"random_spikes\"` extension from the `analyzer` and print the total\n",
        "number of spikes sampled."
      ],
      "id": "b2b80c7c-2b22-46bd-b617-2e9b2e1aa790"
    },
    {
      "cell_type": "code",
      "execution_count": 5,
      "metadata": {},
      "outputs": [
        {
          "output_type": "stream",
          "name": "stdout",
          "text": [
            "N_spikes =  34096"
          ]
        }
      ],
      "source": [
        "ext = analyzer.get_extension(\"random_spikes\")\n",
        "spike_indices = ext.get_data()\n",
        "print(\"N_spikes = \", len(spike_indices))"
      ],
      "id": "2762acbd"
    },
    {
      "cell_type": "markdown",
      "metadata": {},
      "source": [
        "<span class=\"theorem-title\">**Exercise 1**</span> Randomly sample up to\n",
        "`500` spikes per unit and print the total number of spikes sampled.\n",
        "\n",
        "*Solution.*"
      ],
      "id": "0ff24002-7e18-469f-9455-9d053a5ef427"
    },
    {
      "cell_type": "code",
      "execution_count": 6,
      "metadata": {},
      "outputs": [
        {
          "output_type": "stream",
          "name": "stdout",
          "text": [
            "N_spikes =  52646"
          ]
        }
      ],
      "source": [
        "analyzer.compute(\"random_spikes\", method=\"uniform\", max_spikes_per_unit=500)\n",
        "ext = analyzer.get_extension(\"random_spikes\")\n",
        "spike_indices = ext.get_data()\n",
        "print(\"N_spikes = \", len(spike_indices))"
      ],
      "id": "b2f2c048"
    },
    {
      "cell_type": "markdown",
      "metadata": {},
      "source": [
        "<span class=\"theorem-title\">**Exercise 2**</span> Randomly sample spikes\n",
        "and use `method=\"all\"` to get of the spikes (omit the\n",
        "`max_spikes_per_unit` argument). Then, print the total number of spikes\n",
        "sampled.\n",
        "\n",
        "*Solution.*"
      ],
      "id": "0548ed7b-9ce5-4fbf-8831-657de34ee66c"
    },
    {
      "cell_type": "code",
      "execution_count": 8,
      "metadata": {},
      "outputs": [
        {
          "output_type": "stream",
          "name": "stdout",
          "text": [
            "N_spikes =  145296"
          ]
        }
      ],
      "source": [
        "analyzer.compute(\"random_spikes\", method=\"all\")\n",
        "ext = analyzer.get_extension(\"random_spikes\")\n",
        "spike_indices = ext.get_data()\n",
        "print(\"N_spikes = \", len(spike_indices))"
      ],
      "id": "7a31612f"
    },
    {
      "cell_type": "markdown",
      "metadata": {},
      "source": [
        "<span class=\"theorem-title\">**Example 3**</span> Compute the\n",
        "`\"waveforms\"` for all of the spikes using the `ms_before = 2` and\n",
        "`ms_after=3` milliseconds after each spike."
      ],
      "id": "ba3f61e2-3639-44b4-b9b2-30130248f7d8"
    },
    {
      "cell_type": "code",
      "execution_count": 10,
      "metadata": {},
      "outputs": [
        {
          "output_type": "display_data",
          "metadata": {},
          "data": {
            "application/vnd.jupyter.widget-view+json": {
              "model_id": "a7d8950237aa41ef9db54e6e6c744ba1",
              "version_major": 2,
              "version_minor": 0
            }
          }
        },
        {
          "output_type": "display_data",
          "metadata": {},
          "data": {
            "text/plain": [
              "<spikeinterface.core.analyzer_extension_core.ComputeWaveforms at 0x7f3da2fc76b0>"
            ]
          }
        }
      ],
      "source": [
        "analyzer.compute(\"waveforms\", ms_before=2, ms_after=3)"
      ],
      "id": "88bb2acd"
    },
    {
      "cell_type": "markdown",
      "metadata": {},
      "source": [
        "<span class=\"theorem-title\">**Example 4**</span> Get the `\"waveforms\"`\n",
        "extension from the `analyzer`, then get the array of waveforms for unit\n",
        "`3` and its `.shape` (dimensions represent spikes, samples and\n",
        "channels)."
      ],
      "id": "203826b9-0364-4412-8f02-e7878f5e2334"
    },
    {
      "cell_type": "code",
      "execution_count": 11,
      "metadata": {},
      "outputs": [
        {
          "output_type": "display_data",
          "metadata": {},
          "data": {
            "text/plain": [
              "(3331, 150, 13)"
            ]
          }
        }
      ],
      "source": [
        "ext = analyzer.get_extension(\"waveforms\")\n",
        "wfs = ext.get_waveforms_one_unit(unit_id=3)\n",
        "wfs.shape"
      ],
      "id": "47095e5f"
    },
    {
      "cell_type": "markdown",
      "metadata": {},
      "source": [
        "<span class=\"theorem-title\">**Exercise 3**</span> Compute the\n",
        "`\"waveforms\"` for all of the spikes using the `ms_before = 1` and\n",
        "`ms_after=2` milliseconds after each spike. Then, get the waveforms for\n",
        "unit `3` and print their `.shape`.\n",
        "\n",
        "*Solution.*"
      ],
      "id": "4fd4fdcb-51fc-4a0d-b62d-9b0c44143719"
    },
    {
      "cell_type": "code",
      "execution_count": 12,
      "metadata": {},
      "outputs": [
        {
          "output_type": "display_data",
          "metadata": {},
          "data": {
            "application/vnd.jupyter.widget-view+json": {
              "model_id": "d6af1c0559054ce2b8b39c41167c4272",
              "version_major": 2,
              "version_minor": 0
            }
          }
        },
        {
          "output_type": "display_data",
          "metadata": {},
          "data": {
            "text/plain": [
              "(3331, 90, 13)"
            ]
          }
        }
      ],
      "source": [
        "analyzer.compute(\"waveforms\", ms_before=1, ms_after=2)\n",
        "ext = analyzer.get_extension(\"waveforms\")\n",
        "wfs = ext.get_waveforms_one_unit(unit_id=3)\n",
        "wfs.shape"
      ],
      "id": "bba9f612"
    },
    {
      "cell_type": "markdown",
      "metadata": {},
      "source": [
        "<span class=\"theorem-title\">**Example 5**</span> Compute the\n",
        "`\"templates\"` for the extracted `\"waveforms\"` using the `\"average\"`\n",
        "operator."
      ],
      "id": "1469a6ae-4496-4459-864e-9b17525fac21"
    },
    {
      "cell_type": "code",
      "execution_count": 14,
      "metadata": {},
      "outputs": [
        {
          "output_type": "display_data",
          "metadata": {},
          "data": {
            "text/plain": [
              "<spikeinterface.core.analyzer_extension_core.ComputeTemplates at 0x7f3ddd670590>"
            ]
          }
        }
      ],
      "source": [
        "analyzer.compute(\"templates\", operators=[\"average\"])"
      ],
      "id": "5a18aa50"
    },
    {
      "cell_type": "markdown",
      "metadata": {},
      "source": [
        "<span class=\"theorem-title\">**Example 6**</span> Get the `\"average\"`\n",
        "template for unit `3` and print its shape."
      ],
      "id": "01b18579-2e6a-4a61-91cb-e0c3450329f6"
    },
    {
      "cell_type": "code",
      "execution_count": 15,
      "metadata": {},
      "outputs": [
        {
          "output_type": "display_data",
          "metadata": {},
          "data": {
            "image/png": "[encoded data removed]"
          }
        }
      ],
      "source": [
        "ext = analyzer.get_extension(\"templates\")\n",
        "template = ext.get_unit_template(unit_id=3, operator=\"average\")\n",
        "plt.plot(template);"
      ],
      "id": "361376c0"
    },
    {
      "cell_type": "markdown",
      "metadata": {},
      "source": [
        "<span class=\"theorem-title\">**Exercise 4**</span> Compute the\n",
        "`\"templates\"` for the extracted `\"waveforms\"` using the `\"median\"`\n",
        "operator.\n",
        "\n",
        "*Solution.*"
      ],
      "id": "a53f5d58-720e-4735-9cd8-295ae1dd8bf0"
    },
    {
      "cell_type": "code",
      "execution_count": 16,
      "metadata": {},
      "outputs": [
        {
          "output_type": "display_data",
          "metadata": {},
          "data": {
            "text/plain": [
              "<spikeinterface.core.analyzer_extension_core.ComputeTemplates at 0x7f3e1fe173e0>"
            ]
          }
        }
      ],
      "source": [
        "analyzer.compute(\"templates\", operators=[\"median\"])"
      ],
      "id": "1137820c"
    },
    {
      "cell_type": "markdown",
      "metadata": {},
      "source": [
        "<span class=\"theorem-title\">**Exercise 5**</span> Get the `\"median\"`\n",
        "template for unit `3` and print its shape.\n",
        "\n",
        "*Solution.*"
      ],
      "id": "1cad2e26-b59e-468e-a796-6a179a71814b"
    },
    {
      "cell_type": "code",
      "execution_count": 18,
      "metadata": {},
      "outputs": [
        {
          "output_type": "display_data",
          "metadata": {},
          "data": {
            "image/png": "[encoded data removed]"
          }
        }
      ],
      "source": [
        "ext = analyzer.get_extension(\"templates\")\n",
        "template = ext.get_unit_template(unit_id=3, operator=\"median\")\n",
        "plt.plot(template);"
      ],
      "id": "1037d65b"
    },
    {
      "cell_type": "markdown",
      "metadata": {},
      "source": [
        "## 3 Curating Units with Quality Metrics\n",
        "\n",
        "Spike sorting algorithms are not perfect; they often produce units that\n",
        "represent noise, artifacts, or a mix of multiple neurons (multi-unit\n",
        "activity). Therefore, a critical step in the workflow is to compute\n",
        "quality metrics to automatically curate the results and identify\n",
        "high-quality, well-isolated single units. SpikeInterface provides many\n",
        "metrics, including signal-to-noise ratio (SNR) and Inter-Spike Interval\n",
        "(ISI) violations. In this section, you will learn how to compute these\n",
        "metrics and use them to filter the sorting output, keeping only the\n",
        "units that meet your quality criteria.\n",
        "\n",
        "| Code | Description |\n",
        "|------------------------------------|------------------------------------|\n",
        "| `analyzer.compute(\"noise_levels\")` | Compute the noise level on each channel, a prerequisite for SNR. |\n",
        "| `analyzer.compute(\"quality_metrics\", metric_names=[...])` | Compute specified quality metrics for all units. |\n",
        "| `ext = analyzer.get_extension(\"quality_metrics\")` | Get the computed quality metrics from the analyzer. |\n",
        "| `df = ext.get_data()` | Get the quality metrics as a pandas DataFrame. |\n",
        "| `plt.hist(df[\"metric_name\"])` | Plot a histogram of a specific quality metric’s distribution. |\n",
        "| `unit_ids = analyzer.unit_ids[df[\"metric_name\"] > value]` | Select unit IDs that satisfy a condition based on a quality metric. |\n",
        "| `curated_units = sort.select_units(unit_ids=unit_ids)` | Create a new, curated sorting object containing only the selected units. |\n",
        "| `curated_units.save(folder=\"...\", overwrite=True)` | Save the curated sorting results to a new folder. |\n",
        "\n",
        "------------------------------------------------------------------------\n",
        "\n",
        "<span class=\"theorem-title\">**Example 7**</span> Compute the\n",
        "`\"noise_levels\"` and `\"quality_metrics\"` extension with the metrics\n",
        "`\"snr\"` and `\"num_spikes\"`. Then, get the extension data and print the\n",
        "data frame."
      ],
      "id": "3fa6c5c9-163c-424d-b14c-b02d4157441b"
    },
    {
      "cell_type": "code",
      "execution_count": 20,
      "metadata": {},
      "outputs": [
        {
          "output_type": "display_data",
          "metadata": {},
          "data": {
            "application/vnd.jupyter.widget-view+json": {
              "model_id": "e2d5f836bda34e97a6c748fdbef1c51e",
              "version_major": 2,
              "version_minor": 0
            }
          }
        },
        {
          "output_type": "display_data",
          "metadata": {},
          "data": {
            "text/html": [
              "\n",
              "<p>127 rows × 2 columns</p>\n",
              "</div>"
            ]
          }
        }
      ],
      "source": [
        "analyzer.compute(\"noise_levels\")\n",
        "analyzer.compute(\"quality_metrics\", metric_names=[\"snr\", \"num_spikes\"])\n",
        "ext = analyzer.get_extension(\"quality_metrics\")\n",
        "df = ext.get_data()\n",
        "df"
      ],
      "id": "84febf96"
    },
    {
      "cell_type": "markdown",
      "metadata": {},
      "source": [
        "<span class=\"theorem-title\">**Exercise 6**</span> Plot the distribution\n",
        "of `\"snr\"` in a histogram.\n",
        "\n",
        "*Solution.*"
      ],
      "id": "632220f0-5608-44ec-bcac-89a2626ee5f4"
    },
    {
      "cell_type": "code",
      "execution_count": 21,
      "metadata": {},
      "outputs": [
        {
          "output_type": "display_data",
          "metadata": {},
          "data": {
            "text/plain": [
              "(array([44., 37., 21., 10.,  8.,  4.,  2.,  0.,  0.,  1.]),\n",
              " array([ 1.99451674,  6.63912782, 11.2837389 , 15.92834998, 20.57296107,\n",
              "        25.21757215, 29.86218323, 34.50679432, 39.1514054 , 43.79601648,\n",
              "        48.44062757]),\n",
              " <BarContainer object of 10 artists>)"
            ]
          }
        },
        {
          "output_type": "display_data",
          "metadata": {},
          "data": {
            "image/png": "[encoded data removed]"
          }
        }
      ],
      "source": [
        "plt.hist(df[\"snr\"])"
      ],
      "id": "39387aa5"
    },
    {
      "cell_type": "markdown",
      "metadata": {},
      "source": [
        "<span class=\"theorem-title\">**Exercise 7**</span> Compute the\n",
        "`\"quality_metrics\"` extension with the `\"isi_violation\"` metric, get the\n",
        "extension data and print the data frame.\n",
        "\n",
        "*Solution.*"
      ],
      "id": "149d1d13-e609-44c6-85fe-08de4dc45a88"
    },
    {
      "cell_type": "code",
      "execution_count": 23,
      "metadata": {},
      "outputs": [
        {
          "output_type": "display_data",
          "metadata": {},
          "data": {
            "text/html": [
              "\n",
              "<p>127 rows × 4 columns</p>\n",
              "</div>"
            ]
          }
        }
      ],
      "source": [
        "analyzer.compute(\"quality_metrics\", metric_names=[\"isi_violation\"])\n",
        "ext = analyzer.get_extension(\"quality_metrics\")\n",
        "df = ext.get_data()\n",
        "df"
      ],
      "id": "af851181"
    },
    {
      "cell_type": "markdown",
      "metadata": {},
      "source": [
        "<span class=\"theorem-title\">**Exercise 8**</span> Plot the distribution\n",
        "of `\"isi_violation_count\"` in a histogram.\n",
        "\n",
        "*Solution.*"
      ],
      "id": "83da25e4-1d9e-4db3-800b-551ab56de8d1"
    },
    {
      "cell_type": "code",
      "execution_count": 25,
      "metadata": {},
      "outputs": [
        {
          "output_type": "display_data",
          "metadata": {},
          "data": {
            "text/plain": [
              "(array([93., 11.,  8.,  5.,  4.,  2.,  2.,  0.,  1.,  1.]),\n",
              " array([  0. ,  30.9,  61.8,  92.7, 123.6, 154.5, 185.4, 216.3, 247.2,\n",
              "        278.1, 309. ]),\n",
              " <BarContainer object of 10 artists>)"
            ]
          }
        },
        {
          "output_type": "display_data",
          "metadata": {},
          "data": {
            "image/png": "[encoded data removed]"
          }
        }
      ],
      "source": [
        "plt.hist(df[\"isi_violations_count\"])"
      ],
      "id": "86503bfe"
    },
    {
      "cell_type": "markdown",
      "metadata": {},
      "source": [
        "<span class=\"theorem-title\">**Example 8**</span> Get the units with a\n",
        "SNR above 10."
      ],
      "id": "0b8aa818-dd42-4634-b0c5-98fadae646fb"
    },
    {
      "cell_type": "code",
      "execution_count": 27,
      "metadata": {},
      "outputs": [
        {
          "output_type": "display_data",
          "metadata": {},
          "data": {
            "text/plain": [
              "array([ 11,  15,  17,  18,  19,  22,  23,  26,  27,  28,  30,  31,  33,\n",
              "        34,  37,  38,  39,  40,  41,  43,  44,  45,  47,  50,  52,  53,\n",
              "        55,  57,  59,  60,  61,  63,  65,  68,  72,  75,  76,  78,  81,\n",
              "        82,  84,  87,  90,  92,  95,  97,  99, 104, 111, 112, 114, 115,\n",
              "       116, 117])"
            ]
          }
        }
      ],
      "source": [
        "unit_ids = analyzer.unit_ids[df[\"snr\"]>10]\n",
        "unit_ids"
      ],
      "id": "87167baa"
    },
    {
      "cell_type": "markdown",
      "metadata": {},
      "source": [
        "<span class=\"theorem-title\">**Exercise 9**</span> Get the units with an\n",
        "`\"isi_violations_ratio\"` below 4.\n",
        "\n",
        "*Solution.*"
      ],
      "id": "a5759126-4670-4c4f-80e7-2d648d4beeb5"
    },
    {
      "cell_type": "code",
      "execution_count": 28,
      "metadata": {},
      "outputs": [
        {
          "output_type": "display_data",
          "metadata": {},
          "data": {
            "text/plain": [
              "array([  2,   3,   4,  11,  12,  13,  14,  15,  16,  17,  18,  19,  20,\n",
              "        21,  22,  23,  24,  25,  26,  27,  28,  29,  31,  32,  33,  34,\n",
              "        35,  36,  37,  38,  39,  41,  42,  43,  44,  45,  46,  47,  48,\n",
              "        49,  50,  51,  52,  53,  54,  55,  56,  57,  58,  59,  60,  61,\n",
              "        63,  64,  65,  66,  68,  70,  71,  73,  74,  75,  76,  77,  79,\n",
              "        82,  83,  84,  85,  86,  87,  88,  89,  90,  92,  93,  94,  95,\n",
              "        96,  97,  98,  99, 100, 101, 102, 103, 105, 106, 107, 109, 110,\n",
              "       111, 112, 113, 115, 117, 118, 119, 120, 121, 122, 123, 124, 125,\n",
              "       126])"
            ]
          }
        }
      ],
      "source": [
        "unit_ids = analyzer.unit_ids[(df[\"isi_violations_ratio\"]<4)]\n",
        "unit_ids"
      ],
      "id": "2120713c"
    },
    {
      "cell_type": "markdown",
      "metadata": {},
      "source": [
        "<span class=\"theorem-title\">**Exercise 10**</span> Use\n",
        "`sort.select_units` to select the filtered `unit_ids` and return the\n",
        "`curated_units`. Then use `curated_units.save()` to save them.\n",
        "\n",
        "*Solution.*"
      ],
      "id": "8e29a611-783e-4b0f-88ef-fe355663c042"
    },
    {
      "cell_type": "code",
      "execution_count": 30,
      "metadata": {},
      "outputs": [
        {
          "output_type": "stream",
          "name": "stderr",
          "text": [
            "/home/olebi/courses/Intro-to-Neural-Spike-Analysis-in-Python/.pixi/envs/default/lib/python3.12/site-packages/spikeinterface/core/basesorting.py:261: UserWarning: The registered recording will not be persistent on disk, but only available in memory\n",
            "  warnings.warn(\"The registered recording will not be persistent on disk, but only available in memory\")"
          ]
        },
        {
          "output_type": "display_data",
          "metadata": {},
          "data": {
            "text/html": [
              "<div style='border:1px solid #ddd; padding:10px;'><strong>NumpyFolder (NumpyFolderSorting): 105 units - 1 segments - 30.0kHz</strong></div><details style='margin-left: 10px;'>  <summary><strong>Unit IDs</strong></summary><ul>[  2   3   4  11  12  13  14  15  16  17  18  19  20  21  22  23  24  25\n",
              "  26  27  28  29  31  32  33  34  35  36  37  38  39  41  42  43  44  45\n",
              "  46  47  48  49  50  51  52  53  54  55  56  57  58  59  60  61  63  64\n",
              "  65  66  68  70  71  73  74  75  76  77  79  82  83  84  85  86  87  88\n",
              "  89  90  92  93  94  95  96  97  98  99 100 101 102 103 105 106 107 109\n",
              " 110 111 112 113 115 117 118 119 120 121 122 123 124 125 126] </details><details style='margin-left: 10px;'>  <summary><strong>Annotations</strong></summary><ul><li> <strong> __sorting_info__ </strong>: {'recording': {'class': 'spikeinterface.extractors.neoextractors.openephys.OpenEphysBinaryRecordingExtractor', 'module': 'spikeinterface', 'version': '0.102.2', 'kwargs': {'all_annotations': False, 'stream_id': '0', 'folder_path': '/home/olebi/courses/Intro-to-Neural-Spike-Analysis-in-Python/11_spike_sorting_with_spikeinterface/openephys_raw/2023-08-23_15-56-05', 'load_sync_channel': False, 'load_sync_timestamps': False, 'experiment_names': None}, 'annotations': {'is_filtered': False, 'experiment_name': 'experiment1', 'probe_0_planar_contour': [[-10.0, 900.0], [-10.0, -10.0], [12.0, -30.0], [30.0, 10.0], [70.0, 900.0]]}, 'properties': {'group': [0, 0, 0, 0, 0, 0, 0, 0, 0, 0, 0, 0, 0, 0, 0, 0, 0, 0, 0, 0, 0, 0, 0, 0, 0, 0, 0, 0, 0, 0, 0, 0, 0, 0, 0, 0, 0, 0, 0, 0, 0, 0, 0, 0, 0, 0, 0, 0, 0, 0, 0, 0, 0, 0, 0, 0, 0, 0, 0, 0, 0, 0, 0, 0], 'location': [[0.0, 775.0], [0.0, 400.0], [0.0, 450.0], [0.0, 700.0], [0.0, 650.0], [0.0, 575.0], [22.5, 762.5], [22.5, 537.5], [0.0, 750.0], [0.0, 375.0], [0.0, 525.0], [22.5, 437.5], [22.5, 487.5], [22.5, 562.5], [0.0, 550.0], [22.5, 687.5], [0.0, 475.0], [22.5, 787.5], [22.5, 512.5], [0.0, 625.0], [0.0, 725.0], [22.5, 737.5], [0.0, 425.0], [22.5, 662.5], [0.0, 500.0], [0.0, 675.0], [0.0, 600.0], [22.5, 612.5], [22.5, 462.5], [22.5, 587.5], [22.5, 712.5], [22.5, 637.5], [0.0, 275.0], [22.5, 337.5], [22.5, 212.5], [0.0, 100.0], [0.0, 350.0], [22.5, 137.5], [0.0, 50.0], [22.5, 12.5], [22.5, 312.5], [22.5, 162.5], [22.5, 112.5], [22.5, 237.5], [0.0, 175.0], [22.5, 387.5], [0.0, 75.0], [22.5, 262.5], [0.0, 300.0], [0.0, 200.0], [0.0, 325.0], [22.5, 37.5], [0.0, 225.0], [22.5, 412.5], [0.0, 150.0], [22.5, 62.5], [22.5, 287.5], [0.0, 250.0], [22.5, 362.5], [22.5, 87.5], [0.0, 125.0], [0.0, 25.0], [0.0, 0.0], [22.5, 187.5]], 'gain_to_uV': [0.1949999928474426, 0.1949999928474426, 0.1949999928474426, 0.1949999928474426, 0.1949999928474426, 0.1949999928474426, 0.1949999928474426, 0.1949999928474426, 0.1949999928474426, 0.1949999928474426, 0.1949999928474426, 0.1949999928474426, 0.1949999928474426, 0.1949999928474426, 0.1949999928474426, 0.1949999928474426, 0.1949999928474426, 0.1949999928474426, 0.1949999928474426, 0.1949999928474426, 0.1949999928474426, 0.1949999928474426, 0.1949999928474426, 0.1949999928474426, 0.1949999928474426, 0.1949999928474426, 0.1949999928474426, 0.1949999928474426, 0.1949999928474426, 0.1949999928474426, 0.1949999928474426, 0.1949999928474426, 0.1949999928474426, 0.1949999928474426, 0.1949999928474426, 0.1949999928474426, 0.1949999928474426, 0.1949999928474426, 0.1949999928474426, 0.1949999928474426, 0.1949999928474426, 0.1949999928474426, 0.1949999928474426, 0.1949999928474426, 0.1949999928474426, 0.1949999928474426, 0.1949999928474426, 0.1949999928474426, 0.1949999928474426, 0.1949999928474426, 0.1949999928474426, 0.1949999928474426, 0.1949999928474426, 0.1949999928474426, 0.1949999928474426, 0.1949999928474426, 0.1949999928474426, 0.1949999928474426, 0.1949999928474426, 0.1949999928474426, 0.1949999928474426, 0.1949999928474426, 0.1949999928474426, 0.1949999928474426], 'offset_to_uV': [0.0, 0.0, 0.0, 0.0, 0.0, 0.0, 0.0, 0.0, 0.0, 0.0, 0.0, 0.0, 0.0, 0.0, 0.0, 0.0, 0.0, 0.0, 0.0, 0.0, 0.0, 0.0, 0.0, 0.0, 0.0, 0.0, 0.0, 0.0, 0.0, 0.0, 0.0, 0.0, 0.0, 0.0, 0.0, 0.0, 0.0, 0.0, 0.0, 0.0, 0.0, 0.0, 0.0, 0.0, 0.0, 0.0, 0.0, 0.0, 0.0, 0.0, 0.0, 0.0, 0.0, 0.0, 0.0, 0.0, 0.0, 0.0, 0.0, 0.0, 0.0, 0.0, 0.0, 0.0]}, 'relative_paths': False}, 'params': {'sorter_name': 'spykingcircus2', 'sorter_params': {'general': {'ms_before': 2, 'ms_after': 2, 'radius_um': 75}, 'sparsity': {'method': 'snr', 'amplitude_mode': 'peak_to_peak', 'threshold': 1}, 'filtering': {'freq_min': 150, 'freq_max': 7000, 'ftype': 'bessel', 'filter_order': 2, 'margin_ms': 10}, 'whitening': {'mode': 'local', 'regularize': False}, 'detection': {'peak_sign': 'neg', 'detect_threshold': 5}, 'selection': {'method': 'uniform', 'n_peaks_per_channel': 5000, 'min_n_peaks': 100000, 'select_per_channel': False, 'seed': 42}, 'apply_motion_correction': True, 'motion_correction': {'preset': 'rigid_fast'}, 'merging': {'max_distance_um': 50}, 'clustering': {'legacy': True}, 'matching': {'method': 'circus-omp-svd'}, 'apply_preprocessing': True, 'matched_filtering': True, 'cache_preprocessing': {'mode': 'memory', 'memory_limit': 0.5, 'delete_cache': True}, 'multi_units_only': False, 'job_kwargs': {'n_jobs': 0.5}, 'seed': 42, 'debug': False}}, 'log': {'sorter_name': 'spykingcircus2', 'sorter_version': '2.0', 'datetime': '2025-05-12T12:48:40.874847', 'runtime_trace': [], 'error': False, 'run_time': 207.4290869400029}}</li></details><details style='margin-left: 10px;'><summary><strong>Properties</strong></summary><ul></ul></details>"
            ]
          }
        }
      ],
      "source": [
        "curated_units = sort.select_units(unit_ids=unit_ids)\n",
        "curated_units.save(folder=\"sorting_curated\", overwrite=True)\n",
        "si.load(\"sorting_curated\")"
      ],
      "id": "bfa266e6"
    },
    {
      "cell_type": "markdown",
      "metadata": {},
      "source": [
        "## 4 Compare Different Sorters\n",
        "\n",
        "Different spike sorters use different algorithms and may produce\n",
        "different results on the same dataset. By comparing the outputs of\n",
        "multiple sorters, we can identify a “consensus” set of units found by\n",
        "all (or most) of them, which increases our confidence in their validity.\n",
        "This comparison also highlights where sorters disagree, pointing to\n",
        "units that may be difficult to sort or require manual inspection.\n",
        "SpikeInterface provides convenient tools to compare sorters and\n",
        "visualize their agreement. In this section, you will learn how to\n",
        "compare sorters and interpret the resulting agreement matrices and\n",
        "summary plots.\n",
        "\n",
        "| Code | Description |\n",
        "|------------------------------------|------------------------------------|\n",
        "| `comp = si.compare_two_sorters(...)` | Compare two sorters, returning a comparison object. |\n",
        "| `si.plot_agreement_matrix(comp, **kwargs)` | Plot the agreement matrix for a pairwise sorter comparison. |\n",
        "| `multi_comp = si.compare_multiple_sorters(...)` | Compare a list of multiple sorters, returning a multi-comparison object. |\n",
        "| `si.plot_multicomparison_agreement(multi_comp)` | Plot a pie chart summarizing the agreement between multiple sorters. |\n",
        "| `si.plot_multicomparison_agreement_by_sorter(multi_comp)` | Plot agreement summaries broken down by each individual sorter. |\n",
        "\n",
        "Load the sorting results from Spykingcircus, Kilosort4 and Tridesclous."
      ],
      "id": "9b8db0c8-4d1d-45e6-bcb6-c09eba7e25c5"
    },
    {
      "cell_type": "code",
      "execution_count": 32,
      "metadata": {},
      "outputs": [],
      "source": [
        "sorting_SPC = si.read_sorter_folder(\"results_SPC\")\n",
        "sorting_KS4 = si.read_sorter_folder(\"results_KS4\")\n",
        "sorting_TDC = si.read_sorter_folder(\"results_TDC\")"
      ],
      "id": "4e532114"
    },
    {
      "cell_type": "markdown",
      "metadata": {},
      "source": [
        "<span class=\"theorem-title\">**Example 9**</span> Compare the results\n",
        "from the Spikingcircus and Kilosort4 sorters using the `\"count\"`\n",
        "agreement methods and plot the agreement matrix. A clearly visible\n",
        "diagonal indicates that the sorters agree on a given unit."
      ],
      "id": "8f2639ce-bdd6-408f-8e81-686fbc230e07"
    },
    {
      "cell_type": "code",
      "execution_count": 33,
      "metadata": {},
      "outputs": [
        {
          "output_type": "display_data",
          "metadata": {},
          "data": {
            "image/png": "[encoded data removed]"
          }
        }
      ],
      "source": [
        "comp = si.compare_two_sorters(\n",
        "    sorting_SPC, sorting_KS4, \"Spikingcircus\", \"Kilosort4\", agreement_method=\"count\"\n",
        ")\n",
        "si.plot_agreement_matrix(comp, unit_ticks=False)"
      ],
      "id": "28d0f58f"
    },
    {
      "cell_type": "markdown",
      "metadata": {},
      "source": [
        "<span class=\"theorem-title\">**Exercise 11**</span> Compare the results\n",
        "from the Spikingcircus and Kilosort4 sorters using the `\"distance\"`\n",
        "agreement methods and plot the agreement matrix.\n",
        "\n",
        "*Solution.*"
      ],
      "id": "ef9a9762-4d2f-47c8-8d62-8e0cba9b7cf9"
    },
    {
      "cell_type": "code",
      "execution_count": 34,
      "metadata": {},
      "outputs": [
        {
          "output_type": "stream",
          "name": "stderr",
          "text": [
            "/home/olebi/courses/Intro-to-Neural-Spike-Analysis-in-Python/.pixi/envs/default/lib/python3.12/site-packages/spikeinterface/comparison/comparisontools.py:342: RuntimeWarning: divide by zero encountered in divide\n",
            "  agreement_matrix = 1 / ((distance_matrix**2 / dot_product_matrix) + 1)"
          ]
        },
        {
          "output_type": "display_data",
          "metadata": {},
          "data": {
            "image/png": "[encoded data removed]"
          }
        }
      ],
      "source": [
        "comp = si.compare_two_sorters(\n",
        "    sorting_SPC, sorting_KS4, \"SPC\", \"KS4\", agreement_method=\"distance\"\n",
        ")\n",
        "si.plot_agreement_matrix(comp, unit_ticks=False)"
      ],
      "id": "434a34ee"
    },
    {
      "cell_type": "markdown",
      "metadata": {},
      "source": [
        "<span class=\"theorem-title\">**Exercise 12**</span> Load the results from\n",
        "the Tridesclous sorter and compare them to the results from\n",
        "Spikingcircus by plotting the agreement matrix.\n",
        "\n",
        "*Solution.*"
      ],
      "id": "3e396d86-4ca0-4243-ae9c-b00e8268eb08"
    },
    {
      "cell_type": "code",
      "execution_count": 36,
      "metadata": {},
      "outputs": [
        {
          "output_type": "display_data",
          "metadata": {},
          "data": {
            "image/png": "[encoded data removed]"
          }
        }
      ],
      "source": [
        "sorting_TDC = si.read_sorter_folder(\"results_TDC\")\n",
        "comp = si.compare_two_sorters(\n",
        "    sorting_SPC, sorting_TDC, \"Spikingcircus\", \"Tridesclous\", agreement_method=\"count\"\n",
        ")\n",
        "si.plot_agreement_matrix(comp, unit_ticks=False)"
      ],
      "id": "eeb44cc6"
    },
    {
      "cell_type": "markdown",
      "metadata": {},
      "source": [
        "<span class=\"theorem-title\">**Example 10**</span> Compare the results\n",
        "from all three sorters using the `\"count\"` agreement method."
      ],
      "id": "27615dc6-b7b5-4da6-8629-a857ad50290c"
    },
    {
      "cell_type": "code",
      "execution_count": 38,
      "metadata": {},
      "outputs": [],
      "source": [
        "multi_comp = si.compare_multiple_sorters(\n",
        "    [sorting_SPC, sorting_KS4, sorting_TDC],\n",
        "    [\"Spikingcircus\", \"Kilosort4\", \"Tridesclous\"],\n",
        "    agreement_method=\"count\",\n",
        ")"
      ],
      "id": "b889d4f0"
    },
    {
      "cell_type": "markdown",
      "metadata": {},
      "source": [
        "<span class=\"theorem-title\">**Exercise 13**</span> Use\n",
        "`si.plot_multicomparison_agreement` to plot the `multi_comp`.\n",
        "\n",
        "*Solution.*"
      ],
      "id": "2b8bea25-ef42-4b22-9b17-0c562b2f5b79"
    },
    {
      "cell_type": "code",
      "execution_count": 39,
      "metadata": {},
      "outputs": [
        {
          "output_type": "display_data",
          "metadata": {},
          "data": {
            "image/png": "[encoded data removed]"
          }
        }
      ],
      "source": [
        "si.plot_multicomparison_agreement(multi_comp)"
      ],
      "id": "7f79b500"
    },
    {
      "cell_type": "markdown",
      "metadata": {},
      "source": [
        "<span class=\"theorem-title\">**Exercise 14**</span> Compare the results\n",
        "from all three sorters using the `\"distance\"` agreement method.\n",
        "\n",
        "*Solution.*"
      ],
      "id": "bc761fbf-dda6-425f-9016-0fc22d422ef4"
    },
    {
      "cell_type": "code",
      "execution_count": 41,
      "metadata": {},
      "outputs": [
        {
          "output_type": "stream",
          "name": "stderr",
          "text": [
            "/home/olebi/courses/Intro-to-Neural-Spike-Analysis-in-Python/.pixi/envs/default/lib/python3.12/site-packages/spikeinterface/comparison/comparisontools.py:342: RuntimeWarning: divide by zero encountered in divide\n",
            "  agreement_matrix = 1 / ((distance_matrix**2 / dot_product_matrix) + 1)\n",
            "/home/olebi/courses/Intro-to-Neural-Spike-Analysis-in-Python/.pixi/envs/default/lib/python3.12/site-packages/spikeinterface/comparison/comparisontools.py:342: RuntimeWarning: divide by zero encountered in divide\n",
            "  agreement_matrix = 1 / ((distance_matrix**2 / dot_product_matrix) + 1)\n",
            "/home/olebi/courses/Intro-to-Neural-Spike-Analysis-in-Python/.pixi/envs/default/lib/python3.12/site-packages/spikeinterface/comparison/comparisontools.py:342: RuntimeWarning: divide by zero encountered in divide\n",
            "  agreement_matrix = 1 / ((distance_matrix**2 / dot_product_matrix) + 1)"
          ]
        }
      ],
      "source": [
        "multi_comp = si.compare_multiple_sorters(\n",
        "    [sorting_SPC, sorting_KS4, sorting_TDC],\n",
        "    [\"Spikingcircus\", \"Kilosort4\", \"Tridesclous\"],\n",
        "    agreement_method=\"distance\",\n",
        ")"
      ],
      "id": "f8598a28"
    },
    {
      "cell_type": "markdown",
      "metadata": {},
      "source": [
        "<span class=\"theorem-title\">**Exercise 15**</span> Plot the\n",
        "mutlicomparison agreement.\n",
        "\n",
        "*Solution.*"
      ],
      "id": "8ac4c0dc-eb89-4ba8-8eb6-43afe730e155"
    },
    {
      "cell_type": "code",
      "execution_count": 43,
      "metadata": {},
      "outputs": [
        {
          "output_type": "display_data",
          "metadata": {},
          "data": {
            "image/png": "[encoded data removed]"
          }
        }
      ],
      "source": [
        "si.plot_multicomparison_agreement(multi_comp)"
      ],
      "id": "2f964bcc"
    },
    {
      "cell_type": "markdown",
      "metadata": {},
      "source": [
        "<span class=\"theorem-title\">**Exercise 16**</span> Plot the\n",
        "mutlicomparison agreement separately for each sorter.\n",
        "\n",
        "*Solution.*"
      ],
      "id": "88f22041-1ce3-4b40-92e2-156f09c3a86a"
    },
    {
      "cell_type": "code",
      "execution_count": 45,
      "metadata": {},
      "outputs": [
        {
          "output_type": "display_data",
          "metadata": {},
          "data": {
            "image/png": "[encoded data removed]"
          }
        }
      ],
      "source": [
        "si.plot_multicomparison_agreement_by_sorter(multi_comp)"
      ],
      "id": "20684928"
    },
    {
      "cell_type": "markdown",
      "metadata": {},
      "source": [
        "## 5 Localizing Detected Units\n",
        "\n",
        "Knowing where a unit is physically located on the probe is crucial for\n",
        "validating sorting results (e.g., a single neuron should be localized in\n",
        "space) and for any spatial analysis of neural activity. SpikeInterface\n",
        "can estimate the position of each unit by analyzing the amplitude of its\n",
        "average waveform across the different electrode channels. In this\n",
        "section we will explore computing unit locations using various methods,\n",
        "such as “center of mass” and “monopolar triangulation,” and visualizing\n",
        "these locations in 2D and 3D space relative to the probe geometry.\n",
        "\n",
        "| Code | Description |\n",
        "|------------------------------------|------------------------------------|\n",
        "| `si.plot_unit_waveforms(analyzer, **kwargs)` | Create an interactive plot showing unit waveforms on the probe. |\n",
        "| `unit_locations = si.compute_unit_locations(analyzer, method)` | Compute unit locations using a specified method (e.g., “center_of_mass”). |\n",
        "| `probe = rec.get_probe()` | Retrieve the probe information from a recording object. |\n",
        "| `plot_probe(probe)` | Plot the geometry of the probe. |\n",
        "| `plt.scatter(x, y)` | Create a 2D scatter plot of x and y coordinates. |\n",
        "| `ax = plt.subplot(projection='3d')` | Create a 3-dimensional plot axis. |\n",
        "| `ax.scatter(x, y, z)` | Create a 3D scatter plot of x, y, and z coordinates. |\n",
        "| `ax.set(xlim=..., ylim=...)` | Set the x and y axis limits for a plot. |\n",
        "\n",
        "------------------------------------------------------------------------\n",
        "\n",
        "Run the cell below to create an interactive widget that shows, for each\n",
        "unit, the waveforms and the electrode locations where they were\n",
        "recorded."
      ],
      "id": "bb1bdffd-1329-410f-b649-a7ca37c23e3b"
    },
    {
      "cell_type": "code",
      "execution_count": 47,
      "metadata": {},
      "outputs": [],
      "source": [
        "%matplotlib widget\n",
        "si.plot_unit_waveforms(analyzer, backend=\"ipywidgets\")\n",
        "%matplotlib inline"
      ],
      "id": "1e24aa1c"
    },
    {
      "cell_type": "markdown",
      "metadata": {},
      "source": [
        "<span class=\"theorem-title\">**Example 11**</span> Compute the unit\n",
        "locations using the `\"center_of_mass\"` method and print the shape of the\n",
        "returned `unit_locations`."
      ],
      "id": "fa283c5f-c11f-460a-816d-198473cd74f5"
    },
    {
      "cell_type": "code",
      "execution_count": 48,
      "metadata": {},
      "outputs": [
        {
          "output_type": "display_data",
          "metadata": {},
          "data": {
            "text/plain": [
              "(127, 2)"
            ]
          }
        }
      ],
      "source": [
        "unit_locations = si.compute_unit_locations(analyzer, method=\"center_of_mass\")\n",
        "unit_locations.shape"
      ],
      "id": "c7e41e7f"
    },
    {
      "cell_type": "markdown",
      "metadata": {},
      "source": [
        "<span class=\"theorem-title\">**Example 12**</span> Get the probe from\n",
        "`rec` and plot it together with the `x` and `y` `unit_locations`."
      ],
      "id": "3b65e129-06bf-4305-9500-354798c1a304"
    },
    {
      "cell_type": "code",
      "execution_count": 49,
      "metadata": {},
      "outputs": [
        {
          "output_type": "display_data",
          "metadata": {},
          "data": {
            "image/png": "[encoded data removed]"
          }
        }
      ],
      "source": [
        "probe = rec.get_probe()\n",
        "plot_probe(probe)\n",
        "x = unit_locations[:, 0]\n",
        "y = unit_locations[:, 1]\n",
        "plt.scatter(x, y)\n",
        "plt.xlim(-400, 400)\n",
        "plt.ylim(0, 800)"
      ],
      "id": "c497987f"
    },
    {
      "cell_type": "markdown",
      "metadata": {},
      "source": [
        "<span class=\"theorem-title\">**Exercise 17**</span> Compute the unit\n",
        "locations using the `\"monopolar_triangulation\"` method and print the\n",
        "shape of the returned `unit_locations`.\n",
        "\n",
        "*Solution.*"
      ],
      "id": "51afb27e-368a-45e9-977d-14f79c281c8a"
    },
    {
      "cell_type": "code",
      "execution_count": 50,
      "metadata": {},
      "outputs": [
        {
          "output_type": "display_data",
          "metadata": {},
          "data": {
            "text/plain": [
              "(127, 3)"
            ]
          }
        }
      ],
      "source": [
        "unit_locations = si.compute_unit_locations(analyzer, method=\"monopolar_triangulation\")\n",
        "unit_locations.shape"
      ],
      "id": "f34e8516"
    },
    {
      "cell_type": "markdown",
      "metadata": {},
      "source": [
        "<span class=\"theorem-title\">**Exercise 18**</span> Plot the `probe`\n",
        "together with the `x` and `y` `unit_locations`.\n",
        "\n",
        "*Solution.*"
      ],
      "id": "2a096817-14c1-4aa8-b285-5cff59b4ef45"
    },
    {
      "cell_type": "code",
      "execution_count": 52,
      "metadata": {},
      "outputs": [
        {
          "output_type": "display_data",
          "metadata": {},
          "data": {
            "image/png": "[encoded data removed]"
          }
        }
      ],
      "source": [
        "probe = rec.get_probe()\n",
        "plot_probe(probe)\n",
        "x = unit_locations[:, 0]\n",
        "y = unit_locations[:, 1]\n",
        "plt.scatter(x, y)\n",
        "plt.xlim(-400, 400)\n",
        "plt.ylim(0, 800)"
      ],
      "id": "d6ec9bef"
    },
    {
      "cell_type": "markdown",
      "metadata": {},
      "source": [
        "<span class=\"theorem-title\">**Example 13**</span> Create a 3D plot of\n",
        "the `x`, `y` and `z` `unit_locations`."
      ],
      "id": "e5136603-1d68-4d5c-99ff-7ca3ed00c332"
    },
    {
      "cell_type": "code",
      "execution_count": 54,
      "metadata": {},
      "outputs": [
        {
          "output_type": "display_data",
          "metadata": {},
          "data": {
            "image/png": "[encoded data removed]"
          }
        }
      ],
      "source": [
        "x = unit_locations[:, 0]\n",
        "y = unit_locations[:, 1]\n",
        "z = unit_locations[:, 2]\n",
        "ax = plt.subplot(projection=\"3d\")\n",
        "ax.scatter(x, y, z)\n",
        "ax.set(xlim=(-400, 400), ylim=(0, 800))"
      ],
      "id": "ed229625"
    },
    {
      "cell_type": "markdown",
      "metadata": {},
      "source": [
        "<span class=\"theorem-title\">**Exercise 19**</span> Compute the unit\n",
        "locations using the `\"grid_convolution\"` method and print the shape of\n",
        "the returned `unit_locations`.\n",
        "\n",
        "*Solution.*"
      ],
      "id": "44ee0609-f3d9-4fbe-8f14-386e7c88f549"
    },
    {
      "cell_type": "code",
      "execution_count": 55,
      "metadata": {},
      "outputs": [
        {
          "output_type": "display_data",
          "metadata": {},
          "data": {
            "text/plain": [
              "(127, 3)"
            ]
          }
        }
      ],
      "source": [
        "unit_locations = si.compute_unit_locations(analyzer, method=\"grid_convolution\")\n",
        "unit_locations.shape"
      ],
      "id": "fc05fa6b"
    },
    {
      "cell_type": "markdown",
      "metadata": {},
      "source": [
        "<span class=\"theorem-title\">**Exercise 20**</span> Create a 3D plot of\n",
        "the `x`, `y` and `z` `unit_locations`.\n",
        "\n",
        "*Solution.*"
      ],
      "id": "ea5d624c-0074-4c4b-9244-7664bc63ea01"
    },
    {
      "cell_type": "code",
      "execution_count": 57,
      "metadata": {},
      "outputs": [
        {
          "output_type": "display_data",
          "metadata": {},
          "data": {
            "image/png": "[encoded data removed]"
          }
        }
      ],
      "source": [
        "x = unit_locations[:, 0]\n",
        "y = unit_locations[:, 1]\n",
        "z = unit_locations[:, 2]\n",
        "ax = plt.subplot(projection=\"3d\")\n",
        "ax.scatter(x, y, z)\n",
        "ax.set(xlim=(-400, 400), ylim=(0, 800))"
      ],
      "id": "16c4d45b"
    }
  ],
  "nbformat": 4,
  "nbformat_minor": 5,
  "metadata": {
    "kernelspec": {
      "name": "python3",
      "display_name": "Python 3 (ipykernel)",
      "language": "python",
      "path": "/home/olebi/courses/Intro-to-Neural-Spike-Analysis-in-Python/.pixi/envs/default/share/jupyter/kernels/python3"
    },
    "widgets": {
      "application/vnd.jupyter.widget-state+json": {
        "state": {
          "0053c62904074afcbab46b6bcb31fe5a": {
            "model_module": "@jupyter-widgets/controls",
            "model_module_version": "2.0.0",
            "model_name": "FloatProgressModel",
            "state": {
              "_dom_classes": [],
              "_model_module": "@jupyter-widgets/controls",
              "_model_module_version": "2.0.0",
              "_model_name": "FloatProgressModel",
              "_view_count": null,
              "_view_module": "@jupyter-widgets/controls",
              "_view_module_version": "2.0.0",
              "_view_name": "ProgressView",
              "bar_style": "success",
              "description": "",
              "description_allow_html": false,
              "layout": "IPY_MODEL_f2b849ada1664b43b514f06e5abaf736",
              "max": 300,
              "min": 0,
              "orientation": "horizontal",
              "style": "IPY_MODEL_ff571d6da10c475d9efc4a178d69e5a3",
              "tabbable": null,
              "tooltip": null,
              "value": 300
            }
          },
          "00b37b0d3c4f4c3c94e20da18ac7fbff": {
            "model_module": "@jupyter-widgets/base",
            "model_module_version": "2.0.0",
            "model_name": "LayoutModel",
            "state": {
              "_model_module": "@jupyter-widgets/base",
              "_model_module_version": "2.0.0",
              "_model_name": "LayoutModel",
              "_view_count": null,
              "_view_module": "@jupyter-widgets/base",
              "_view_module_version": "2.0.0",
              "_view_name": "LayoutView",
              "align_content": null,
              "align_items": null,
              "align_self": null,
              "border_bottom": null,
              "border_left": null,
              "border_right": null,
              "border_top": null,
              "bottom": null,
              "display": null,
              "flex": null,
              "flex_flow": null,
              "grid_area": null,
              "grid_auto_columns": null,
              "grid_auto_flow": null,
              "grid_auto_rows": null,
              "grid_column": null,
              "grid_gap": null,
              "grid_row": null,
              "grid_template_areas": null,
              "grid_template_columns": null,
              "grid_template_rows": null,
              "height": null,
              "justify_content": null,
              "justify_items": null,
              "left": null,
              "margin": null,
              "max_height": null,
              "max_width": null,
              "min_height": null,
              "min_width": null,
              "object_fit": null,
              "object_position": null,
              "order": null,
              "overflow": null,
              "padding": null,
              "right": null,
              "top": null,
              "visibility": null,
              "width": null
            }
          },
          "038839f21f714eddb755a5b580e21765": {
            "model_module": "@jupyter-widgets/base",
            "model_module_version": "2.0.0",
            "model_name": "LayoutModel",
            "state": {
              "_model_module": "@jupyter-widgets/base",
              "_model_module_version": "2.0.0",
              "_model_name": "LayoutModel",
              "_view_count": null,
              "_view_module": "@jupyter-widgets/base",
              "_view_module_version": "2.0.0",
              "_view_name": "LayoutView",
              "align_content": null,
              "align_items": null,
              "align_self": null,
              "border_bottom": null,
              "border_left": null,
              "border_right": null,
              "border_top": null,
              "bottom": null,
              "display": null,
              "flex": null,
              "flex_flow": null,
              "grid_area": null,
              "grid_auto_columns": null,
              "grid_auto_flow": null,
              "grid_auto_rows": null,
              "grid_column": null,
              "grid_gap": null,
              "grid_row": null,
              "grid_template_areas": null,
              "grid_template_columns": null,
              "grid_template_rows": null,
              "height": null,
              "justify_content": null,
              "justify_items": null,
              "left": null,
              "margin": null,
              "max_height": null,
              "max_width": null,
              "min_height": null,
              "min_width": null,
              "object_fit": null,
              "object_position": null,
              "order": null,
              "overflow": null,
              "padding": null,
              "right": null,
              "top": null,
              "visibility": null,
              "width": null
            }
          },
          "08a0816bee394ac392ccb039b06b5860": {
            "model_module": "@jupyter-widgets/controls",
            "model_module_version": "2.0.0",
            "model_name": "HTMLModel",
            "state": {
              "_dom_classes": [],
              "_model_module": "@jupyter-widgets/controls",
              "_model_module_version": "2.0.0",
              "_model_name": "HTMLModel",
              "_view_count": null,
              "_view_module": "@jupyter-widgets/controls",
              "_view_module_version": "2.0.0",
              "_view_name": "HTMLView",
              "description": "",
              "description_allow_html": false,
              "layout": "IPY_MODEL_9df7427db3b2419d9d8005a9b7071dd1",
              "placeholder": "​",
              "style": "IPY_MODEL_19de25170079495e8e6b31038c963b38",
              "tabbable": null,
              "tooltip": null,
              "value": " 300/300 [00:05&lt;00:00, 54.66it/s]"
            }
          },
          "09c51666941c46ca9e720abd4ef88e84": {
            "model_module": "@jupyter-widgets/controls",
            "model_module_version": "2.0.0",
            "model_name": "ProgressStyleModel",
            "state": {
              "_model_module": "@jupyter-widgets/controls",
              "_model_module_version": "2.0.0",
              "_model_name": "ProgressStyleModel",
              "_view_count": null,
              "_view_module": "@jupyter-widgets/base",
              "_view_module_version": "2.0.0",
              "_view_name": "StyleView",
              "bar_color": null,
              "description_width": ""
            }
          },
          "1768a0cdf2e3473c9b87d08f00b39ae0": {
            "model_module": "@jupyter-widgets/base",
            "model_module_version": "2.0.0",
            "model_name": "LayoutModel",
            "state": {
              "_model_module": "@jupyter-widgets/base",
              "_model_module_version": "2.0.0",
              "_model_name": "LayoutModel",
              "_view_count": null,
              "_view_module": "@jupyter-widgets/base",
              "_view_module_version": "2.0.0",
              "_view_name": "LayoutView",
              "align_content": null,
              "align_items": null,
              "align_self": null,
              "border_bottom": null,
              "border_left": null,
              "border_right": null,
              "border_top": null,
              "bottom": null,
              "display": null,
              "flex": null,
              "flex_flow": null,
              "grid_area": null,
              "grid_auto_columns": null,
              "grid_auto_flow": null,
              "grid_auto_rows": null,
              "grid_column": null,
              "grid_gap": null,
              "grid_row": null,
              "grid_template_areas": null,
              "grid_template_columns": null,
              "grid_template_rows": null,
              "height": null,
              "justify_content": null,
              "justify_items": null,
              "left": null,
              "margin": null,
              "max_height": null,
              "max_width": null,
              "min_height": null,
              "min_width": null,
              "object_fit": null,
              "object_position": null,
              "order": null,
              "overflow": null,
              "padding": null,
              "right": null,
              "top": null,
              "visibility": null,
              "width": null
            }
          },
          "1988a87f77664e2d87780b221fe19bfd": {
            "model_module": "@jupyter-widgets/controls",
            "model_module_version": "2.0.0",
            "model_name": "HTMLModel",
            "state": {
              "_dom_classes": [],
              "_model_module": "@jupyter-widgets/controls",
              "_model_module_version": "2.0.0",
              "_model_name": "HTMLModel",
              "_view_count": null,
              "_view_module": "@jupyter-widgets/controls",
              "_view_module_version": "2.0.0",
              "_view_name": "HTMLView",
              "description": "",
              "description_allow_html": false,
              "layout": "IPY_MODEL_b6a5304fef204286b40f224e50170fb8",
              "placeholder": "​",
              "style": "IPY_MODEL_c0fc097f45d24a00bba6cdc809fe4896",
              "tabbable": null,
              "tooltip": null,
              "value": " 20/20 [00:01&lt;00:00, 10.41it/s]"
            }
          },
          "19de25170079495e8e6b31038c963b38": {
            "model_module": "@jupyter-widgets/controls",
            "model_module_version": "2.0.0",
            "model_name": "HTMLStyleModel",
            "state": {
              "_model_module": "@jupyter-widgets/controls",
              "_model_module_version": "2.0.0",
              "_model_name": "HTMLStyleModel",
              "_view_count": null,
              "_view_module": "@jupyter-widgets/base",
              "_view_module_version": "2.0.0",
              "_view_name": "StyleView",
              "background": null,
              "description_width": "",
              "font_size": null,
              "text_color": null
            }
          },
          "1af8bf356962493f8c47f1f8159129ed": {
            "model_module": "@jupyter-widgets/controls",
            "model_module_version": "2.0.0",
            "model_name": "HTMLStyleModel",
            "state": {
              "_model_module": "@jupyter-widgets/controls",
              "_model_module_version": "2.0.0",
              "_model_name": "HTMLStyleModel",
              "_view_count": null,
              "_view_module": "@jupyter-widgets/base",
              "_view_module_version": "2.0.0",
              "_view_name": "StyleView",
              "background": null,
              "description_width": "",
              "font_size": null,
              "text_color": null
            }
          },
          "1cc2edcc24194f628e339a97eb1bf72b": {
            "model_module": "@jupyter-widgets/base",
            "model_module_version": "2.0.0",
            "model_name": "LayoutModel",
            "state": {
              "_model_module": "@jupyter-widgets/base",
              "_model_module_version": "2.0.0",
              "_model_name": "LayoutModel",
              "_view_count": null,
              "_view_module": "@jupyter-widgets/base",
              "_view_module_version": "2.0.0",
              "_view_name": "LayoutView",
              "align_content": null,
              "align_items": null,
              "align_self": null,
              "border_bottom": null,
              "border_left": null,
              "border_right": null,
              "border_top": null,
              "bottom": null,
              "display": null,
              "flex": null,
              "flex_flow": null,
              "grid_area": null,
              "grid_auto_columns": null,
              "grid_auto_flow": null,
              "grid_auto_rows": null,
              "grid_column": null,
              "grid_gap": null,
              "grid_row": null,
              "grid_template_areas": null,
              "grid_template_columns": null,
              "grid_template_rows": null,
              "height": null,
              "justify_content": null,
              "justify_items": null,
              "left": null,
              "margin": null,
              "max_height": null,
              "max_width": null,
              "min_height": null,
              "min_width": null,
              "object_fit": null,
              "object_position": null,
              "order": null,
              "overflow": null,
              "padding": null,
              "right": null,
              "top": null,
              "visibility": null,
              "width": null
            }
          },
          "1dc3a1b5844848a3be3f3fb1ba60437b": {
            "model_module": "@jupyter-widgets/base",
            "model_module_version": "2.0.0",
            "model_name": "LayoutModel",
            "state": {
              "_model_module": "@jupyter-widgets/base",
              "_model_module_version": "2.0.0",
              "_model_name": "LayoutModel",
              "_view_count": null,
              "_view_module": "@jupyter-widgets/base",
              "_view_module_version": "2.0.0",
              "_view_name": "LayoutView",
              "align_content": null,
              "align_items": null,
              "align_self": null,
              "border_bottom": null,
              "border_left": null,
              "border_right": null,
              "border_top": null,
              "bottom": null,
              "display": null,
              "flex": null,
              "flex_flow": null,
              "grid_area": null,
              "grid_auto_columns": null,
              "grid_auto_flow": null,
              "grid_auto_rows": null,
              "grid_column": null,
              "grid_gap": null,
              "grid_row": null,
              "grid_template_areas": null,
              "grid_template_columns": null,
              "grid_template_rows": null,
              "height": null,
              "justify_content": null,
              "justify_items": null,
              "left": null,
              "margin": null,
              "max_height": null,
              "max_width": null,
              "min_height": null,
              "min_width": null,
              "object_fit": null,
              "object_position": null,
              "order": null,
              "overflow": null,
              "padding": null,
              "right": null,
              "top": null,
              "visibility": null,
              "width": null
            }
          },
          "1ebd14b67ab44447b0f0d7b1a1a68237": {
            "model_module": "@jupyter-widgets/controls",
            "model_module_version": "2.0.0",
            "model_name": "FloatProgressModel",
            "state": {
              "_dom_classes": [],
              "_model_module": "@jupyter-widgets/controls",
              "_model_module_version": "2.0.0",
              "_model_name": "FloatProgressModel",
              "_view_count": null,
              "_view_module": "@jupyter-widgets/controls",
              "_view_module_version": "2.0.0",
              "_view_name": "ProgressView",
              "bar_style": "success",
              "description": "",
              "description_allow_html": false,
              "layout": "IPY_MODEL_bdc2024f9c4641c29fd3b13479b1e99f",
              "max": 300,
              "min": 0,
              "orientation": "horizontal",
              "style": "IPY_MODEL_9ce8913a560c44a58be453b298598961",
              "tabbable": null,
              "tooltip": null,
              "value": 300
            }
          },
          "1ff111a9b9d248f595cc82bab3e187e6": {
            "model_module": "@jupyter-widgets/controls",
            "model_module_version": "2.0.0",
            "model_name": "HTMLStyleModel",
            "state": {
              "_model_module": "@jupyter-widgets/controls",
              "_model_module_version": "2.0.0",
              "_model_name": "HTMLStyleModel",
              "_view_count": null,
              "_view_module": "@jupyter-widgets/base",
              "_view_module_version": "2.0.0",
              "_view_name": "StyleView",
              "background": null,
              "description_width": "",
              "font_size": null,
              "text_color": null
            }
          },
          "211afcedf3a24d1a970211048178bdf9": {
            "model_module": "@jupyter-widgets/controls",
            "model_module_version": "2.0.0",
            "model_name": "FloatProgressModel",
            "state": {
              "_dom_classes": [],
              "_model_module": "@jupyter-widgets/controls",
              "_model_module_version": "2.0.0",
              "_model_name": "FloatProgressModel",
              "_view_count": null,
              "_view_module": "@jupyter-widgets/controls",
              "_view_module_version": "2.0.0",
              "_view_name": "ProgressView",
              "bar_style": "success",
              "description": "",
              "description_allow_html": false,
              "layout": "IPY_MODEL_f875ce7d150441fea66ee24091a56c78",
              "max": 300,
              "min": 0,
              "orientation": "horizontal",
              "style": "IPY_MODEL_a3b061e5602c48aba4dc6d7af311af67",
              "tabbable": null,
              "tooltip": null,
              "value": 300
            }
          },
          "27290abd2cdb4765bd0a456e6c6fa4e1": {
            "model_module": "@jupyter-widgets/controls",
            "model_module_version": "2.0.0",
            "model_name": "HTMLModel",
            "state": {
              "_dom_classes": [],
              "_model_module": "@jupyter-widgets/controls",
              "_model_module_version": "2.0.0",
              "_model_name": "HTMLModel",
              "_view_count": null,
              "_view_module": "@jupyter-widgets/controls",
              "_view_module_version": "2.0.0",
              "_view_name": "HTMLView",
              "description": "",
              "description_allow_html": false,
              "layout": "IPY_MODEL_59f88cfb7ca2453ea552a094344d2ea2",
              "placeholder": "​",
              "style": "IPY_MODEL_3a8cf04527664b28ab2669fb096b0723",
              "tabbable": null,
              "tooltip": null,
              "value": "noise_level (no parallelization): 100%"
            }
          },
          "2b61badb7fe8430fadcf8818ab0fff8c": {
            "model_module": "@jupyter-widgets/controls",
            "model_module_version": "2.0.0",
            "model_name": "HTMLStyleModel",
            "state": {
              "_model_module": "@jupyter-widgets/controls",
              "_model_module_version": "2.0.0",
              "_model_name": "HTMLStyleModel",
              "_view_count": null,
              "_view_module": "@jupyter-widgets/base",
              "_view_module_version": "2.0.0",
              "_view_name": "StyleView",
              "background": null,
              "description_width": "",
              "font_size": null,
              "text_color": null
            }
          },
          "34607b93b111481f8c99a544bbebdc37": {
            "model_module": "@jupyter-widgets/controls",
            "model_module_version": "2.0.0",
            "model_name": "HTMLModel",
            "state": {
              "_dom_classes": [],
              "_model_module": "@jupyter-widgets/controls",
              "_model_module_version": "2.0.0",
              "_model_name": "HTMLModel",
              "_view_count": null,
              "_view_module": "@jupyter-widgets/controls",
              "_view_module_version": "2.0.0",
              "_view_name": "HTMLView",
              "description": "",
              "description_allow_html": false,
              "layout": "IPY_MODEL_038839f21f714eddb755a5b580e21765",
              "placeholder": "​",
              "style": "IPY_MODEL_4d05f96f04ff470d9bc6749c0e7497be",
              "tabbable": null,
              "tooltip": null,
              "value": "noise_level (no parallelization): 100%"
            }
          },
          "3a8cf04527664b28ab2669fb096b0723": {
            "model_module": "@jupyter-widgets/controls",
            "model_module_version": "2.0.0",
            "model_name": "HTMLStyleModel",
            "state": {
              "_model_module": "@jupyter-widgets/controls",
              "_model_module_version": "2.0.0",
              "_model_name": "HTMLStyleModel",
              "_view_count": null,
              "_view_module": "@jupyter-widgets/base",
              "_view_module_version": "2.0.0",
              "_view_name": "StyleView",
              "background": null,
              "description_width": "",
              "font_size": null,
              "text_color": null
            }
          },
          "3c617772933a49e9931568f8c95cabf4": {
            "model_module": "@jupyter-widgets/base",
            "model_module_version": "2.0.0",
            "model_name": "LayoutModel",
            "state": {
              "_model_module": "@jupyter-widgets/base",
              "_model_module_version": "2.0.0",
              "_model_name": "LayoutModel",
              "_view_count": null,
              "_view_module": "@jupyter-widgets/base",
              "_view_module_version": "2.0.0",
              "_view_name": "LayoutView",
              "align_content": null,
              "align_items": null,
              "align_self": null,
              "border_bottom": null,
              "border_left": null,
              "border_right": null,
              "border_top": null,
              "bottom": null,
              "display": null,
              "flex": null,
              "flex_flow": null,
              "grid_area": null,
              "grid_auto_columns": null,
              "grid_auto_flow": null,
              "grid_auto_rows": null,
              "grid_column": null,
              "grid_gap": null,
              "grid_row": null,
              "grid_template_areas": null,
              "grid_template_columns": null,
              "grid_template_rows": null,
              "height": null,
              "justify_content": null,
              "justify_items": null,
              "left": null,
              "margin": null,
              "max_height": null,
              "max_width": null,
              "min_height": null,
              "min_width": null,
              "object_fit": null,
              "object_position": null,
              "order": null,
              "overflow": null,
              "padding": null,
              "right": null,
              "top": null,
              "visibility": null,
              "width": null
            }
          },
          "41ea1f66cfb747db873bce02c0131f95": {
            "model_module": "@jupyter-widgets/base",
            "model_module_version": "2.0.0",
            "model_name": "LayoutModel",
            "state": {
              "_model_module": "@jupyter-widgets/base",
              "_model_module_version": "2.0.0",
              "_model_name": "LayoutModel",
              "_view_count": null,
              "_view_module": "@jupyter-widgets/base",
              "_view_module_version": "2.0.0",
              "_view_name": "LayoutView",
              "align_content": null,
              "align_items": null,
              "align_self": null,
              "border_bottom": null,
              "border_left": null,
              "border_right": null,
              "border_top": null,
              "bottom": null,
              "display": null,
              "flex": null,
              "flex_flow": null,
              "grid_area": null,
              "grid_auto_columns": null,
              "grid_auto_flow": null,
              "grid_auto_rows": null,
              "grid_column": null,
              "grid_gap": null,
              "grid_row": null,
              "grid_template_areas": null,
              "grid_template_columns": null,
              "grid_template_rows": null,
              "height": null,
              "justify_content": null,
              "justify_items": null,
              "left": null,
              "margin": null,
              "max_height": null,
              "max_width": null,
              "min_height": null,
              "min_width": null,
              "object_fit": null,
              "object_position": null,
              "order": null,
              "overflow": null,
              "padding": null,
              "right": null,
              "top": null,
              "visibility": null,
              "width": null
            }
          },
          "440ad53d9d1f4c99a79b19cb953c15b4": {
            "model_module": "@jupyter-widgets/controls",
            "model_module_version": "2.0.0",
            "model_name": "HTMLStyleModel",
            "state": {
              "_model_module": "@jupyter-widgets/controls",
              "_model_module_version": "2.0.0",
              "_model_name": "HTMLStyleModel",
              "_view_count": null,
              "_view_module": "@jupyter-widgets/base",
              "_view_module_version": "2.0.0",
              "_view_name": "StyleView",
              "background": null,
              "description_width": "",
              "font_size": null,
              "text_color": null
            }
          },
          "4809f05a5a554045a55f5e4512eab35e": {
            "model_module": "@jupyter-widgets/base",
            "model_module_version": "2.0.0",
            "model_name": "LayoutModel",
            "state": {
              "_model_module": "@jupyter-widgets/base",
              "_model_module_version": "2.0.0",
              "_model_name": "LayoutModel",
              "_view_count": null,
              "_view_module": "@jupyter-widgets/base",
              "_view_module_version": "2.0.0",
              "_view_name": "LayoutView",
              "align_content": null,
              "align_items": null,
              "align_self": null,
              "border_bottom": null,
              "border_left": null,
              "border_right": null,
              "border_top": null,
              "bottom": null,
              "display": null,
              "flex": null,
              "flex_flow": null,
              "grid_area": null,
              "grid_auto_columns": null,
              "grid_auto_flow": null,
              "grid_auto_rows": null,
              "grid_column": null,
              "grid_gap": null,
              "grid_row": null,
              "grid_template_areas": null,
              "grid_template_columns": null,
              "grid_template_rows": null,
              "height": null,
              "justify_content": null,
              "justify_items": null,
              "left": null,
              "margin": null,
              "max_height": null,
              "max_width": null,
              "min_height": null,
              "min_width": null,
              "object_fit": null,
              "object_position": null,
              "order": null,
              "overflow": null,
              "padding": null,
              "right": null,
              "top": null,
              "visibility": null,
              "width": null
            }
          },
          "48211f04a3b4423aa095d7df2003c45e": {
            "model_module": "@jupyter-widgets/controls",
            "model_module_version": "2.0.0",
            "model_name": "ProgressStyleModel",
            "state": {
              "_model_module": "@jupyter-widgets/controls",
              "_model_module_version": "2.0.0",
              "_model_name": "ProgressStyleModel",
              "_view_count": null,
              "_view_module": "@jupyter-widgets/base",
              "_view_module_version": "2.0.0",
              "_view_name": "StyleView",
              "bar_color": null,
              "description_width": ""
            }
          },
          "4d05f96f04ff470d9bc6749c0e7497be": {
            "model_module": "@jupyter-widgets/controls",
            "model_module_version": "2.0.0",
            "model_name": "HTMLStyleModel",
            "state": {
              "_model_module": "@jupyter-widgets/controls",
              "_model_module_version": "2.0.0",
              "_model_name": "HTMLStyleModel",
              "_view_count": null,
              "_view_module": "@jupyter-widgets/base",
              "_view_module_version": "2.0.0",
              "_view_name": "StyleView",
              "background": null,
              "description_width": "",
              "font_size": null,
              "text_color": null
            }
          },
          "4d4a47e8d2814c6494e00ff4558ffc93": {
            "model_module": "@jupyter-widgets/controls",
            "model_module_version": "2.0.0",
            "model_name": "HTMLStyleModel",
            "state": {
              "_model_module": "@jupyter-widgets/controls",
              "_model_module_version": "2.0.0",
              "_model_name": "HTMLStyleModel",
              "_view_count": null,
              "_view_module": "@jupyter-widgets/base",
              "_view_module_version": "2.0.0",
              "_view_name": "StyleView",
              "background": null,
              "description_width": "",
              "font_size": null,
              "text_color": null
            }
          },
          "4f0291f13a22420ca1cf00801b07c442": {
            "model_module": "@jupyter-widgets/controls",
            "model_module_version": "2.0.0",
            "model_name": "HTMLModel",
            "state": {
              "_dom_classes": [],
              "_model_module": "@jupyter-widgets/controls",
              "_model_module_version": "2.0.0",
              "_model_name": "HTMLModel",
              "_view_count": null,
              "_view_module": "@jupyter-widgets/controls",
              "_view_module_version": "2.0.0",
              "_view_name": "HTMLView",
              "description": "",
              "description_allow_html": false,
              "layout": "IPY_MODEL_71658d50f1ea4cd4b647c31f91893759",
              "placeholder": "​",
              "style": "IPY_MODEL_c106c069fc834bdbb02ddd7591671a71",
              "tabbable": null,
              "tooltip": null,
              "value": "estimate_sparsity (no parallelization): 100%"
            }
          },
          "57c702dd42704fddb49cc64d94b47266": {
            "model_module": "@jupyter-widgets/controls",
            "model_module_version": "2.0.0",
            "model_name": "FloatProgressModel",
            "state": {
              "_dom_classes": [],
              "_model_module": "@jupyter-widgets/controls",
              "_model_module_version": "2.0.0",
              "_model_name": "FloatProgressModel",
              "_view_count": null,
              "_view_module": "@jupyter-widgets/controls",
              "_view_module_version": "2.0.0",
              "_view_name": "ProgressView",
              "bar_style": "success",
              "description": "",
              "description_allow_html": false,
              "layout": "IPY_MODEL_41ea1f66cfb747db873bce02c0131f95",
              "max": 300,
              "min": 0,
              "orientation": "horizontal",
              "style": "IPY_MODEL_5b694cccc6b541c1a4ed74399c2757fd",
              "tabbable": null,
              "tooltip": null,
              "value": 300
            }
          },
          "5904837fff45409bb30a1d1d4fae2dbf": {
            "model_module": "@jupyter-widgets/base",
            "model_module_version": "2.0.0",
            "model_name": "LayoutModel",
            "state": {
              "_model_module": "@jupyter-widgets/base",
              "_model_module_version": "2.0.0",
              "_model_name": "LayoutModel",
              "_view_count": null,
              "_view_module": "@jupyter-widgets/base",
              "_view_module_version": "2.0.0",
              "_view_name": "LayoutView",
              "align_content": null,
              "align_items": null,
              "align_self": null,
              "border_bottom": null,
              "border_left": null,
              "border_right": null,
              "border_top": null,
              "bottom": null,
              "display": null,
              "flex": null,
              "flex_flow": null,
              "grid_area": null,
              "grid_auto_columns": null,
              "grid_auto_flow": null,
              "grid_auto_rows": null,
              "grid_column": null,
              "grid_gap": null,
              "grid_row": null,
              "grid_template_areas": null,
              "grid_template_columns": null,
              "grid_template_rows": null,
              "height": null,
              "justify_content": null,
              "justify_items": null,
              "left": null,
              "margin": null,
              "max_height": null,
              "max_width": null,
              "min_height": null,
              "min_width": null,
              "object_fit": null,
              "object_position": null,
              "order": null,
              "overflow": null,
              "padding": null,
              "right": null,
              "top": null,
              "visibility": null,
              "width": null
            }
          },
          "59f88cfb7ca2453ea552a094344d2ea2": {
            "model_module": "@jupyter-widgets/base",
            "model_module_version": "2.0.0",
            "model_name": "LayoutModel",
            "state": {
              "_model_module": "@jupyter-widgets/base",
              "_model_module_version": "2.0.0",
              "_model_name": "LayoutModel",
              "_view_count": null,
              "_view_module": "@jupyter-widgets/base",
              "_view_module_version": "2.0.0",
              "_view_name": "LayoutView",
              "align_content": null,
              "align_items": null,
              "align_self": null,
              "border_bottom": null,
              "border_left": null,
              "border_right": null,
              "border_top": null,
              "bottom": null,
              "display": null,
              "flex": null,
              "flex_flow": null,
              "grid_area": null,
              "grid_auto_columns": null,
              "grid_auto_flow": null,
              "grid_auto_rows": null,
              "grid_column": null,
              "grid_gap": null,
              "grid_row": null,
              "grid_template_areas": null,
              "grid_template_columns": null,
              "grid_template_rows": null,
              "height": null,
              "justify_content": null,
              "justify_items": null,
              "left": null,
              "margin": null,
              "max_height": null,
              "max_width": null,
              "min_height": null,
              "min_width": null,
              "object_fit": null,
              "object_position": null,
              "order": null,
              "overflow": null,
              "padding": null,
              "right": null,
              "top": null,
              "visibility": null,
              "width": null
            }
          },
          "5b26e75d29724f5e9ac96c75eafdb1c4": {
            "model_module": "@jupyter-widgets/controls",
            "model_module_version": "2.0.0",
            "model_name": "HTMLStyleModel",
            "state": {
              "_model_module": "@jupyter-widgets/controls",
              "_model_module_version": "2.0.0",
              "_model_name": "HTMLStyleModel",
              "_view_count": null,
              "_view_module": "@jupyter-widgets/base",
              "_view_module_version": "2.0.0",
              "_view_name": "StyleView",
              "background": null,
              "description_width": "",
              "font_size": null,
              "text_color": null
            }
          },
          "5b694cccc6b541c1a4ed74399c2757fd": {
            "model_module": "@jupyter-widgets/controls",
            "model_module_version": "2.0.0",
            "model_name": "ProgressStyleModel",
            "state": {
              "_model_module": "@jupyter-widgets/controls",
              "_model_module_version": "2.0.0",
              "_model_name": "ProgressStyleModel",
              "_view_count": null,
              "_view_module": "@jupyter-widgets/base",
              "_view_module_version": "2.0.0",
              "_view_name": "StyleView",
              "bar_color": null,
              "description_width": ""
            }
          },
          "680f806f230d43c4ba0b3bbf8dbec26a": {
            "model_module": "@jupyter-widgets/controls",
            "model_module_version": "2.0.0",
            "model_name": "HBoxModel",
            "state": {
              "_dom_classes": [],
              "_model_module": "@jupyter-widgets/controls",
              "_model_module_version": "2.0.0",
              "_model_name": "HBoxModel",
              "_view_count": null,
              "_view_module": "@jupyter-widgets/controls",
              "_view_module_version": "2.0.0",
              "_view_name": "HBoxView",
              "box_style": "",
              "children": [
                "IPY_MODEL_f2c246b03b3942e8a0b742dcb5908e63",
                "IPY_MODEL_d215abfcca364ccca170849151f256c6",
                "IPY_MODEL_6ae2d3f65c544547943bd642d193441b"
              ],
              "layout": "IPY_MODEL_8e5bdf6f38ff4e14b75c13ce27be0833",
              "tabbable": null,
              "tooltip": null
            }
          },
          "6ae2d3f65c544547943bd642d193441b": {
            "model_module": "@jupyter-widgets/controls",
            "model_module_version": "2.0.0",
            "model_name": "HTMLModel",
            "state": {
              "_dom_classes": [],
              "_model_module": "@jupyter-widgets/controls",
              "_model_module_version": "2.0.0",
              "_model_name": "HTMLModel",
              "_view_count": null,
              "_view_module": "@jupyter-widgets/controls",
              "_view_module_version": "2.0.0",
              "_view_name": "HTMLView",
              "description": "",
              "description_allow_html": false,
              "layout": "IPY_MODEL_a8b037f2e40e4e9c8008aa4210714fe0",
              "placeholder": "​",
              "style": "IPY_MODEL_d9befb3d5eaf4d5faddd98b5979cf0a7",
              "tabbable": null,
              "tooltip": null,
              "value": " 300/300 [00:04&lt;00:00, 63.40it/s]"
            }
          },
          "6e3b9fd8b94c4ddb9fe8fcddfa5721c6": {
            "model_module": "@jupyter-widgets/controls",
            "model_module_version": "2.0.0",
            "model_name": "HTMLStyleModel",
            "state": {
              "_model_module": "@jupyter-widgets/controls",
              "_model_module_version": "2.0.0",
              "_model_name": "HTMLStyleModel",
              "_view_count": null,
              "_view_module": "@jupyter-widgets/base",
              "_view_module_version": "2.0.0",
              "_view_name": "StyleView",
              "background": null,
              "description_width": "",
              "font_size": null,
              "text_color": null
            }
          },
          "6ef8cc5b94024eb3b8606bcad010745c": {
            "model_module": "@jupyter-widgets/controls",
            "model_module_version": "2.0.0",
            "model_name": "HTMLStyleModel",
            "state": {
              "_model_module": "@jupyter-widgets/controls",
              "_model_module_version": "2.0.0",
              "_model_name": "HTMLStyleModel",
              "_view_count": null,
              "_view_module": "@jupyter-widgets/base",
              "_view_module_version": "2.0.0",
              "_view_name": "StyleView",
              "background": null,
              "description_width": "",
              "font_size": null,
              "text_color": null
            }
          },
          "71658d50f1ea4cd4b647c31f91893759": {
            "model_module": "@jupyter-widgets/base",
            "model_module_version": "2.0.0",
            "model_name": "LayoutModel",
            "state": {
              "_model_module": "@jupyter-widgets/base",
              "_model_module_version": "2.0.0",
              "_model_name": "LayoutModel",
              "_view_count": null,
              "_view_module": "@jupyter-widgets/base",
              "_view_module_version": "2.0.0",
              "_view_name": "LayoutView",
              "align_content": null,
              "align_items": null,
              "align_self": null,
              "border_bottom": null,
              "border_left": null,
              "border_right": null,
              "border_top": null,
              "bottom": null,
              "display": null,
              "flex": null,
              "flex_flow": null,
              "grid_area": null,
              "grid_auto_columns": null,
              "grid_auto_flow": null,
              "grid_auto_rows": null,
              "grid_column": null,
              "grid_gap": null,
              "grid_row": null,
              "grid_template_areas": null,
              "grid_template_columns": null,
              "grid_template_rows": null,
              "height": null,
              "justify_content": null,
              "justify_items": null,
              "left": null,
              "margin": null,
              "max_height": null,
              "max_width": null,
              "min_height": null,
              "min_width": null,
              "object_fit": null,
              "object_position": null,
              "order": null,
              "overflow": null,
              "padding": null,
              "right": null,
              "top": null,
              "visibility": null,
              "width": null
            }
          },
          "74bd24b23d4f451d9e40bfb5e9b702e1": {
            "model_module": "@jupyter-widgets/controls",
            "model_module_version": "2.0.0",
            "model_name": "HBoxModel",
            "state": {
              "_dom_classes": [],
              "_model_module": "@jupyter-widgets/controls",
              "_model_module_version": "2.0.0",
              "_model_name": "HBoxModel",
              "_view_count": null,
              "_view_module": "@jupyter-widgets/controls",
              "_view_module_version": "2.0.0",
              "_view_name": "HBoxView",
              "box_style": "",
              "children": [
                "IPY_MODEL_7eaf6a1ac8e64a9c9417a209b8872292",
                "IPY_MODEL_57c702dd42704fddb49cc64d94b47266",
                "IPY_MODEL_ea91a6cb7151457c8cfdc0d5b9de08f9"
              ],
              "layout": "IPY_MODEL_3c617772933a49e9931568f8c95cabf4",
              "tabbable": null,
              "tooltip": null
            }
          },
          "74bd8c25225147a69d40f81f157a1846": {
            "model_module": "@jupyter-widgets/base",
            "model_module_version": "2.0.0",
            "model_name": "LayoutModel",
            "state": {
              "_model_module": "@jupyter-widgets/base",
              "_model_module_version": "2.0.0",
              "_model_name": "LayoutModel",
              "_view_count": null,
              "_view_module": "@jupyter-widgets/base",
              "_view_module_version": "2.0.0",
              "_view_name": "LayoutView",
              "align_content": null,
              "align_items": null,
              "align_self": null,
              "border_bottom": null,
              "border_left": null,
              "border_right": null,
              "border_top": null,
              "bottom": null,
              "display": null,
              "flex": null,
              "flex_flow": null,
              "grid_area": null,
              "grid_auto_columns": null,
              "grid_auto_flow": null,
              "grid_auto_rows": null,
              "grid_column": null,
              "grid_gap": null,
              "grid_row": null,
              "grid_template_areas": null,
              "grid_template_columns": null,
              "grid_template_rows": null,
              "height": null,
              "justify_content": null,
              "justify_items": null,
              "left": null,
              "margin": null,
              "max_height": null,
              "max_width": null,
              "min_height": null,
              "min_width": null,
              "object_fit": null,
              "object_position": null,
              "order": null,
              "overflow": null,
              "padding": null,
              "right": null,
              "top": null,
              "visibility": null,
              "width": null
            }
          },
          "75cc7b57b69e4eb7a2bb8b48d2cde5be": {
            "model_module": "@jupyter-widgets/controls",
            "model_module_version": "2.0.0",
            "model_name": "HBoxModel",
            "state": {
              "_dom_classes": [],
              "_model_module": "@jupyter-widgets/controls",
              "_model_module_version": "2.0.0",
              "_model_name": "HBoxModel",
              "_view_count": null,
              "_view_module": "@jupyter-widgets/controls",
              "_view_module_version": "2.0.0",
              "_view_name": "HBoxView",
              "box_style": "",
              "children": [
                "IPY_MODEL_d74f29611f1f4d97ab559cf7bd788ff4",
                "IPY_MODEL_211afcedf3a24d1a970211048178bdf9",
                "IPY_MODEL_bf3342cda9384cbda0b9c80a18e4fce5"
              ],
              "layout": "IPY_MODEL_b0242b34bfde4a5fae54dc36db798c12",
              "tabbable": null,
              "tooltip": null
            }
          },
          "7959621212c04f4dbf8294230167479d": {
            "model_module": "@jupyter-widgets/base",
            "model_module_version": "2.0.0",
            "model_name": "LayoutModel",
            "state": {
              "_model_module": "@jupyter-widgets/base",
              "_model_module_version": "2.0.0",
              "_model_name": "LayoutModel",
              "_view_count": null,
              "_view_module": "@jupyter-widgets/base",
              "_view_module_version": "2.0.0",
              "_view_name": "LayoutView",
              "align_content": null,
              "align_items": null,
              "align_self": null,
              "border_bottom": null,
              "border_left": null,
              "border_right": null,
              "border_top": null,
              "bottom": null,
              "display": null,
              "flex": null,
              "flex_flow": null,
              "grid_area": null,
              "grid_auto_columns": null,
              "grid_auto_flow": null,
              "grid_auto_rows": null,
              "grid_column": null,
              "grid_gap": null,
              "grid_row": null,
              "grid_template_areas": null,
              "grid_template_columns": null,
              "grid_template_rows": null,
              "height": null,
              "justify_content": null,
              "justify_items": null,
              "left": null,
              "margin": null,
              "max_height": null,
              "max_width": null,
              "min_height": null,
              "min_width": null,
              "object_fit": null,
              "object_position": null,
              "order": null,
              "overflow": null,
              "padding": null,
              "right": null,
              "top": null,
              "visibility": null,
              "width": null
            }
          },
          "7bc790373aa146a688fd3b0c549bde31": {
            "model_module": "@jupyter-widgets/controls",
            "model_module_version": "2.0.0",
            "model_name": "HTMLModel",
            "state": {
              "_dom_classes": [],
              "_model_module": "@jupyter-widgets/controls",
              "_model_module_version": "2.0.0",
              "_model_name": "HTMLModel",
              "_view_count": null,
              "_view_module": "@jupyter-widgets/controls",
              "_view_module_version": "2.0.0",
              "_view_name": "HTMLView",
              "description": "",
              "description_allow_html": false,
              "layout": "IPY_MODEL_1768a0cdf2e3473c9b87d08f00b39ae0",
              "placeholder": "​",
              "style": "IPY_MODEL_2b61badb7fe8430fadcf8818ab0fff8c",
              "tabbable": null,
              "tooltip": null,
              "value": " 300/300 [00:04&lt;00:00, 65.04it/s]"
            }
          },
          "7eaf6a1ac8e64a9c9417a209b8872292": {
            "model_module": "@jupyter-widgets/controls",
            "model_module_version": "2.0.0",
            "model_name": "HTMLModel",
            "state": {
              "_dom_classes": [],
              "_model_module": "@jupyter-widgets/controls",
              "_model_module_version": "2.0.0",
              "_model_name": "HTMLModel",
              "_view_count": null,
              "_view_module": "@jupyter-widgets/controls",
              "_view_module_version": "2.0.0",
              "_view_name": "HTMLView",
              "description": "",
              "description_allow_html": false,
              "layout": "IPY_MODEL_ce5c42fba9ec4babbb742ac02bfcd3bc",
              "placeholder": "​",
              "style": "IPY_MODEL_a47117c7e71e41bfa1a182a0f5074dc4",
              "tabbable": null,
              "tooltip": null,
              "value": "compute_waveforms (no parallelization): 100%"
            }
          },
          "80153bdb5d2e4ec1a33204d06e57ab0c": {
            "model_module": "@jupyter-widgets/controls",
            "model_module_version": "2.0.0",
            "model_name": "FloatProgressModel",
            "state": {
              "_dom_classes": [],
              "_model_module": "@jupyter-widgets/controls",
              "_model_module_version": "2.0.0",
              "_model_name": "FloatProgressModel",
              "_view_count": null,
              "_view_module": "@jupyter-widgets/controls",
              "_view_module_version": "2.0.0",
              "_view_name": "ProgressView",
              "bar_style": "success",
              "description": "",
              "description_allow_html": false,
              "layout": "IPY_MODEL_74bd8c25225147a69d40f81f157a1846",
              "max": 20,
              "min": 0,
              "orientation": "horizontal",
              "style": "IPY_MODEL_88703ea700314b45beb2f204d60c9321",
              "tabbable": null,
              "tooltip": null,
              "value": 20
            }
          },
          "832ee06aab4e4f31b27675912678abe2": {
            "model_module": "@jupyter-widgets/controls",
            "model_module_version": "2.0.0",
            "model_name": "ProgressStyleModel",
            "state": {
              "_model_module": "@jupyter-widgets/controls",
              "_model_module_version": "2.0.0",
              "_model_name": "ProgressStyleModel",
              "_view_count": null,
              "_view_module": "@jupyter-widgets/base",
              "_view_module_version": "2.0.0",
              "_view_name": "StyleView",
              "bar_color": null,
              "description_width": ""
            }
          },
          "88703ea700314b45beb2f204d60c9321": {
            "model_module": "@jupyter-widgets/controls",
            "model_module_version": "2.0.0",
            "model_name": "ProgressStyleModel",
            "state": {
              "_model_module": "@jupyter-widgets/controls",
              "_model_module_version": "2.0.0",
              "_model_name": "ProgressStyleModel",
              "_view_count": null,
              "_view_module": "@jupyter-widgets/base",
              "_view_module_version": "2.0.0",
              "_view_name": "StyleView",
              "bar_color": null,
              "description_width": ""
            }
          },
          "8e5bdf6f38ff4e14b75c13ce27be0833": {
            "model_module": "@jupyter-widgets/base",
            "model_module_version": "2.0.0",
            "model_name": "LayoutModel",
            "state": {
              "_model_module": "@jupyter-widgets/base",
              "_model_module_version": "2.0.0",
              "_model_name": "LayoutModel",
              "_view_count": null,
              "_view_module": "@jupyter-widgets/base",
              "_view_module_version": "2.0.0",
              "_view_name": "LayoutView",
              "align_content": null,
              "align_items": null,
              "align_self": null,
              "border_bottom": null,
              "border_left": null,
              "border_right": null,
              "border_top": null,
              "bottom": null,
              "display": null,
              "flex": null,
              "flex_flow": null,
              "grid_area": null,
              "grid_auto_columns": null,
              "grid_auto_flow": null,
              "grid_auto_rows": null,
              "grid_column": null,
              "grid_gap": null,
              "grid_row": null,
              "grid_template_areas": null,
              "grid_template_columns": null,
              "grid_template_rows": null,
              "height": null,
              "justify_content": null,
              "justify_items": null,
              "left": null,
              "margin": null,
              "max_height": null,
              "max_width": null,
              "min_height": null,
              "min_width": null,
              "object_fit": null,
              "object_position": null,
              "order": null,
              "overflow": null,
              "padding": null,
              "right": null,
              "top": null,
              "visibility": null,
              "width": null
            }
          },
          "8f11c2e0d34a494da85f90a8850ea250": {
            "model_module": "@jupyter-widgets/base",
            "model_module_version": "2.0.0",
            "model_name": "LayoutModel",
            "state": {
              "_model_module": "@jupyter-widgets/base",
              "_model_module_version": "2.0.0",
              "_model_name": "LayoutModel",
              "_view_count": null,
              "_view_module": "@jupyter-widgets/base",
              "_view_module_version": "2.0.0",
              "_view_name": "LayoutView",
              "align_content": null,
              "align_items": null,
              "align_self": null,
              "border_bottom": null,
              "border_left": null,
              "border_right": null,
              "border_top": null,
              "bottom": null,
              "display": null,
              "flex": null,
              "flex_flow": null,
              "grid_area": null,
              "grid_auto_columns": null,
              "grid_auto_flow": null,
              "grid_auto_rows": null,
              "grid_column": null,
              "grid_gap": null,
              "grid_row": null,
              "grid_template_areas": null,
              "grid_template_columns": null,
              "grid_template_rows": null,
              "height": null,
              "justify_content": null,
              "justify_items": null,
              "left": null,
              "margin": null,
              "max_height": null,
              "max_width": null,
              "min_height": null,
              "min_width": null,
              "object_fit": null,
              "object_position": null,
              "order": null,
              "overflow": null,
              "padding": null,
              "right": null,
              "top": null,
              "visibility": null,
              "width": null
            }
          },
          "911541009ace4864ac66c78c1e072d09": {
            "model_module": "@jupyter-widgets/controls",
            "model_module_version": "2.0.0",
            "model_name": "HTMLStyleModel",
            "state": {
              "_model_module": "@jupyter-widgets/controls",
              "_model_module_version": "2.0.0",
              "_model_name": "HTMLStyleModel",
              "_view_count": null,
              "_view_module": "@jupyter-widgets/base",
              "_view_module_version": "2.0.0",
              "_view_name": "StyleView",
              "background": null,
              "description_width": "",
              "font_size": null,
              "text_color": null
            }
          },
          "963f803b19f345bda29dd7c3a533ad6b": {
            "model_module": "@jupyter-widgets/controls",
            "model_module_version": "2.0.0",
            "model_name": "FloatProgressModel",
            "state": {
              "_dom_classes": [],
              "_model_module": "@jupyter-widgets/controls",
              "_model_module_version": "2.0.0",
              "_model_name": "FloatProgressModel",
              "_view_count": null,
              "_view_module": "@jupyter-widgets/controls",
              "_view_module_version": "2.0.0",
              "_view_name": "ProgressView",
              "bar_style": "success",
              "description": "",
              "description_allow_html": false,
              "layout": "IPY_MODEL_4809f05a5a554045a55f5e4512eab35e",
              "max": 300,
              "min": 0,
              "orientation": "horizontal",
              "style": "IPY_MODEL_09c51666941c46ca9e720abd4ef88e84",
              "tabbable": null,
              "tooltip": null,
              "value": 300
            }
          },
          "96d35b049f0948d9b99ece9ef12fb188": {
            "model_module": "@jupyter-widgets/controls",
            "model_module_version": "2.0.0",
            "model_name": "HBoxModel",
            "state": {
              "_dom_classes": [],
              "_model_module": "@jupyter-widgets/controls",
              "_model_module_version": "2.0.0",
              "_model_name": "HBoxModel",
              "_view_count": null,
              "_view_module": "@jupyter-widgets/controls",
              "_view_module_version": "2.0.0",
              "_view_name": "HBoxView",
              "box_style": "",
              "children": [
                "IPY_MODEL_27290abd2cdb4765bd0a456e6c6fa4e1",
                "IPY_MODEL_fc5c4cd1e643429980fd58afb2f0cad9",
                "IPY_MODEL_d9a1e97f3d1b4623b4bc4961be5370c7"
              ],
              "layout": "IPY_MODEL_dbbaf7c18e484c5aa13dc26314c9b816",
              "tabbable": null,
              "tooltip": null
            }
          },
          "9c70a31d7387489ba5402807380b96e2": {
            "model_module": "@jupyter-widgets/controls",
            "model_module_version": "2.0.0",
            "model_name": "HTMLModel",
            "state": {
              "_dom_classes": [],
              "_model_module": "@jupyter-widgets/controls",
              "_model_module_version": "2.0.0",
              "_model_name": "HTMLModel",
              "_view_count": null,
              "_view_module": "@jupyter-widgets/controls",
              "_view_module_version": "2.0.0",
              "_view_name": "HTMLView",
              "description": "",
              "description_allow_html": false,
              "layout": "IPY_MODEL_f7d30772bb05442d9a575d88b9cb2ddc",
              "placeholder": "​",
              "style": "IPY_MODEL_440ad53d9d1f4c99a79b19cb953c15b4",
              "tabbable": null,
              "tooltip": null,
              "value": "compute_waveforms (no parallelization): 100%"
            }
          },
          "9ce8913a560c44a58be453b298598961": {
            "model_module": "@jupyter-widgets/controls",
            "model_module_version": "2.0.0",
            "model_name": "ProgressStyleModel",
            "state": {
              "_model_module": "@jupyter-widgets/controls",
              "_model_module_version": "2.0.0",
              "_model_name": "ProgressStyleModel",
              "_view_count": null,
              "_view_module": "@jupyter-widgets/base",
              "_view_module_version": "2.0.0",
              "_view_name": "StyleView",
              "bar_color": null,
              "description_width": ""
            }
          },
          "9df7427db3b2419d9d8005a9b7071dd1": {
            "model_module": "@jupyter-widgets/base",
            "model_module_version": "2.0.0",
            "model_name": "LayoutModel",
            "state": {
              "_model_module": "@jupyter-widgets/base",
              "_model_module_version": "2.0.0",
              "_model_name": "LayoutModel",
              "_view_count": null,
              "_view_module": "@jupyter-widgets/base",
              "_view_module_version": "2.0.0",
              "_view_name": "LayoutView",
              "align_content": null,
              "align_items": null,
              "align_self": null,
              "border_bottom": null,
              "border_left": null,
              "border_right": null,
              "border_top": null,
              "bottom": null,
              "display": null,
              "flex": null,
              "flex_flow": null,
              "grid_area": null,
              "grid_auto_columns": null,
              "grid_auto_flow": null,
              "grid_auto_rows": null,
              "grid_column": null,
              "grid_gap": null,
              "grid_row": null,
              "grid_template_areas": null,
              "grid_template_columns": null,
              "grid_template_rows": null,
              "height": null,
              "justify_content": null,
              "justify_items": null,
              "left": null,
              "margin": null,
              "max_height": null,
              "max_width": null,
              "min_height": null,
              "min_width": null,
              "object_fit": null,
              "object_position": null,
              "order": null,
              "overflow": null,
              "padding": null,
              "right": null,
              "top": null,
              "visibility": null,
              "width": null
            }
          },
          "9f5149e107f841ff9e36e772b4367942": {
            "model_module": "@jupyter-widgets/base",
            "model_module_version": "2.0.0",
            "model_name": "LayoutModel",
            "state": {
              "_model_module": "@jupyter-widgets/base",
              "_model_module_version": "2.0.0",
              "_model_name": "LayoutModel",
              "_view_count": null,
              "_view_module": "@jupyter-widgets/base",
              "_view_module_version": "2.0.0",
              "_view_name": "LayoutView",
              "align_content": null,
              "align_items": null,
              "align_self": null,
              "border_bottom": null,
              "border_left": null,
              "border_right": null,
              "border_top": null,
              "bottom": null,
              "display": null,
              "flex": null,
              "flex_flow": null,
              "grid_area": null,
              "grid_auto_columns": null,
              "grid_auto_flow": null,
              "grid_auto_rows": null,
              "grid_column": null,
              "grid_gap": null,
              "grid_row": null,
              "grid_template_areas": null,
              "grid_template_columns": null,
              "grid_template_rows": null,
              "height": null,
              "justify_content": null,
              "justify_items": null,
              "left": null,
              "margin": null,
              "max_height": null,
              "max_width": null,
              "min_height": null,
              "min_width": null,
              "object_fit": null,
              "object_position": null,
              "order": null,
              "overflow": null,
              "padding": null,
              "right": null,
              "top": null,
              "visibility": null,
              "width": null
            }
          },
          "a0687c3524de4903bb186f6166cf7db1": {
            "model_module": "@jupyter-widgets/base",
            "model_module_version": "2.0.0",
            "model_name": "LayoutModel",
            "state": {
              "_model_module": "@jupyter-widgets/base",
              "_model_module_version": "2.0.0",
              "_model_name": "LayoutModel",
              "_view_count": null,
              "_view_module": "@jupyter-widgets/base",
              "_view_module_version": "2.0.0",
              "_view_name": "LayoutView",
              "align_content": null,
              "align_items": null,
              "align_self": null,
              "border_bottom": null,
              "border_left": null,
              "border_right": null,
              "border_top": null,
              "bottom": null,
              "display": null,
              "flex": null,
              "flex_flow": null,
              "grid_area": null,
              "grid_auto_columns": null,
              "grid_auto_flow": null,
              "grid_auto_rows": null,
              "grid_column": null,
              "grid_gap": null,
              "grid_row": null,
              "grid_template_areas": null,
              "grid_template_columns": null,
              "grid_template_rows": null,
              "height": null,
              "justify_content": null,
              "justify_items": null,
              "left": null,
              "margin": null,
              "max_height": null,
              "max_width": null,
              "min_height": null,
              "min_width": null,
              "object_fit": null,
              "object_position": null,
              "order": null,
              "overflow": null,
              "padding": null,
              "right": null,
              "top": null,
              "visibility": null,
              "width": null
            }
          },
          "a3b061e5602c48aba4dc6d7af311af67": {
            "model_module": "@jupyter-widgets/controls",
            "model_module_version": "2.0.0",
            "model_name": "ProgressStyleModel",
            "state": {
              "_model_module": "@jupyter-widgets/controls",
              "_model_module_version": "2.0.0",
              "_model_name": "ProgressStyleModel",
              "_view_count": null,
              "_view_module": "@jupyter-widgets/base",
              "_view_module_version": "2.0.0",
              "_view_name": "StyleView",
              "bar_color": null,
              "description_width": ""
            }
          },
          "a47117c7e71e41bfa1a182a0f5074dc4": {
            "model_module": "@jupyter-widgets/controls",
            "model_module_version": "2.0.0",
            "model_name": "HTMLStyleModel",
            "state": {
              "_model_module": "@jupyter-widgets/controls",
              "_model_module_version": "2.0.0",
              "_model_name": "HTMLStyleModel",
              "_view_count": null,
              "_view_module": "@jupyter-widgets/base",
              "_view_module_version": "2.0.0",
              "_view_name": "StyleView",
              "background": null,
              "description_width": "",
              "font_size": null,
              "text_color": null
            }
          },
          "a582b551899049d6b2c34cb343229d37": {
            "model_module": "@jupyter-widgets/controls",
            "model_module_version": "2.0.0",
            "model_name": "HTMLModel",
            "state": {
              "_dom_classes": [],
              "_model_module": "@jupyter-widgets/controls",
              "_model_module_version": "2.0.0",
              "_model_name": "HTMLModel",
              "_view_count": null,
              "_view_module": "@jupyter-widgets/controls",
              "_view_module_version": "2.0.0",
              "_view_name": "HTMLView",
              "description": "",
              "description_allow_html": false,
              "layout": "IPY_MODEL_5904837fff45409bb30a1d1d4fae2dbf",
              "placeholder": "​",
              "style": "IPY_MODEL_1ff111a9b9d248f595cc82bab3e187e6",
              "tabbable": null,
              "tooltip": null,
              "value": " 300/300 [00:04&lt;00:00, 62.31it/s]"
            }
          },
          "a7d8950237aa41ef9db54e6e6c744ba1": {
            "model_module": "@jupyter-widgets/controls",
            "model_module_version": "2.0.0",
            "model_name": "HBoxModel",
            "state": {
              "_dom_classes": [],
              "_model_module": "@jupyter-widgets/controls",
              "_model_module_version": "2.0.0",
              "_model_name": "HBoxModel",
              "_view_count": null,
              "_view_module": "@jupyter-widgets/controls",
              "_view_module_version": "2.0.0",
              "_view_name": "HBoxView",
              "box_style": "",
              "children": [
                "IPY_MODEL_9c70a31d7387489ba5402807380b96e2",
                "IPY_MODEL_963f803b19f345bda29dd7c3a533ad6b",
                "IPY_MODEL_08a0816bee394ac392ccb039b06b5860"
              ],
              "layout": "IPY_MODEL_1cc2edcc24194f628e339a97eb1bf72b",
              "tabbable": null,
              "tooltip": null
            }
          },
          "a8b037f2e40e4e9c8008aa4210714fe0": {
            "model_module": "@jupyter-widgets/base",
            "model_module_version": "2.0.0",
            "model_name": "LayoutModel",
            "state": {
              "_model_module": "@jupyter-widgets/base",
              "_model_module_version": "2.0.0",
              "_model_name": "LayoutModel",
              "_view_count": null,
              "_view_module": "@jupyter-widgets/base",
              "_view_module_version": "2.0.0",
              "_view_name": "LayoutView",
              "align_content": null,
              "align_items": null,
              "align_self": null,
              "border_bottom": null,
              "border_left": null,
              "border_right": null,
              "border_top": null,
              "bottom": null,
              "display": null,
              "flex": null,
              "flex_flow": null,
              "grid_area": null,
              "grid_auto_columns": null,
              "grid_auto_flow": null,
              "grid_auto_rows": null,
              "grid_column": null,
              "grid_gap": null,
              "grid_row": null,
              "grid_template_areas": null,
              "grid_template_columns": null,
              "grid_template_rows": null,
              "height": null,
              "justify_content": null,
              "justify_items": null,
              "left": null,
              "margin": null,
              "max_height": null,
              "max_width": null,
              "min_height": null,
              "min_width": null,
              "object_fit": null,
              "object_position": null,
              "order": null,
              "overflow": null,
              "padding": null,
              "right": null,
              "top": null,
              "visibility": null,
              "width": null
            }
          },
          "ac102b8ad9cc4a53b006c787f5e38777": {
            "model_module": "@jupyter-widgets/base",
            "model_module_version": "2.0.0",
            "model_name": "LayoutModel",
            "state": {
              "_model_module": "@jupyter-widgets/base",
              "_model_module_version": "2.0.0",
              "_model_name": "LayoutModel",
              "_view_count": null,
              "_view_module": "@jupyter-widgets/base",
              "_view_module_version": "2.0.0",
              "_view_name": "LayoutView",
              "align_content": null,
              "align_items": null,
              "align_self": null,
              "border_bottom": null,
              "border_left": null,
              "border_right": null,
              "border_top": null,
              "bottom": null,
              "display": null,
              "flex": null,
              "flex_flow": null,
              "grid_area": null,
              "grid_auto_columns": null,
              "grid_auto_flow": null,
              "grid_auto_rows": null,
              "grid_column": null,
              "grid_gap": null,
              "grid_row": null,
              "grid_template_areas": null,
              "grid_template_columns": null,
              "grid_template_rows": null,
              "height": null,
              "justify_content": null,
              "justify_items": null,
              "left": null,
              "margin": null,
              "max_height": null,
              "max_width": null,
              "min_height": null,
              "min_width": null,
              "object_fit": null,
              "object_position": null,
              "order": null,
              "overflow": null,
              "padding": null,
              "right": null,
              "top": null,
              "visibility": null,
              "width": null
            }
          },
          "b0242b34bfde4a5fae54dc36db798c12": {
            "model_module": "@jupyter-widgets/base",
            "model_module_version": "2.0.0",
            "model_name": "LayoutModel",
            "state": {
              "_model_module": "@jupyter-widgets/base",
              "_model_module_version": "2.0.0",
              "_model_name": "LayoutModel",
              "_view_count": null,
              "_view_module": "@jupyter-widgets/base",
              "_view_module_version": "2.0.0",
              "_view_name": "LayoutView",
              "align_content": null,
              "align_items": null,
              "align_self": null,
              "border_bottom": null,
              "border_left": null,
              "border_right": null,
              "border_top": null,
              "bottom": null,
              "display": null,
              "flex": null,
              "flex_flow": null,
              "grid_area": null,
              "grid_auto_columns": null,
              "grid_auto_flow": null,
              "grid_auto_rows": null,
              "grid_column": null,
              "grid_gap": null,
              "grid_row": null,
              "grid_template_areas": null,
              "grid_template_columns": null,
              "grid_template_rows": null,
              "height": null,
              "justify_content": null,
              "justify_items": null,
              "left": null,
              "margin": null,
              "max_height": null,
              "max_width": null,
              "min_height": null,
              "min_width": null,
              "object_fit": null,
              "object_position": null,
              "order": null,
              "overflow": null,
              "padding": null,
              "right": null,
              "top": null,
              "visibility": null,
              "width": null
            }
          },
          "b1df40f952e84cb6bad3694eff76baf6": {
            "model_module": "@jupyter-widgets/base",
            "model_module_version": "2.0.0",
            "model_name": "LayoutModel",
            "state": {
              "_model_module": "@jupyter-widgets/base",
              "_model_module_version": "2.0.0",
              "_model_name": "LayoutModel",
              "_view_count": null,
              "_view_module": "@jupyter-widgets/base",
              "_view_module_version": "2.0.0",
              "_view_name": "LayoutView",
              "align_content": null,
              "align_items": null,
              "align_self": null,
              "border_bottom": null,
              "border_left": null,
              "border_right": null,
              "border_top": null,
              "bottom": null,
              "display": null,
              "flex": null,
              "flex_flow": null,
              "grid_area": null,
              "grid_auto_columns": null,
              "grid_auto_flow": null,
              "grid_auto_rows": null,
              "grid_column": null,
              "grid_gap": null,
              "grid_row": null,
              "grid_template_areas": null,
              "grid_template_columns": null,
              "grid_template_rows": null,
              "height": null,
              "justify_content": null,
              "justify_items": null,
              "left": null,
              "margin": null,
              "max_height": null,
              "max_width": null,
              "min_height": null,
              "min_width": null,
              "object_fit": null,
              "object_position": null,
              "order": null,
              "overflow": null,
              "padding": null,
              "right": null,
              "top": null,
              "visibility": null,
              "width": null
            }
          },
          "b6a5304fef204286b40f224e50170fb8": {
            "model_module": "@jupyter-widgets/base",
            "model_module_version": "2.0.0",
            "model_name": "LayoutModel",
            "state": {
              "_model_module": "@jupyter-widgets/base",
              "_model_module_version": "2.0.0",
              "_model_name": "LayoutModel",
              "_view_count": null,
              "_view_module": "@jupyter-widgets/base",
              "_view_module_version": "2.0.0",
              "_view_name": "LayoutView",
              "align_content": null,
              "align_items": null,
              "align_self": null,
              "border_bottom": null,
              "border_left": null,
              "border_right": null,
              "border_top": null,
              "bottom": null,
              "display": null,
              "flex": null,
              "flex_flow": null,
              "grid_area": null,
              "grid_auto_columns": null,
              "grid_auto_flow": null,
              "grid_auto_rows": null,
              "grid_column": null,
              "grid_gap": null,
              "grid_row": null,
              "grid_template_areas": null,
              "grid_template_columns": null,
              "grid_template_rows": null,
              "height": null,
              "justify_content": null,
              "justify_items": null,
              "left": null,
              "margin": null,
              "max_height": null,
              "max_width": null,
              "min_height": null,
              "min_width": null,
              "object_fit": null,
              "object_position": null,
              "order": null,
              "overflow": null,
              "padding": null,
              "right": null,
              "top": null,
              "visibility": null,
              "width": null
            }
          },
          "bbca79e314904e58a9793d8d9c75899f": {
            "model_module": "@jupyter-widgets/base",
            "model_module_version": "2.0.0",
            "model_name": "LayoutModel",
            "state": {
              "_model_module": "@jupyter-widgets/base",
              "_model_module_version": "2.0.0",
              "_model_name": "LayoutModel",
              "_view_count": null,
              "_view_module": "@jupyter-widgets/base",
              "_view_module_version": "2.0.0",
              "_view_name": "LayoutView",
              "align_content": null,
              "align_items": null,
              "align_self": null,
              "border_bottom": null,
              "border_left": null,
              "border_right": null,
              "border_top": null,
              "bottom": null,
              "display": null,
              "flex": null,
              "flex_flow": null,
              "grid_area": null,
              "grid_auto_columns": null,
              "grid_auto_flow": null,
              "grid_auto_rows": null,
              "grid_column": null,
              "grid_gap": null,
              "grid_row": null,
              "grid_template_areas": null,
              "grid_template_columns": null,
              "grid_template_rows": null,
              "height": null,
              "justify_content": null,
              "justify_items": null,
              "left": null,
              "margin": null,
              "max_height": null,
              "max_width": null,
              "min_height": null,
              "min_width": null,
              "object_fit": null,
              "object_position": null,
              "order": null,
              "overflow": null,
              "padding": null,
              "right": null,
              "top": null,
              "visibility": null,
              "width": null
            }
          },
          "bdc2024f9c4641c29fd3b13479b1e99f": {
            "model_module": "@jupyter-widgets/base",
            "model_module_version": "2.0.0",
            "model_name": "LayoutModel",
            "state": {
              "_model_module": "@jupyter-widgets/base",
              "_model_module_version": "2.0.0",
              "_model_name": "LayoutModel",
              "_view_count": null,
              "_view_module": "@jupyter-widgets/base",
              "_view_module_version": "2.0.0",
              "_view_name": "LayoutView",
              "align_content": null,
              "align_items": null,
              "align_self": null,
              "border_bottom": null,
              "border_left": null,
              "border_right": null,
              "border_top": null,
              "bottom": null,
              "display": null,
              "flex": null,
              "flex_flow": null,
              "grid_area": null,
              "grid_auto_columns": null,
              "grid_auto_flow": null,
              "grid_auto_rows": null,
              "grid_column": null,
              "grid_gap": null,
              "grid_row": null,
              "grid_template_areas": null,
              "grid_template_columns": null,
              "grid_template_rows": null,
              "height": null,
              "justify_content": null,
              "justify_items": null,
              "left": null,
              "margin": null,
              "max_height": null,
              "max_width": null,
              "min_height": null,
              "min_width": null,
              "object_fit": null,
              "object_position": null,
              "order": null,
              "overflow": null,
              "padding": null,
              "right": null,
              "top": null,
              "visibility": null,
              "width": null
            }
          },
          "bf3342cda9384cbda0b9c80a18e4fce5": {
            "model_module": "@jupyter-widgets/controls",
            "model_module_version": "2.0.0",
            "model_name": "HTMLModel",
            "state": {
              "_dom_classes": [],
              "_model_module": "@jupyter-widgets/controls",
              "_model_module_version": "2.0.0",
              "_model_name": "HTMLModel",
              "_view_count": null,
              "_view_module": "@jupyter-widgets/controls",
              "_view_module_version": "2.0.0",
              "_view_name": "HTMLView",
              "description": "",
              "description_allow_html": false,
              "layout": "IPY_MODEL_ac102b8ad9cc4a53b006c787f5e38777",
              "placeholder": "​",
              "style": "IPY_MODEL_1af8bf356962493f8c47f1f8159129ed",
              "tabbable": null,
              "tooltip": null,
              "value": " 300/300 [00:00&lt;00:00, 1109.16it/s]"
            }
          },
          "c0efb1f09203499d98977c965e8b1c34": {
            "model_module": "@jupyter-widgets/controls",
            "model_module_version": "2.0.0",
            "model_name": "HTMLModel",
            "state": {
              "_dom_classes": [],
              "_model_module": "@jupyter-widgets/controls",
              "_model_module_version": "2.0.0",
              "_model_name": "HTMLModel",
              "_view_count": null,
              "_view_module": "@jupyter-widgets/controls",
              "_view_module_version": "2.0.0",
              "_view_name": "HTMLView",
              "description": "",
              "description_allow_html": false,
              "layout": "IPY_MODEL_9f5149e107f841ff9e36e772b4367942",
              "placeholder": "​",
              "style": "IPY_MODEL_6e3b9fd8b94c4ddb9fe8fcddfa5721c6",
              "tabbable": null,
              "tooltip": null,
              "value": "compute_waveforms (no parallelization): 100%"
            }
          },
          "c0fc097f45d24a00bba6cdc809fe4896": {
            "model_module": "@jupyter-widgets/controls",
            "model_module_version": "2.0.0",
            "model_name": "HTMLStyleModel",
            "state": {
              "_model_module": "@jupyter-widgets/controls",
              "_model_module_version": "2.0.0",
              "_model_name": "HTMLStyleModel",
              "_view_count": null,
              "_view_module": "@jupyter-widgets/base",
              "_view_module_version": "2.0.0",
              "_view_name": "StyleView",
              "background": null,
              "description_width": "",
              "font_size": null,
              "text_color": null
            }
          },
          "c106c069fc834bdbb02ddd7591671a71": {
            "model_module": "@jupyter-widgets/controls",
            "model_module_version": "2.0.0",
            "model_name": "HTMLStyleModel",
            "state": {
              "_model_module": "@jupyter-widgets/controls",
              "_model_module_version": "2.0.0",
              "_model_name": "HTMLStyleModel",
              "_view_count": null,
              "_view_module": "@jupyter-widgets/base",
              "_view_module_version": "2.0.0",
              "_view_name": "StyleView",
              "background": null,
              "description_width": "",
              "font_size": null,
              "text_color": null
            }
          },
          "ce5c42fba9ec4babbb742ac02bfcd3bc": {
            "model_module": "@jupyter-widgets/base",
            "model_module_version": "2.0.0",
            "model_name": "LayoutModel",
            "state": {
              "_model_module": "@jupyter-widgets/base",
              "_model_module_version": "2.0.0",
              "_model_name": "LayoutModel",
              "_view_count": null,
              "_view_module": "@jupyter-widgets/base",
              "_view_module_version": "2.0.0",
              "_view_name": "LayoutView",
              "align_content": null,
              "align_items": null,
              "align_self": null,
              "border_bottom": null,
              "border_left": null,
              "border_right": null,
              "border_top": null,
              "bottom": null,
              "display": null,
              "flex": null,
              "flex_flow": null,
              "grid_area": null,
              "grid_auto_columns": null,
              "grid_auto_flow": null,
              "grid_auto_rows": null,
              "grid_column": null,
              "grid_gap": null,
              "grid_row": null,
              "grid_template_areas": null,
              "grid_template_columns": null,
              "grid_template_rows": null,
              "height": null,
              "justify_content": null,
              "justify_items": null,
              "left": null,
              "margin": null,
              "max_height": null,
              "max_width": null,
              "min_height": null,
              "min_width": null,
              "object_fit": null,
              "object_position": null,
              "order": null,
              "overflow": null,
              "padding": null,
              "right": null,
              "top": null,
              "visibility": null,
              "width": null
            }
          },
          "d0d5cf78e2414d5e9de7e90925d853de": {
            "model_module": "@jupyter-widgets/base",
            "model_module_version": "2.0.0",
            "model_name": "LayoutModel",
            "state": {
              "_model_module": "@jupyter-widgets/base",
              "_model_module_version": "2.0.0",
              "_model_name": "LayoutModel",
              "_view_count": null,
              "_view_module": "@jupyter-widgets/base",
              "_view_module_version": "2.0.0",
              "_view_name": "LayoutView",
              "align_content": null,
              "align_items": null,
              "align_self": null,
              "border_bottom": null,
              "border_left": null,
              "border_right": null,
              "border_top": null,
              "bottom": null,
              "display": null,
              "flex": null,
              "flex_flow": null,
              "grid_area": null,
              "grid_auto_columns": null,
              "grid_auto_flow": null,
              "grid_auto_rows": null,
              "grid_column": null,
              "grid_gap": null,
              "grid_row": null,
              "grid_template_areas": null,
              "grid_template_columns": null,
              "grid_template_rows": null,
              "height": null,
              "justify_content": null,
              "justify_items": null,
              "left": null,
              "margin": null,
              "max_height": null,
              "max_width": null,
              "min_height": null,
              "min_width": null,
              "object_fit": null,
              "object_position": null,
              "order": null,
              "overflow": null,
              "padding": null,
              "right": null,
              "top": null,
              "visibility": null,
              "width": null
            }
          },
          "d215abfcca364ccca170849151f256c6": {
            "model_module": "@jupyter-widgets/controls",
            "model_module_version": "2.0.0",
            "model_name": "FloatProgressModel",
            "state": {
              "_dom_classes": [],
              "_model_module": "@jupyter-widgets/controls",
              "_model_module_version": "2.0.0",
              "_model_name": "FloatProgressModel",
              "_view_count": null,
              "_view_module": "@jupyter-widgets/controls",
              "_view_module_version": "2.0.0",
              "_view_name": "ProgressView",
              "bar_style": "success",
              "description": "",
              "description_allow_html": false,
              "layout": "IPY_MODEL_b1df40f952e84cb6bad3694eff76baf6",
              "max": 300,
              "min": 0,
              "orientation": "horizontal",
              "style": "IPY_MODEL_48211f04a3b4423aa095d7df2003c45e",
              "tabbable": null,
              "tooltip": null,
              "value": 300
            }
          },
          "d6af1c0559054ce2b8b39c41167c4272": {
            "model_module": "@jupyter-widgets/controls",
            "model_module_version": "2.0.0",
            "model_name": "HBoxModel",
            "state": {
              "_dom_classes": [],
              "_model_module": "@jupyter-widgets/controls",
              "_model_module_version": "2.0.0",
              "_model_name": "HBoxModel",
              "_view_count": null,
              "_view_module": "@jupyter-widgets/controls",
              "_view_module_version": "2.0.0",
              "_view_name": "HBoxView",
              "box_style": "",
              "children": [
                "IPY_MODEL_c0efb1f09203499d98977c965e8b1c34",
                "IPY_MODEL_1ebd14b67ab44447b0f0d7b1a1a68237",
                "IPY_MODEL_a582b551899049d6b2c34cb343229d37"
              ],
              "layout": "IPY_MODEL_bbca79e314904e58a9793d8d9c75899f",
              "tabbable": null,
              "tooltip": null
            }
          },
          "d74f29611f1f4d97ab559cf7bd788ff4": {
            "model_module": "@jupyter-widgets/controls",
            "model_module_version": "2.0.0",
            "model_name": "HTMLModel",
            "state": {
              "_dom_classes": [],
              "_model_module": "@jupyter-widgets/controls",
              "_model_module_version": "2.0.0",
              "_model_name": "HTMLModel",
              "_view_count": null,
              "_view_module": "@jupyter-widgets/controls",
              "_view_module_version": "2.0.0",
              "_view_name": "HTMLView",
              "description": "",
              "description_allow_html": false,
              "layout": "IPY_MODEL_d0d5cf78e2414d5e9de7e90925d853de",
              "placeholder": "​",
              "style": "IPY_MODEL_6ef8cc5b94024eb3b8606bcad010745c",
              "tabbable": null,
              "tooltip": null,
              "value": "estimate_sparsity (no parallelization): 100%"
            }
          },
          "d9a1e97f3d1b4623b4bc4961be5370c7": {
            "model_module": "@jupyter-widgets/controls",
            "model_module_version": "2.0.0",
            "model_name": "HTMLModel",
            "state": {
              "_dom_classes": [],
              "_model_module": "@jupyter-widgets/controls",
              "_model_module_version": "2.0.0",
              "_model_name": "HTMLModel",
              "_view_count": null,
              "_view_module": "@jupyter-widgets/controls",
              "_view_module_version": "2.0.0",
              "_view_name": "HTMLView",
              "description": "",
              "description_allow_html": false,
              "layout": "IPY_MODEL_1dc3a1b5844848a3be3f3fb1ba60437b",
              "placeholder": "​",
              "style": "IPY_MODEL_4d4a47e8d2814c6494e00ff4558ffc93",
              "tabbable": null,
              "tooltip": null,
              "value": " 20/20 [00:01&lt;00:00, 10.47it/s]"
            }
          },
          "d9befb3d5eaf4d5faddd98b5979cf0a7": {
            "model_module": "@jupyter-widgets/controls",
            "model_module_version": "2.0.0",
            "model_name": "HTMLStyleModel",
            "state": {
              "_model_module": "@jupyter-widgets/controls",
              "_model_module_version": "2.0.0",
              "_model_name": "HTMLStyleModel",
              "_view_count": null,
              "_view_module": "@jupyter-widgets/base",
              "_view_module_version": "2.0.0",
              "_view_name": "StyleView",
              "background": null,
              "description_width": "",
              "font_size": null,
              "text_color": null
            }
          },
          "dbbaf7c18e484c5aa13dc26314c9b816": {
            "model_module": "@jupyter-widgets/base",
            "model_module_version": "2.0.0",
            "model_name": "LayoutModel",
            "state": {
              "_model_module": "@jupyter-widgets/base",
              "_model_module_version": "2.0.0",
              "_model_name": "LayoutModel",
              "_view_count": null,
              "_view_module": "@jupyter-widgets/base",
              "_view_module_version": "2.0.0",
              "_view_name": "LayoutView",
              "align_content": null,
              "align_items": null,
              "align_self": null,
              "border_bottom": null,
              "border_left": null,
              "border_right": null,
              "border_top": null,
              "bottom": null,
              "display": null,
              "flex": null,
              "flex_flow": null,
              "grid_area": null,
              "grid_auto_columns": null,
              "grid_auto_flow": null,
              "grid_auto_rows": null,
              "grid_column": null,
              "grid_gap": null,
              "grid_row": null,
              "grid_template_areas": null,
              "grid_template_columns": null,
              "grid_template_rows": null,
              "height": null,
              "justify_content": null,
              "justify_items": null,
              "left": null,
              "margin": null,
              "max_height": null,
              "max_width": null,
              "min_height": null,
              "min_width": null,
              "object_fit": null,
              "object_position": null,
              "order": null,
              "overflow": null,
              "padding": null,
              "right": null,
              "top": null,
              "visibility": null,
              "width": null
            }
          },
          "df9e76184be945aca3433e8e4cb0953b": {
            "model_module": "@jupyter-widgets/base",
            "model_module_version": "2.0.0",
            "model_name": "LayoutModel",
            "state": {
              "_model_module": "@jupyter-widgets/base",
              "_model_module_version": "2.0.0",
              "_model_name": "LayoutModel",
              "_view_count": null,
              "_view_module": "@jupyter-widgets/base",
              "_view_module_version": "2.0.0",
              "_view_name": "LayoutView",
              "align_content": null,
              "align_items": null,
              "align_self": null,
              "border_bottom": null,
              "border_left": null,
              "border_right": null,
              "border_top": null,
              "bottom": null,
              "display": null,
              "flex": null,
              "flex_flow": null,
              "grid_area": null,
              "grid_auto_columns": null,
              "grid_auto_flow": null,
              "grid_auto_rows": null,
              "grid_column": null,
              "grid_gap": null,
              "grid_row": null,
              "grid_template_areas": null,
              "grid_template_columns": null,
              "grid_template_rows": null,
              "height": null,
              "justify_content": null,
              "justify_items": null,
              "left": null,
              "margin": null,
              "max_height": null,
              "max_width": null,
              "min_height": null,
              "min_width": null,
              "object_fit": null,
              "object_position": null,
              "order": null,
              "overflow": null,
              "padding": null,
              "right": null,
              "top": null,
              "visibility": null,
              "width": null
            }
          },
          "e2d5f836bda34e97a6c748fdbef1c51e": {
            "model_module": "@jupyter-widgets/controls",
            "model_module_version": "2.0.0",
            "model_name": "HBoxModel",
            "state": {
              "_dom_classes": [],
              "_model_module": "@jupyter-widgets/controls",
              "_model_module_version": "2.0.0",
              "_model_name": "HBoxModel",
              "_view_count": null,
              "_view_module": "@jupyter-widgets/controls",
              "_view_module_version": "2.0.0",
              "_view_name": "HBoxView",
              "box_style": "",
              "children": [
                "IPY_MODEL_34607b93b111481f8c99a544bbebdc37",
                "IPY_MODEL_80153bdb5d2e4ec1a33204d06e57ab0c",
                "IPY_MODEL_1988a87f77664e2d87780b221fe19bfd"
              ],
              "layout": "IPY_MODEL_a0687c3524de4903bb186f6166cf7db1",
              "tabbable": null,
              "tooltip": null
            }
          },
          "ea91a6cb7151457c8cfdc0d5b9de08f9": {
            "model_module": "@jupyter-widgets/controls",
            "model_module_version": "2.0.0",
            "model_name": "HTMLModel",
            "state": {
              "_dom_classes": [],
              "_model_module": "@jupyter-widgets/controls",
              "_model_module_version": "2.0.0",
              "_model_name": "HTMLModel",
              "_view_count": null,
              "_view_module": "@jupyter-widgets/controls",
              "_view_module_version": "2.0.0",
              "_view_name": "HTMLView",
              "description": "",
              "description_allow_html": false,
              "layout": "IPY_MODEL_df9e76184be945aca3433e8e4cb0953b",
              "placeholder": "​",
              "style": "IPY_MODEL_5b26e75d29724f5e9ac96c75eafdb1c4",
              "tabbable": null,
              "tooltip": null,
              "value": " 300/300 [00:08&lt;00:00, 34.01it/s]"
            }
          },
          "f2b849ada1664b43b514f06e5abaf736": {
            "model_module": "@jupyter-widgets/base",
            "model_module_version": "2.0.0",
            "model_name": "LayoutModel",
            "state": {
              "_model_module": "@jupyter-widgets/base",
              "_model_module_version": "2.0.0",
              "_model_name": "LayoutModel",
              "_view_count": null,
              "_view_module": "@jupyter-widgets/base",
              "_view_module_version": "2.0.0",
              "_view_name": "LayoutView",
              "align_content": null,
              "align_items": null,
              "align_self": null,
              "border_bottom": null,
              "border_left": null,
              "border_right": null,
              "border_top": null,
              "bottom": null,
              "display": null,
              "flex": null,
              "flex_flow": null,
              "grid_area": null,
              "grid_auto_columns": null,
              "grid_auto_flow": null,
              "grid_auto_rows": null,
              "grid_column": null,
              "grid_gap": null,
              "grid_row": null,
              "grid_template_areas": null,
              "grid_template_columns": null,
              "grid_template_rows": null,
              "height": null,
              "justify_content": null,
              "justify_items": null,
              "left": null,
              "margin": null,
              "max_height": null,
              "max_width": null,
              "min_height": null,
              "min_width": null,
              "object_fit": null,
              "object_position": null,
              "order": null,
              "overflow": null,
              "padding": null,
              "right": null,
              "top": null,
              "visibility": null,
              "width": null
            }
          },
          "f2c246b03b3942e8a0b742dcb5908e63": {
            "model_module": "@jupyter-widgets/controls",
            "model_module_version": "2.0.0",
            "model_name": "HTMLModel",
            "state": {
              "_dom_classes": [],
              "_model_module": "@jupyter-widgets/controls",
              "_model_module_version": "2.0.0",
              "_model_name": "HTMLModel",
              "_view_count": null,
              "_view_module": "@jupyter-widgets/controls",
              "_view_module_version": "2.0.0",
              "_view_name": "HTMLView",
              "description": "",
              "description_allow_html": false,
              "layout": "IPY_MODEL_00b37b0d3c4f4c3c94e20da18ac7fbff",
              "placeholder": "​",
              "style": "IPY_MODEL_911541009ace4864ac66c78c1e072d09",
              "tabbable": null,
              "tooltip": null,
              "value": "compute_waveforms (no parallelization): 100%"
            }
          },
          "f7d30772bb05442d9a575d88b9cb2ddc": {
            "model_module": "@jupyter-widgets/base",
            "model_module_version": "2.0.0",
            "model_name": "LayoutModel",
            "state": {
              "_model_module": "@jupyter-widgets/base",
              "_model_module_version": "2.0.0",
              "_model_name": "LayoutModel",
              "_view_count": null,
              "_view_module": "@jupyter-widgets/base",
              "_view_module_version": "2.0.0",
              "_view_name": "LayoutView",
              "align_content": null,
              "align_items": null,
              "align_self": null,
              "border_bottom": null,
              "border_left": null,
              "border_right": null,
              "border_top": null,
              "bottom": null,
              "display": null,
              "flex": null,
              "flex_flow": null,
              "grid_area": null,
              "grid_auto_columns": null,
              "grid_auto_flow": null,
              "grid_auto_rows": null,
              "grid_column": null,
              "grid_gap": null,
              "grid_row": null,
              "grid_template_areas": null,
              "grid_template_columns": null,
              "grid_template_rows": null,
              "height": null,
              "justify_content": null,
              "justify_items": null,
              "left": null,
              "margin": null,
              "max_height": null,
              "max_width": null,
              "min_height": null,
              "min_width": null,
              "object_fit": null,
              "object_position": null,
              "order": null,
              "overflow": null,
              "padding": null,
              "right": null,
              "top": null,
              "visibility": null,
              "width": null
            }
          },
          "f875ce7d150441fea66ee24091a56c78": {
            "model_module": "@jupyter-widgets/base",
            "model_module_version": "2.0.0",
            "model_name": "LayoutModel",
            "state": {
              "_model_module": "@jupyter-widgets/base",
              "_model_module_version": "2.0.0",
              "_model_name": "LayoutModel",
              "_view_count": null,
              "_view_module": "@jupyter-widgets/base",
              "_view_module_version": "2.0.0",
              "_view_name": "LayoutView",
              "align_content": null,
              "align_items": null,
              "align_self": null,
              "border_bottom": null,
              "border_left": null,
              "border_right": null,
              "border_top": null,
              "bottom": null,
              "display": null,
              "flex": null,
              "flex_flow": null,
              "grid_area": null,
              "grid_auto_columns": null,
              "grid_auto_flow": null,
              "grid_auto_rows": null,
              "grid_column": null,
              "grid_gap": null,
              "grid_row": null,
              "grid_template_areas": null,
              "grid_template_columns": null,
              "grid_template_rows": null,
              "height": null,
              "justify_content": null,
              "justify_items": null,
              "left": null,
              "margin": null,
              "max_height": null,
              "max_width": null,
              "min_height": null,
              "min_width": null,
              "object_fit": null,
              "object_position": null,
              "order": null,
              "overflow": null,
              "padding": null,
              "right": null,
              "top": null,
              "visibility": null,
              "width": null
            }
          },
          "fc081f028c3c44f5bbd28dfad660e58d": {
            "model_module": "@jupyter-widgets/controls",
            "model_module_version": "2.0.0",
            "model_name": "HBoxModel",
            "state": {
              "_dom_classes": [],
              "_model_module": "@jupyter-widgets/controls",
              "_model_module_version": "2.0.0",
              "_model_name": "HBoxModel",
              "_view_count": null,
              "_view_module": "@jupyter-widgets/controls",
              "_view_module_version": "2.0.0",
              "_view_name": "HBoxView",
              "box_style": "",
              "children": [
                "IPY_MODEL_4f0291f13a22420ca1cf00801b07c442",
                "IPY_MODEL_0053c62904074afcbab46b6bcb31fe5a",
                "IPY_MODEL_7bc790373aa146a688fd3b0c549bde31"
              ],
              "layout": "IPY_MODEL_7959621212c04f4dbf8294230167479d",
              "tabbable": null,
              "tooltip": null
            }
          },
          "fc5c4cd1e643429980fd58afb2f0cad9": {
            "model_module": "@jupyter-widgets/controls",
            "model_module_version": "2.0.0",
            "model_name": "FloatProgressModel",
            "state": {
              "_dom_classes": [],
              "_model_module": "@jupyter-widgets/controls",
              "_model_module_version": "2.0.0",
              "_model_name": "FloatProgressModel",
              "_view_count": null,
              "_view_module": "@jupyter-widgets/controls",
              "_view_module_version": "2.0.0",
              "_view_name": "ProgressView",
              "bar_style": "success",
              "description": "",
              "description_allow_html": false,
              "layout": "IPY_MODEL_8f11c2e0d34a494da85f90a8850ea250",
              "max": 20,
              "min": 0,
              "orientation": "horizontal",
              "style": "IPY_MODEL_832ee06aab4e4f31b27675912678abe2",
              "tabbable": null,
              "tooltip": null,
              "value": 20
            }
          },
          "ff571d6da10c475d9efc4a178d69e5a3": {
            "model_module": "@jupyter-widgets/controls",
            "model_module_version": "2.0.0",
            "model_name": "ProgressStyleModel",
            "state": {
              "_model_module": "@jupyter-widgets/controls",
              "_model_module_version": "2.0.0",
              "_model_name": "ProgressStyleModel",
              "_view_count": null,
              "_view_module": "@jupyter-widgets/base",
              "_view_module_version": "2.0.0",
              "_view_name": "StyleView",
              "bar_color": null,
              "description_width": ""
            }
          }
        },
        "version_major": 2,
        "version_minor": 0
      }
    }
  }
}