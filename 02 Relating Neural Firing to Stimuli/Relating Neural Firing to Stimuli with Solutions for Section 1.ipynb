{
  "cells": [
    {
      "cell_type": "markdown",
      "id": "c487f363-3ca1-403e-aeee-c43455d6de27",
      "metadata": {},
      "source": [
        "# Relating Neural Firing to Stimuli\n",
        "\n",
        "## 1 Preparation\n",
        "\n",
        "Import the modules required for this session"
      ]
    },
    {
      "cell_type": "code",
      "execution_count": 2,
      "id": "b215f6b4",
      "metadata": {},
      "outputs": [],
      "source": [
        "import pandas as pd\n",
        "import numpy as np\n",
        "from matplotlib import pyplot as plt\n",
        "import seaborn as sns\n",
        "from scipy.stats import wilcoxon\n",
        "%matplotlib inline"
      ]
    },
    {
      "cell_type": "markdown",
      "id": "65c0fa36-65f6-487a-b0ef-8122222a66cf",
      "metadata": {},
      "source": [
        "Download the data required for this session"
      ]
    },
    {
      "cell_type": "code",
      "execution_count": 3,
      "id": "a692dea3",
      "metadata": {},
      "outputs": [
        {
          "name": "stdout",
          "output_type": "stream",
          "text": [
            "Downloading Data ...\n",
            "Done!\n",
            "Downloading Data ...\n",
            "Done!\n"
          ]
        }
      ],
      "source": [
        "import requests\n",
        "\n",
        "urls = [\n",
        "    \"https://uni-bonn.sciebo.de/s/G64EkHoQkeZeoLm\",\n",
        "    \"https://uni-bonn.sciebo.de/s/mLMkb2TwbNx3Yg6\",\n",
        "]\n",
        "fnames = [\"flash_stimuli.parquet\", \"flash_spikes.parquet\"]\n",
        "\n",
        "for url, fname in zip(urls, fnames):\n",
        "    response = requests.get(f\"{url}/download\")\n",
        "    print(\"Downloading Data ...\")\n",
        "    with open(fname, \"wb\") as file:\n",
        "        file.write(response.content)\n",
        "    print(\"Done!\")"
      ]
    },
    {
      "cell_type": "markdown",
      "id": "ad0c9134-d273-43a0-8b6a-843052ee2318",
      "metadata": {},
      "source": [
        "## 2 Referencing Spike Times to Stimulus Presentations\n",
        "\n",
        "In many experiments, we wish to relate neural spiking to external\n",
        "events, like stimuli. This requires that we can relate the timing of the\n",
        "spikes to the timing of the events. If both spikes and stimuli are\n",
        "stored in data frames, we an use pandas’ `merge_asof` function to merge\n",
        "the time information from both data frames. In this section, we are\n",
        "going to explore how to use pandas to compute the timing of spikes\n",
        "relative to stimulus onset. Then, we’ll visualize the amount of spikes\n",
        "ocurring right before and after a stimulus in a peri-stimulus time\n",
        "histogram or PSTH.\n",
        "\n",
        "| Code | Description |\n",
        "|------------------------------------|------------------------------------|\n",
        "| `df = pd.read_parquet(mydata.parquet)` | Read the file `\"mydata.parquet\"` into a data frame |\n",
        "| `pd.merge_asof(left, right, left_on, right_on)` | Merge data frames `left` and `right` based on the columns `left_on` and `right_on` |\n",
        "| `df[\"newcol\"] = values` | Add a new column named `\"newcol\"` to `df` and assign it the `values` |\n",
        "| `df.col1.min()` | Get the minimum value of `\"col1\"` |\n",
        "| `df[df.col1<1]` | Get all rows of `df` where the value of `\"col1\"` is smaller than 1 |\n",
        "| `sns.histplot(df, x=\"col1\", hue=\"col2\")` | Plot a histogram of the values in `\"col1\"` and add a `hue` for the categories in `\"col2\"` |\n",
        "| `sns.histplot(df, x=\"col1\", bins=n)` | Plot a histogram of the values in `\"col1\"` with `n` bins |\n",
        "| `plt.axvline(x, ymin, ymax)` | Add a vertical line at `x` that goes from `ymin` to `ymax` |\n",
        "| `plt.xlim(xmin, xmax)` | Limit the x-axis to the range between `xmin` and `xmax` |\n",
        "\n",
        "------------------------------------------------------------------------\n",
        "\n",
        "<span class=\"theorem-title\">**Exercise 1**</span> Load the data stored\n",
        "in the files `\"flash_spikes.parquet\"` and `\"flash_stimuli.parquet\"` into\n",
        "data frames and assign them to variables called `spikes` and `stimuli`."
      ]
    },
    {
      "cell_type": "code",
      "execution_count": 4,
      "id": "1ad7904a",
      "metadata": {},
      "outputs": [
        {
          "data": {
            "text/plain": [
              "(     start_time    stop_time\n",
              " 0   1276.297013  1276.547221\n",
              " 1   1280.300363  1280.550569\n",
              " 2   1286.305383  1286.555591\n",
              " 3   1290.308743  1290.558946\n",
              " 4   1294.312073  1294.562279\n",
              " ..          ...          ...\n",
              " 70  1546.522853  1546.773054\n",
              " 71  1558.532863  1558.783069\n",
              " 72  1560.534543  1560.784746\n",
              " 73  1570.542883  1570.793091\n",
              " 74  1572.544573  1572.794779\n",
              " \n",
              " [75 rows x 2 columns],\n",
              "           unit_id brain_area   spike_time\n",
              " 0       951031334         LM  1276.297339\n",
              " 1       951031154         LM  1276.298206\n",
              " 2       951031243         LM  1276.298739\n",
              " 3       951021543         PM  1276.299007\n",
              " 4       951031253         LM  1276.301272\n",
              " ...           ...        ...          ...\n",
              " 457701  951021607         PM  1572.790671\n",
              " 457702  951039252         RL  1572.792065\n",
              " 457703  951016491         AM  1572.792470\n",
              " 457704  951031263         LM  1572.793746\n",
              " 457705  951021523         PM  1572.793838\n",
              " \n",
              " [457706 rows x 3 columns])"
            ]
          },
          "execution_count": 4,
          "metadata": {},
          "output_type": "execute_result"
        }
      ],
      "source": [
        "spikes = pd.read_parquet(\"flash_spikes.parquet\")\n",
        "stimuli = pd.read_parquet(\"flash_stimuli.parquet\")\n",
        "stimuli, spikes"
      ]
    },
    {
      "cell_type": "markdown",
      "id": "7265b133-af0b-445d-8f40-f4468e2d6754",
      "metadata": {},
      "source": [
        "<span class=\"theorem-title\">**Example 1**</span> Use `pd.merge_asof()`\n",
        "to merge the `spikes` and `stimuli` based on the `\"spike_time\"` and\n",
        "`\"start_time\"`. In the resulting `df`, each spike is paired with the\n",
        "last stimulus that was presented before that spike."
      ]
    },
    {
      "cell_type": "code",
      "execution_count": 5,
      "id": "bf4e5b5c",
      "metadata": {},
      "outputs": [
        {
          "data": {
            "text/html": [
              "<div>\n",
              "<style scoped>\n",
              "    .dataframe tbody tr th:only-of-type {\n",
              "        vertical-align: middle;\n",
              "    }\n",
              "\n",
              "    .dataframe tbody tr th {\n",
              "        vertical-align: top;\n",
              "    }\n",
              "\n",
              "    .dataframe thead th {\n",
              "        text-align: right;\n",
              "    }\n",
              "</style>\n",
              "<table border=\"1\" class=\"dataframe\">\n",
              "  <thead>\n",
              "    <tr style=\"text-align: right;\">\n",
              "      <th></th>\n",
              "      <th>unit_id</th>\n",
              "      <th>brain_area</th>\n",
              "      <th>spike_time</th>\n",
              "      <th>start_time</th>\n",
              "      <th>stop_time</th>\n",
              "    </tr>\n",
              "  </thead>\n",
              "  <tbody>\n",
              "    <tr>\n",
              "      <th>0</th>\n",
              "      <td>951031334</td>\n",
              "      <td>LM</td>\n",
              "      <td>1276.297339</td>\n",
              "      <td>1276.297013</td>\n",
              "      <td>1276.547221</td>\n",
              "    </tr>\n",
              "    <tr>\n",
              "      <th>1</th>\n",
              "      <td>951031154</td>\n",
              "      <td>LM</td>\n",
              "      <td>1276.298206</td>\n",
              "      <td>1276.297013</td>\n",
              "      <td>1276.547221</td>\n",
              "    </tr>\n",
              "    <tr>\n",
              "      <th>2</th>\n",
              "      <td>951031243</td>\n",
              "      <td>LM</td>\n",
              "      <td>1276.298739</td>\n",
              "      <td>1276.297013</td>\n",
              "      <td>1276.547221</td>\n",
              "    </tr>\n",
              "    <tr>\n",
              "      <th>3</th>\n",
              "      <td>951021543</td>\n",
              "      <td>PM</td>\n",
              "      <td>1276.299007</td>\n",
              "      <td>1276.297013</td>\n",
              "      <td>1276.547221</td>\n",
              "    </tr>\n",
              "    <tr>\n",
              "      <th>4</th>\n",
              "      <td>951031253</td>\n",
              "      <td>LM</td>\n",
              "      <td>1276.301272</td>\n",
              "      <td>1276.297013</td>\n",
              "      <td>1276.547221</td>\n",
              "    </tr>\n",
              "    <tr>\n",
              "      <th>...</th>\n",
              "      <td>...</td>\n",
              "      <td>...</td>\n",
              "      <td>...</td>\n",
              "      <td>...</td>\n",
              "      <td>...</td>\n",
              "    </tr>\n",
              "    <tr>\n",
              "      <th>457701</th>\n",
              "      <td>951021607</td>\n",
              "      <td>PM</td>\n",
              "      <td>1572.790671</td>\n",
              "      <td>1572.544573</td>\n",
              "      <td>1572.794779</td>\n",
              "    </tr>\n",
              "    <tr>\n",
              "      <th>457702</th>\n",
              "      <td>951039252</td>\n",
              "      <td>RL</td>\n",
              "      <td>1572.792065</td>\n",
              "      <td>1572.544573</td>\n",
              "      <td>1572.794779</td>\n",
              "    </tr>\n",
              "    <tr>\n",
              "      <th>457703</th>\n",
              "      <td>951016491</td>\n",
              "      <td>AM</td>\n",
              "      <td>1572.792470</td>\n",
              "      <td>1572.544573</td>\n",
              "      <td>1572.794779</td>\n",
              "    </tr>\n",
              "    <tr>\n",
              "      <th>457704</th>\n",
              "      <td>951031263</td>\n",
              "      <td>LM</td>\n",
              "      <td>1572.793746</td>\n",
              "      <td>1572.544573</td>\n",
              "      <td>1572.794779</td>\n",
              "    </tr>\n",
              "    <tr>\n",
              "      <th>457705</th>\n",
              "      <td>951021523</td>\n",
              "      <td>PM</td>\n",
              "      <td>1572.793838</td>\n",
              "      <td>1572.544573</td>\n",
              "      <td>1572.794779</td>\n",
              "    </tr>\n",
              "  </tbody>\n",
              "</table>\n",
              "<p>457706 rows × 5 columns</p>\n",
              "</div>"
            ],
            "text/plain": [
              "          unit_id brain_area   spike_time   start_time    stop_time\n",
              "0       951031334         LM  1276.297339  1276.297013  1276.547221\n",
              "1       951031154         LM  1276.298206  1276.297013  1276.547221\n",
              "2       951031243         LM  1276.298739  1276.297013  1276.547221\n",
              "3       951021543         PM  1276.299007  1276.297013  1276.547221\n",
              "4       951031253         LM  1276.301272  1276.297013  1276.547221\n",
              "...           ...        ...          ...          ...          ...\n",
              "457701  951021607         PM  1572.790671  1572.544573  1572.794779\n",
              "457702  951039252         RL  1572.792065  1572.544573  1572.794779\n",
              "457703  951016491         AM  1572.792470  1572.544573  1572.794779\n",
              "457704  951031263         LM  1572.793746  1572.544573  1572.794779\n",
              "457705  951021523         PM  1572.793838  1572.544573  1572.794779\n",
              "\n",
              "[457706 rows x 5 columns]"
            ]
          },
          "execution_count": 5,
          "metadata": {},
          "output_type": "execute_result"
        }
      ],
      "source": [
        "df = pd.merge_asof(spikes, stimuli, left_on=\"spike_time\", right_on=\"start_time\")\n",
        "df"
      ]
    },
    {
      "cell_type": "markdown",
      "id": "1a4a8c2b-2d69-4d1c-a437-e0129b1ecc1e",
      "metadata": {},
      "source": [
        "<span class=\"theorem-title\">**Exercise 2**</span> Subtract the stimulus\n",
        "`.start_time` column from the `.spike_time` column to get the spike\n",
        "times relative to stimulus onset. Then, print the smallest spike time in\n",
        "`df`."
      ]
    },
    {
      "cell_type": "code",
      "execution_count": 9,
      "id": "44f23174",
      "metadata": {},
      "outputs": [
        {
          "data": {
            "text/plain": [
              "2.332144799765956e-05"
            ]
          },
          "execution_count": 9,
          "metadata": {},
          "output_type": "execute_result"
        }
      ],
      "source": [
        "min(df.spike_time-df.start_time)\n"
      ]
    },
    {
      "cell_type": "markdown",
      "id": "21a8497e-4eb6-456e-90a7-cb219cb5e305",
      "metadata": {},
      "source": [
        "<span class=\"theorem-title\">**Exercise 3**</span> The smallest spike\n",
        "time should be very close to 0. However, we would like our analysis time\n",
        "window to include spikes that happen before the stimulus as well. Add a\n",
        "new column to `stimuli` called `\"analysis_window_start\"` that is equal\n",
        "to the stimulus `\"start_time\"` minus `0.5` seconds. Print the `stimuli`\n",
        "to make sure the new column was created."
      ]
    },
    {
      "cell_type": "code",
      "execution_count": 8,
      "id": "c36d7031",
      "metadata": {},
      "outputs": [
        {
          "data": {
            "text/html": [
              "<div>\n",
              "<style scoped>\n",
              "    .dataframe tbody tr th:only-of-type {\n",
              "        vertical-align: middle;\n",
              "    }\n",
              "\n",
              "    .dataframe tbody tr th {\n",
              "        vertical-align: top;\n",
              "    }\n",
              "\n",
              "    .dataframe thead th {\n",
              "        text-align: right;\n",
              "    }\n",
              "</style>\n",
              "<table border=\"1\" class=\"dataframe\">\n",
              "  <thead>\n",
              "    <tr style=\"text-align: right;\">\n",
              "      <th></th>\n",
              "      <th>start_time</th>\n",
              "      <th>stop_time</th>\n",
              "      <th>analysis_window_start</th>\n",
              "    </tr>\n",
              "  </thead>\n",
              "  <tbody>\n",
              "    <tr>\n",
              "      <th>0</th>\n",
              "      <td>1276.297013</td>\n",
              "      <td>1276.547221</td>\n",
              "      <td>1275.797013</td>\n",
              "    </tr>\n",
              "    <tr>\n",
              "      <th>1</th>\n",
              "      <td>1280.300363</td>\n",
              "      <td>1280.550569</td>\n",
              "      <td>1279.800363</td>\n",
              "    </tr>\n",
              "    <tr>\n",
              "      <th>2</th>\n",
              "      <td>1286.305383</td>\n",
              "      <td>1286.555591</td>\n",
              "      <td>1285.805383</td>\n",
              "    </tr>\n",
              "    <tr>\n",
              "      <th>3</th>\n",
              "      <td>1290.308743</td>\n",
              "      <td>1290.558946</td>\n",
              "      <td>1289.808743</td>\n",
              "    </tr>\n",
              "    <tr>\n",
              "      <th>4</th>\n",
              "      <td>1294.312073</td>\n",
              "      <td>1294.562279</td>\n",
              "      <td>1293.812073</td>\n",
              "    </tr>\n",
              "  </tbody>\n",
              "</table>\n",
              "</div>"
            ],
            "text/plain": [
              "    start_time    stop_time  analysis_window_start\n",
              "0  1276.297013  1276.547221            1275.797013\n",
              "1  1280.300363  1280.550569            1279.800363\n",
              "2  1286.305383  1286.555591            1285.805383\n",
              "3  1290.308743  1290.558946            1289.808743\n",
              "4  1294.312073  1294.562279            1293.812073"
            ]
          },
          "execution_count": 8,
          "metadata": {},
          "output_type": "execute_result"
        }
      ],
      "source": [
        "stimuli[\"analysis_window_start\"] = stimuli.start_time-0.5\n",
        "stimuli.head()"
      ]
    },
    {
      "cell_type": "markdown",
      "id": "27c5696f-299b-433d-a75b-be16c23ba5f2",
      "metadata": {},
      "source": [
        "<span class=\"theorem-title\">**Exercise 4**</span> Use `pd.merge_asof()`\n",
        "with `right_on=\"analysis_window_start\"` to match each spike with the\n",
        "analysis window that started before it."
      ]
    },
    {
      "cell_type": "code",
      "execution_count": 12,
      "id": "2c383ef8",
      "metadata": {},
      "outputs": [
        {
          "data": {
            "text/html": [
              "<div>\n",
              "<style scoped>\n",
              "    .dataframe tbody tr th:only-of-type {\n",
              "        vertical-align: middle;\n",
              "    }\n",
              "\n",
              "    .dataframe tbody tr th {\n",
              "        vertical-align: top;\n",
              "    }\n",
              "\n",
              "    .dataframe thead th {\n",
              "        text-align: right;\n",
              "    }\n",
              "</style>\n",
              "<table border=\"1\" class=\"dataframe\">\n",
              "  <thead>\n",
              "    <tr style=\"text-align: right;\">\n",
              "      <th></th>\n",
              "      <th>unit_id</th>\n",
              "      <th>brain_area</th>\n",
              "      <th>spike_time</th>\n",
              "      <th>start_time</th>\n",
              "      <th>stop_time</th>\n",
              "      <th>analysis_window_start</th>\n",
              "    </tr>\n",
              "  </thead>\n",
              "  <tbody>\n",
              "    <tr>\n",
              "      <th>0</th>\n",
              "      <td>951031334</td>\n",
              "      <td>LM</td>\n",
              "      <td>1276.297339</td>\n",
              "      <td>1276.297013</td>\n",
              "      <td>1276.547221</td>\n",
              "      <td>1275.797013</td>\n",
              "    </tr>\n",
              "    <tr>\n",
              "      <th>1</th>\n",
              "      <td>951031154</td>\n",
              "      <td>LM</td>\n",
              "      <td>1276.298206</td>\n",
              "      <td>1276.297013</td>\n",
              "      <td>1276.547221</td>\n",
              "      <td>1275.797013</td>\n",
              "    </tr>\n",
              "    <tr>\n",
              "      <th>2</th>\n",
              "      <td>951031243</td>\n",
              "      <td>LM</td>\n",
              "      <td>1276.298739</td>\n",
              "      <td>1276.297013</td>\n",
              "      <td>1276.547221</td>\n",
              "      <td>1275.797013</td>\n",
              "    </tr>\n",
              "    <tr>\n",
              "      <th>3</th>\n",
              "      <td>951021543</td>\n",
              "      <td>PM</td>\n",
              "      <td>1276.299007</td>\n",
              "      <td>1276.297013</td>\n",
              "      <td>1276.547221</td>\n",
              "      <td>1275.797013</td>\n",
              "    </tr>\n",
              "    <tr>\n",
              "      <th>4</th>\n",
              "      <td>951031253</td>\n",
              "      <td>LM</td>\n",
              "      <td>1276.301272</td>\n",
              "      <td>1276.297013</td>\n",
              "      <td>1276.547221</td>\n",
              "      <td>1275.797013</td>\n",
              "    </tr>\n",
              "  </tbody>\n",
              "</table>\n",
              "</div>"
            ],
            "text/plain": [
              "     unit_id brain_area   spike_time   start_time    stop_time  \\\n",
              "0  951031334         LM  1276.297339  1276.297013  1276.547221   \n",
              "1  951031154         LM  1276.298206  1276.297013  1276.547221   \n",
              "2  951031243         LM  1276.298739  1276.297013  1276.547221   \n",
              "3  951021543         PM  1276.299007  1276.297013  1276.547221   \n",
              "4  951031253         LM  1276.301272  1276.297013  1276.547221   \n",
              "\n",
              "   analysis_window_start  \n",
              "0            1275.797013  \n",
              "1            1275.797013  \n",
              "2            1275.797013  \n",
              "3            1275.797013  \n",
              "4            1275.797013  "
            ]
          },
          "execution_count": 12,
          "metadata": {},
          "output_type": "execute_result"
        }
      ],
      "source": [
        "df = pd.merge_asof(spikes, stimuli, left_on=\"spike_time\", right_on=\"analysis_window_start\")\n",
        "df.head()"
      ]
    },
    {
      "cell_type": "markdown",
      "id": "61f6f779-3945-426a-b864-0f7a3fc8972a",
      "metadata": {},
      "source": [
        "<span class=\"theorem-title\">**Exercise 5**</span> Subtract the stimulus\n",
        "`.start_time` column from the `.spike_time` column to get the spike\n",
        "times relative to stimulus onset. Then, print the smallest spike time in\n",
        "`df` this value should be very close to `-0.5`."
      ]
    },
    {
      "cell_type": "code",
      "execution_count": null,
      "id": "bdb6c0fe",
      "metadata": {},
      "outputs": [
        {
          "data": {
            "text/html": [
              "<div>\n",
              "<style scoped>\n",
              "    .dataframe tbody tr th:only-of-type {\n",
              "        vertical-align: middle;\n",
              "    }\n",
              "\n",
              "    .dataframe tbody tr th {\n",
              "        vertical-align: top;\n",
              "    }\n",
              "\n",
              "    .dataframe thead th {\n",
              "        text-align: right;\n",
              "    }\n",
              "</style>\n",
              "<table border=\"1\" class=\"dataframe\">\n",
              "  <thead>\n",
              "    <tr style=\"text-align: right;\">\n",
              "      <th></th>\n",
              "      <th>unit_id</th>\n",
              "      <th>brain_area</th>\n",
              "      <th>spike_time</th>\n",
              "      <th>start_time</th>\n",
              "      <th>stop_time</th>\n",
              "      <th>analysis_window_start</th>\n",
              "      <th>relative_spike_time</th>\n",
              "    </tr>\n",
              "  </thead>\n",
              "  <tbody>\n",
              "    <tr>\n",
              "      <th>0</th>\n",
              "      <td>951031334</td>\n",
              "      <td>LM</td>\n",
              "      <td>0.000326</td>\n",
              "      <td>1276.297013</td>\n",
              "      <td>1276.547221</td>\n",
              "      <td>1275.797013</td>\n",
              "      <td>0.000326</td>\n",
              "    </tr>\n",
              "    <tr>\n",
              "      <th>1</th>\n",
              "      <td>951031154</td>\n",
              "      <td>LM</td>\n",
              "      <td>0.001192</td>\n",
              "      <td>1276.297013</td>\n",
              "      <td>1276.547221</td>\n",
              "      <td>1275.797013</td>\n",
              "      <td>0.001192</td>\n",
              "    </tr>\n",
              "    <tr>\n",
              "      <th>2</th>\n",
              "      <td>951031243</td>\n",
              "      <td>LM</td>\n",
              "      <td>0.001726</td>\n",
              "      <td>1276.297013</td>\n",
              "      <td>1276.547221</td>\n",
              "      <td>1275.797013</td>\n",
              "      <td>0.001726</td>\n",
              "    </tr>\n",
              "    <tr>\n",
              "      <th>3</th>\n",
              "      <td>951021543</td>\n",
              "      <td>PM</td>\n",
              "      <td>0.001994</td>\n",
              "      <td>1276.297013</td>\n",
              "      <td>1276.547221</td>\n",
              "      <td>1275.797013</td>\n",
              "      <td>0.001994</td>\n",
              "    </tr>\n",
              "    <tr>\n",
              "      <th>4</th>\n",
              "      <td>951031253</td>\n",
              "      <td>LM</td>\n",
              "      <td>0.004259</td>\n",
              "      <td>1276.297013</td>\n",
              "      <td>1276.547221</td>\n",
              "      <td>1275.797013</td>\n",
              "      <td>0.004259</td>\n",
              "    </tr>\n",
              "  </tbody>\n",
              "</table>\n",
              "</div>"
            ],
            "text/plain": [
              "     unit_id brain_area  spike_time   start_time    stop_time  \\\n",
              "0  951031334         LM    0.000326  1276.297013  1276.547221   \n",
              "1  951031154         LM    0.001192  1276.297013  1276.547221   \n",
              "2  951031243         LM    0.001726  1276.297013  1276.547221   \n",
              "3  951021543         PM    0.001994  1276.297013  1276.547221   \n",
              "4  951031253         LM    0.004259  1276.297013  1276.547221   \n",
              "\n",
              "   analysis_window_start  relative_spike_time  \n",
              "0            1275.797013             0.000326  \n",
              "1            1275.797013             0.001192  \n",
              "2            1275.797013             0.001726  \n",
              "3            1275.797013             0.001994  \n",
              "4            1275.797013             0.004259  "
            ]
          },
          "execution_count": 15,
          "metadata": {},
          "output_type": "execute_result"
        }
      ],
      "source": [
        "df[\"spike_time\"] = df.spike_time - df.start_time\n",
        "df.head()"
      ]
    },
    {
      "cell_type": "code",
      "execution_count": null,
      "id": "76458db4",
      "metadata": {},
      "outputs": [],
      "source": [
        "df.spike_time.min()"
      ]
    },
    {
      "cell_type": "markdown",
      "id": "d82c4026-7455-4a00-95e9-2a23ba09cdea",
      "metadata": {},
      "source": [
        "<span class=\"theorem-title\">**Exercise 6**</span> Remove all the the\n",
        "rows in `df` where the `\"spike_time\"` relative to stimulus onset is\n",
        "greater than `1` second and print the maximum spike time."
      ]
    },
    {
      "cell_type": "code",
      "execution_count": null,
      "id": "8405a082",
      "metadata": {},
      "outputs": [
        {
          "name": "stdout",
          "output_type": "stream",
          "text": [
            "​"
          ]
        }
      ],
      "source": [
        "df = df[df.]"
      ]
    },
    {
      "cell_type": "markdown",
      "id": "24452b04-23e3-427f-afbd-7fa189e9499e",
      "metadata": {},
      "source": [
        "<span class=\"theorem-title\">**Exercise 7**</span> Use `sns.histplot` to\n",
        "create a histogram of spike times relative to stimulus onset."
      ]
    },
    {
      "cell_type": "code",
      "execution_count": 17,
      "id": "246a4436",
      "metadata": {},
      "outputs": [
        {
          "name": "stdout",
          "output_type": "stream",
          "text": [
            "​"
          ]
        }
      ],
      "source": []
    },
    {
      "cell_type": "markdown",
      "id": "c6778de1-2ddd-4975-83aa-216a72cf22fb",
      "metadata": {},
      "source": [
        "<span class=\"theorem-title\">**Exercise 8**</span> Use `sns.histplot` to\n",
        "create a histogram of spike times and use `plt.axvline()` to add\n",
        "vertical lines that mark the stimulus onset at `0` seconds and the\n",
        "offset at `0.25` seconds (BONUS): try using `color=\"black\"` and\n",
        "`linestyle=\"--\"` to make them look nice). Can you see the relationship\n",
        "between the spiking and stimuli?"
      ]
    },
    {
      "cell_type": "code",
      "execution_count": 19,
      "id": "64fb085c",
      "metadata": {},
      "outputs": [
        {
          "name": "stdout",
          "output_type": "stream",
          "text": [
            "​"
          ]
        }
      ],
      "source": []
    },
    {
      "cell_type": "markdown",
      "id": "412e0f97-27fe-47c3-8167-b00f84907688",
      "metadata": {},
      "source": [
        "<span class=\"theorem-title\">**Exercise 9**</span> Add a `hue` to the\n",
        "histogram that encodes the `\"brain_area\"`."
      ]
    },
    {
      "cell_type": "code",
      "execution_count": 21,
      "id": "8bf3f466",
      "metadata": {},
      "outputs": [
        {
          "name": "stdout",
          "output_type": "stream",
          "text": [
            "​"
          ]
        }
      ],
      "source": []
    },
    {
      "cell_type": "markdown",
      "id": "b867f7df-9a9a-4a11-a8ef-9ff916fc29cd",
      "metadata": {},
      "source": [
        "<span class=\"theorem-title\">**Exercise 10**</span> Increate the number\n",
        "of `bins` in the histogram to improve the temporal resolution and limit\n",
        "the x-axis to the first `0.15` second after stimulus onset. Can you see\n",
        "which brain area responds first?"
      ]
    },
    {
      "cell_type": "code",
      "execution_count": 23,
      "id": "b9e449f2",
      "metadata": {},
      "outputs": [
        {
          "name": "stdout",
          "output_type": "stream",
          "text": [
            "​"
          ]
        }
      ],
      "source": []
    },
    {
      "cell_type": "markdown",
      "id": "0c0a391b-ed4f-4bfb-ad74-d0d8271bc596",
      "metadata": {},
      "source": [
        "## 3 Counting Spikes in Discrete Bins\n",
        "\n",
        "Seaborn’s `histplot` function gives us a quick and convenient way for\n",
        "visualizing PSTHs. However, if we want to do further analyses on the\n",
        "PSTHs we need to compute and store them ourselves. In this section, we\n",
        "will explore how to divide our analysis into discrete bins and count the\n",
        "number of spikes within each bin. The bin size in an important parameter\n",
        "in many spiking analyses - if the bins are too small the resulting\n",
        "signal will be noisy but if they are too wide we lose temporal\n",
        "resolution.\n",
        "\n",
        "| Code | Description |\n",
        "|------------------------------------|------------------------------------|\n",
        "| `bins = np.arange(start, stop, stepsize)` | Create an array of evenly spaced `bins` between `start` and `stop` with the given `stepsize` |\n",
        "| `df.groupby(\"col1\").col2.value_counts()` | Group the data by columns `\"col1\"` and get the `.value_counts()` of `\"col2\"` for each grouping |\n",
        "| `df.groupby([\"col1\", \"col2\"]).col3.value_counts()` | Group the data by columns `\"col1\"` and `\"col2\"` and get the `.value_counts()` of `\"col3\"` for each grouping |\n",
        "| `df.groupby(\"col1\").col2.value_counts(bins=bins)` | Group the data by columns `\"col1\"` and get the `.value_counts()` of `\"col2\"` in the given `bins` |\n",
        "| `df.col1.array.mid` | Get the midpoints for a series of time intervals |\n",
        "| `df = df.reset_index()` | reset the index of `df` and store the old index in a new column |\n",
        "| `df.columns = [\"new1\", \"new2\"]` | Rename the columns of `df` to `\"new1\"` and `\"new2\"` |\n",
        "| `sns.lineplot(df, x=\"col1\", y=\"col2\", estimator=\"std\")` | Plot the standard deviation of `\"col1\"` against `\"col2\"` |\n",
        "| `sns.lineplot(df, x=\"col1\", y=\"col2\", hue=\"col3\")` | Plot the values in `\"col1\"` against `\"col2\"` and add a `hue` based on `\"col3\"` |\n",
        "| `sns.lineplot(df, x=\"col1\", y=\"col2\", units=\"col3\", estimator=None)` | Plot the values in `\"col1\"` against `\"col2\"` separately for all `units` in `\"col3\"` |\n",
        "\n",
        "------------------------------------------------------------------------\n",
        "\n",
        "<span class=\"theorem-title\">**Exercise 11**</span> Use `np.arange` to\n",
        "create an array of evenly spaced bins between `0` and `1` seconds that\n",
        "are `0.005` seconds wide. Print the number of bins in the array."
      ]
    },
    {
      "cell_type": "code",
      "execution_count": 25,
      "id": "b4d44b5c",
      "metadata": {},
      "outputs": [
        {
          "name": "stdout",
          "output_type": "stream",
          "text": [
            "​"
          ]
        }
      ],
      "source": []
    },
    {
      "cell_type": "markdown",
      "id": "681791c2-5c16-41ad-a14e-e20cbce994c5",
      "metadata": {},
      "source": [
        "<span class=\"theorem-title\">**Example 2**</span> Group the `df` by\n",
        "`\"brain_area\"` and get the `.value_counts()` of the `\"spike_time\"`.\n",
        "Then, get the `.mid` of each interval and store it in the `\"spike_time\"`\n",
        "column. Finally, rename the columns to `\"bin_time\"` and `\"spike_count\"`"
      ]
    },
    {
      "cell_type": "code",
      "execution_count": 26,
      "id": "0fb644e1",
      "metadata": {},
      "outputs": [
        {
          "data": {
            "text/html": [
              "\n",
              "<p>1194 rows × 3 columns</p>\n",
              "</div>"
            ]
          },
          "metadata": {},
          "output_type": "display_data"
        }
      ],
      "source": [
        "psth = df.groupby([\"brain_area\"]).spike_time.value_counts(bins=bins).reset_index()\n",
        "psth.spike_time = psth.spike_time.array.mid\n",
        "psth.columns = [\"brain_area\", \"bin_time\", \"spike_count\"]\n",
        "psth"
      ]
    },
    {
      "cell_type": "markdown",
      "id": "3dcdaaee-b34e-41f3-afae-242bfd20d0c9",
      "metadata": {},
      "source": [
        "<span class=\"theorem-title\">**Exercise 12**</span> Create an\n",
        "`sns.lineplot` to plot `y=\"spike_count\"` across `x=\"bin_time\"` (HINT: if\n",
        "this takes too long, you can set `errorbar=None` to speed up\n",
        "computation)."
      ]
    },
    {
      "cell_type": "code",
      "execution_count": 28,
      "id": "44259351",
      "metadata": {},
      "outputs": [
        {
          "name": "stdout",
          "output_type": "stream",
          "text": [
            "​"
          ]
        }
      ],
      "source": []
    },
    {
      "cell_type": "markdown",
      "id": "fdace51b-95b6-4bd1-94bb-824f8a231097",
      "metadata": {},
      "source": [
        "<span class=\"theorem-title\">**Exercise 13**</span> Use `sns.lineplot`\n",
        "with `estimator=\"std\"` to plot the standard deviation of the\n",
        "`\"spike_count\"` across `\"bin_time\"`."
      ]
    },
    {
      "cell_type": "code",
      "execution_count": 30,
      "id": "09a05025",
      "metadata": {},
      "outputs": [
        {
          "name": "stdout",
          "output_type": "stream",
          "text": [
            "​"
          ]
        }
      ],
      "source": []
    },
    {
      "cell_type": "markdown",
      "id": "cf1b6c6d-4a8f-4c98-9543-5f62c8dc5879",
      "metadata": {},
      "source": [
        "<span class=\"theorem-title\">**Exercise 14**</span> Create new `bins`\n",
        "between `-0.2` and `0.8` seconds with a width of `0.025` seconds. Them\n",
        "compute the `psth` as shown in\n",
        "<a href=\"#exm-bin\" class=\"quarto-xref\">Example 2</a> and plot the\n",
        "`\"spike_count\"` across `\"bin_time\"`."
      ]
    },
    {
      "cell_type": "code",
      "execution_count": 32,
      "id": "e911c70c",
      "metadata": {},
      "outputs": [
        {
          "name": "stdout",
          "output_type": "stream",
          "text": [
            "​"
          ]
        }
      ],
      "source": []
    },
    {
      "cell_type": "markdown",
      "id": "18d0f673-52f6-449f-b998-e37edd718653",
      "metadata": {},
      "source": [
        "<span class=\"theorem-title\">**Exercise 15**</span> Reduce the bin width\n",
        "to a value that you think is appropriate, then re-compute the `psth` and\n",
        "plot it again."
      ]
    },
    {
      "cell_type": "code",
      "execution_count": 34,
      "id": "fc4a6bdf",
      "metadata": {},
      "outputs": [
        {
          "name": "stdout",
          "output_type": "stream",
          "text": [
            "​"
          ]
        }
      ],
      "source": []
    },
    {
      "cell_type": "markdown",
      "id": "adafdc8e-90e6-4928-8920-17b4cbad0802",
      "metadata": {},
      "source": [
        "<span class=\"theorem-title\">**Exercise 16**</span> Use `sns.lineplot` to\n",
        "plot the PSTH for each brain_area separately by setting\n",
        "`units=\"brain_area\"` and `estimator=None`."
      ]
    },
    {
      "cell_type": "code",
      "execution_count": 36,
      "id": "faa81277",
      "metadata": {},
      "outputs": [
        {
          "name": "stdout",
          "output_type": "stream",
          "text": [
            "​"
          ]
        }
      ],
      "source": []
    },
    {
      "cell_type": "markdown",
      "id": "f84ab464-937e-47b8-8b85-12988f067397",
      "metadata": {},
      "source": [
        "<span class=\"theorem-title\">**Exercise 17**</span> Re-calculate the\n",
        "`psth` as shown in <a href=\"#exm-bin\" class=\"quarto-xref\">Example 2</a>\n",
        "but group the data by `\"unit_id\"` instead of `\"brain_area\"`. Then create\n",
        "a `sns.lineplot` for every unit by setting `estimator=None` and\n",
        "`units=\"unit_id\"` (HINT: adjust the names of the `.columns`)."
      ]
    },
    {
      "cell_type": "code",
      "execution_count": 38,
      "id": "8c4d54ed",
      "metadata": {},
      "outputs": [
        {
          "name": "stdout",
          "output_type": "stream",
          "text": [
            "​"
          ]
        }
      ],
      "source": []
    },
    {
      "cell_type": "markdown",
      "id": "ad086ef7-31b8-40e3-b02c-0c9896aa3086",
      "metadata": {},
      "source": [
        "<span class=\"theorem-title\">**Exercise 18**</span> Re-calculate the\n",
        "`psth` as shown in <a href=\"#exm-bin\" class=\"quarto-xref\">Example 2</a>\n",
        "but group the data by `\"unit_id\"` AND `\"brain_area\"`. Then create a\n",
        "`sns.lineplot` of the spike `\"count\"` across `\"spike_time\"` and add\n",
        "`hue=\"brain_area\"`."
      ]
    },
    {
      "cell_type": "code",
      "execution_count": 40,
      "id": "0881b5d3",
      "metadata": {},
      "outputs": [
        {
          "name": "stdout",
          "output_type": "stream",
          "text": [
            "​"
          ]
        }
      ],
      "source": []
    },
    {
      "cell_type": "markdown",
      "id": "84bb62aa-9b71-407d-aad9-52afd6517adb",
      "metadata": {},
      "source": [
        "## 4 Comparing Firing Rates to a Baseline\n",
        "\n",
        "In the previous plot, we saw that there is a large variability in the\n",
        "baseline firing rate between brain areas and units. This makes\n",
        "visualizations and statistical comparisons difficult. A common way of\n",
        "dealing with this is to apply a baseline correction. For this, we select\n",
        "a time interval and subtract the average spike count within this\n",
        "interval from the rest of the signal. The resulting PSTH represents the\n",
        "change in spiking relative to the baseline. In this section, we will\n",
        "learn how to select baseline intervals, compute the baseline spiking\n",
        "rate and correct the PSTHs.\n",
        "\n",
        "| Code | Description |\n",
        "|------------------------------------|------------------------------------|\n",
        "| `mask = df.col1 < 1` | Create a boolean `mask` that is `True` where the column `\"col1\"` is smaller than `1` |\n",
        "| `mask = (df.col1 < 1) & (df.col1 > 0)` | Create a boolean `mask` that is `True` where the column `\"col1\"` is smaller than `1` and larger than `0` |\n",
        "| `df[mask]` | Get all rows of `df` where the `mask` is `True` |\n",
        "| `df[\"newcol\"] = values` | Create a new column in `df` called `\"newcol\"` and assign it the `values` |\n",
        "| `del df[\"col1\"]` | Delete `\"col1\"` from `df` |\n",
        "| `df1.merge(df2, on=\"col1\")` | Merge the data frames `df1` and `df2` based on the colum `\"col1\"` |\n",
        "| `grouping = df.groupby([\"col1\"]).col2.mean()` | Group `df` by `\"col1\"` and get the mean value of `\"col2\"` for each grouping |\n",
        "| `sns.histplot(grouping)` | Plot the `grouping` as a histogram |\n",
        "| `sns.lineplot(psth, x=\"col1\", y=\"col2\", hue=\"col3\")` | Plot `\"col2\"` against `\"col1\"` and add a `hue` for `\"col3\"` |\n",
        "\n",
        "------------------------------------------------------------------------\n",
        "\n",
        "<span class=\"theorem-title\">**Example 3**</span> Compute the `baseline`\n",
        "spike count for every `\"unit_id\"` in the time interval between\n",
        "`tmin=-0.1` and `tmax=0` seconds."
      ]
    },
    {
      "cell_type": "code",
      "execution_count": 41,
      "id": "58838d8b",
      "metadata": {},
      "outputs": [
        {
          "data": {
            "text/plain": [
              "unit_id\n",
              "951015628    0.2\n",
              "951015643    0.0\n",
              "951015704    0.0\n",
              "951015717    1.6\n",
              "951015731    0.0\n",
              "            ... \n",
              "951039462    2.7\n",
              "951039560    0.4\n",
              "951039854    0.2\n",
              "951039863    0.2\n",
              "951039870    8.1\n",
              "Name: spike_count, Length: 386, dtype: float64"
            ]
          },
          "metadata": {},
          "output_type": "display_data"
        }
      ],
      "source": [
        "tmin = -0.1\n",
        "tmax = 0\n",
        "mask = (psth.bin_time >= tmin) & (psth.bin_time <= tmax)\n",
        "baseline = psth[mask].groupby([\"unit_id\"]).spike_count.mean()\n",
        "baseline"
      ]
    },
    {
      "cell_type": "markdown",
      "id": "e99188f6-3d80-4bae-94fc-e062da269454",
      "metadata": {},
      "source": [
        "<span class=\"theorem-title\">**Exercise 19**</span> Create a\n",
        "`sns.histplot` to visualize the distribution of the `baseline` spike\n",
        "count."
      ]
    },
    {
      "cell_type": "code",
      "execution_count": 43,
      "id": "239bb452",
      "metadata": {},
      "outputs": [
        {
          "name": "stdout",
          "output_type": "stream",
          "text": [
            "​"
          ]
        }
      ],
      "source": []
    },
    {
      "cell_type": "markdown",
      "id": "0dc11c94-34ea-48b5-bfcf-31996aa28ec4",
      "metadata": {},
      "source": [
        "<span class=\"theorem-title\">**Example 4**</span> `.merge()` the\n",
        "`baseline` into the `psth` data frame based on the column `\"unit_id\"`.\n",
        "Rename it to avoid naming conflicts."
      ]
    },
    {
      "cell_type": "code",
      "execution_count": 44,
      "id": "6d994410",
      "metadata": {},
      "outputs": [
        {
          "data": {
            "text/html": [
              "\n",
              "<p>38214 rows × 5 columns</p>\n",
              "</div>"
            ]
          },
          "metadata": {},
          "output_type": "display_data"
        }
      ],
      "source": [
        "baseline.name = \"baseline\"\n",
        "psth = psth.merge(baseline, on=\"unit_id\")\n",
        "psth"
      ]
    },
    {
      "cell_type": "code",
      "execution_count": 45,
      "id": "a2edbb7a",
      "metadata": {},
      "outputs": [
        {
          "name": "stdout",
          "output_type": "stream",
          "text": [
            "​"
          ]
        }
      ],
      "source": []
    },
    {
      "cell_type": "markdown",
      "id": "f1cbb790-9d27-4c27-9d4e-44bbc41b46f1",
      "metadata": {},
      "source": [
        "<span class=\"theorem-title\">**Exercise 20**</span> Subtract the\n",
        "`\"baseline\"` from the `\"spike_count\"` and write the result to a new\n",
        "column called `\"baselined_spike_count\"`."
      ]
    },
    {
      "cell_type": "code",
      "execution_count": 47,
      "id": "1550df92",
      "metadata": {},
      "outputs": [
        {
          "name": "stdout",
          "output_type": "stream",
          "text": [
            "​"
          ]
        }
      ],
      "source": []
    },
    {
      "cell_type": "markdown",
      "id": "4ab55783-f699-4c7d-815b-5afad6f5bef0",
      "metadata": {},
      "source": [
        "<span class=\"theorem-title\">**Exercise 21**</span> Create an\n",
        "`sns.lineplot` of the `\"baselined_spike_count\"` across `\"time\"` (HINT:\n",
        "if this takes too long set `errorbar=None` to speed up computation)."
      ]
    },
    {
      "cell_type": "code",
      "execution_count": 49,
      "id": "8706af80",
      "metadata": {},
      "outputs": [
        {
          "name": "stdout",
          "output_type": "stream",
          "text": [
            "​"
          ]
        }
      ],
      "source": []
    },
    {
      "cell_type": "markdown",
      "id": "818c9d5a-5e1c-489d-8430-5cd390178e82",
      "metadata": {},
      "source": [
        "<span class=\"theorem-title\">**Exercise 22**</span> Re-compute the\n",
        "`baseline` as shown in\n",
        "<a href=\"#exm-baseline\" class=\"quarto-xref\">Example 3</a> but use the\n",
        "time interval from `tmin=0` to `tmax=0.1`. Then, visualize the\n",
        "`baseline` with a `sns.histplot`."
      ]
    },
    {
      "cell_type": "code",
      "execution_count": 51,
      "id": "1fd57ff8",
      "metadata": {},
      "outputs": [
        {
          "name": "stdout",
          "output_type": "stream",
          "text": [
            "​"
          ]
        }
      ],
      "source": []
    },
    {
      "cell_type": "markdown",
      "id": "ff6fb84a-7024-467a-9598-d634ca7c3ea2",
      "metadata": {},
      "source": [
        "<span class=\"theorem-title\">**Exercise 23**</span> Delete the existing\n",
        "`\"baseline\"` column runnign the code below, then `.merge()` the new\n",
        "`baseline` with `psth` as shown in @emx-merge. Subtract the `.baseline`\n",
        "from the `.spike_count` and plot the resulting\n",
        "`\"baselined_spike_count\"`. Was this baseline interval a good choice?"
      ]
    },
    {
      "cell_type": "code",
      "execution_count": 52,
      "id": "cce8b460",
      "metadata": {},
      "outputs": [],
      "source": [
        "del psth[\"baseline\"]"
      ]
    },
    {
      "cell_type": "code",
      "execution_count": 54,
      "id": "46419bd3",
      "metadata": {},
      "outputs": [
        {
          "name": "stdout",
          "output_type": "stream",
          "text": [
            "​"
          ]
        }
      ],
      "source": []
    },
    {
      "cell_type": "markdown",
      "id": "d09d8539-6c4f-4fed-8227-34f71bb77710",
      "metadata": {},
      "source": [
        "<span class=\"theorem-title\">**Exercise 24**</span> Delete the existing\n",
        "`\"baseline\"` column , then re-compute it using the time interval from\n",
        "`tmin=-0.2` to `tmax=0`, `.merge()` it with the `psth` data frame, then\n",
        "compute and plot the \\`“baselined_spike_count”"
      ]
    },
    {
      "cell_type": "code",
      "execution_count": 56,
      "id": "71ffee4c",
      "metadata": {},
      "outputs": [
        {
          "name": "stdout",
          "output_type": "stream",
          "text": [
            "​"
          ]
        }
      ],
      "source": []
    },
    {
      "cell_type": "markdown",
      "id": "96a939ab-f53d-47e8-ac4c-6eea39da09d1",
      "metadata": {},
      "source": [
        "<span class=\"theorem-title\">**Exercise 25**</span> Plot the\n",
        "`\"baselined_spike_counts\"` cross `\"bin_time\"` with a `hue` for\n",
        "`\"brain_area\"` but plot every `\"unit_id\"` as individual `units`."
      ]
    },
    {
      "cell_type": "code",
      "execution_count": 58,
      "id": "3d771fcd",
      "metadata": {},
      "outputs": [
        {
          "name": "stdout",
          "output_type": "stream",
          "text": [
            "​"
          ]
        }
      ],
      "source": []
    },
    {
      "cell_type": "markdown",
      "id": "4510d605-468e-4b40-8fc0-fbbaa82e9f53",
      "metadata": {},
      "source": [
        "## 5 Identifying Responsive Units\n",
        "\n",
        "The last plot clearly showed that not all units respond to the stimulus\n",
        "by spiking. Some do not respond at all while others decrease their\n",
        "firing rate below the baseline. This can be problematic if we want to\n",
        "average the PSTHs to estimate the response of larger populations of\n",
        "neurons. To avoid distorting our average, we have to identify which\n",
        "units are responsive. For this purpose, we’ll normalize the PSTHs by\n",
        "applying the formular\n",
        "\n",
        "$$\n",
        "psth_{normalized} = \\frac{psth-baseline}{baseline+\\epsilon}\n",
        "$$\n",
        "\n",
        "The normalized PSTH describes the firing of a neuron relative to the\n",
        "baseline. The regularization coefficient $\\epsilon$ is a small number\n",
        "that is added to the baseline to avoid errors for units with a baseline\n",
        "rate close to 0. Based on the normalized PSTH, we can define a threshold\n",
        "(e.g. 2 times the baseline rate) and categorize each unit above this\n",
        "threshold as responsive. In this section, you’ll explore normalizing the\n",
        "PSTHs while applying different values of $\\epsilon$ and selection\n",
        "thresholds.\n",
        "\n",
        "| Code | Description |\n",
        "|------------------------------------|------------------------------------|\n",
        "| `grouping = df.groupby(\"col1\").col2.max()` | Group `df` by `\"col1\"` and get the `.max()` of `\"col2\"` for each grouping |\n",
        "| `mask = grouping > x` | Create a `mask` that is `True` where `grouping` is greater than `x` |\n",
        "| `grouping.reset_index(name=\"new\")` | Reset the index of `grouping` and store the old index in a new column under the `name=\"new\"` |\n",
        "| `df1.merge(df2, on=[\"col1\", \"col2\"])` | Merge `df2` to `df1` based `on` the columns `\"col1\"` and `\"col2\"` |\n",
        "| `sns.histplot(grouping)` | Plot a histogram of the values in `grouping` |\n",
        "| `sns.barplot(df, x=\"col1\", hue=\"col2\")` | Create a bar plot for the values in `\"col1\"` for each value in `\"col2\"` |\n",
        "| `plt.axvline(x, ymin, ymax)` | Add a vertical line at `x` that goes from `ymin` to `ymax` |\n",
        "\n",
        "------------------------------------------------------------------------\n",
        "\n",
        "<span class=\"theorem-title\">**Exercise 26**</span> Compute the spike\n",
        "count relative to the baseline by subtracting the `\"baseline\"` from the\n",
        "`\"spike_count\"` and dividing the result by the `\"baseline\"`."
      ]
    },
    {
      "cell_type": "code",
      "execution_count": 60,
      "id": "9d07faf3",
      "metadata": {},
      "outputs": [
        {
          "name": "stdout",
          "output_type": "stream",
          "text": [
            "​"
          ]
        }
      ],
      "source": []
    },
    {
      "cell_type": "markdown",
      "id": "622c2a0f-d883-4344-aba7-12a8ac5ee7d1",
      "metadata": {},
      "source": [
        "<span class=\"theorem-title\">**Exercise 27**</span> Create a\n",
        "`sns.lineplot` with `estimator=None` and `units=\"unit_id\"` to plot the\n",
        "`\"relative_spiking\"` for every unit."
      ]
    },
    {
      "cell_type": "code",
      "execution_count": 62,
      "id": "9915191d",
      "metadata": {},
      "outputs": [
        {
          "name": "stdout",
          "output_type": "stream",
          "text": [
            "​"
          ]
        }
      ],
      "source": []
    },
    {
      "cell_type": "markdown",
      "id": "8758d522-14d2-4e7c-a8aa-5ad0a4f9d3a8",
      "metadata": {},
      "source": [
        "<span class=\"theorem-title\">**Exercise 28**</span> Re-compute the\n",
        "`\"relative_spiking\"` but add the regularization parameter `epsilon` to\n",
        "the baseline before dividing to avoid distorting the responses of units\n",
        "with a very low baseline. Then, plot the `\"relative_spiking\"` across\n",
        "`\"bin_time\"` for each `\"unit_id\"`."
      ]
    },
    {
      "cell_type": "code",
      "execution_count": 63,
      "id": "3efe6348",
      "metadata": {},
      "outputs": [],
      "source": [
        "epsilon = 0.2"
      ]
    },
    {
      "cell_type": "code",
      "execution_count": 65,
      "id": "02707c3d",
      "metadata": {},
      "outputs": [
        {
          "name": "stdout",
          "output_type": "stream",
          "text": [
            "​"
          ]
        }
      ],
      "source": []
    },
    {
      "cell_type": "markdown",
      "id": "da0533ec-6e58-4ea0-8d77-7a4c2431540c",
      "metadata": {},
      "source": [
        "<span class=\"theorem-title\">**Exercise 29**</span> Increase the value of\n",
        "`epsilion`, then re-compute the the values of the `\"relative_spiking\"`\n",
        "and plot them to see the effect of the regularization parameter."
      ]
    },
    {
      "cell_type": "code",
      "execution_count": 67,
      "id": "ed8aeb8b",
      "metadata": {},
      "outputs": [
        {
          "name": "stdout",
          "output_type": "stream",
          "text": [
            "​"
          ]
        }
      ],
      "source": []
    },
    {
      "cell_type": "markdown",
      "id": "4b2b527e-29e5-47f0-b8bf-6636fa44510c",
      "metadata": {},
      "source": [
        "<span class=\"theorem-title\">**Exercise 30**</span> Group the PSTHs by\n",
        "the `\"unit_id\"` and compute the `.max()` of the `\"relative_spiking\"` for\n",
        "each unit. Plot them in a histogram and draw a `plt.axvline` at the\n",
        "`threshold` defined below."
      ]
    },
    {
      "cell_type": "code",
      "execution_count": 68,
      "id": "32cddfc3",
      "metadata": {},
      "outputs": [],
      "source": [
        "threshold = 1.5"
      ]
    },
    {
      "cell_type": "code",
      "execution_count": 70,
      "id": "7ce85871",
      "metadata": {},
      "outputs": [
        {
          "name": "stdout",
          "output_type": "stream",
          "text": [
            "​"
          ]
        }
      ],
      "source": []
    },
    {
      "cell_type": "markdown",
      "id": "4bfab56e-95b9-4b07-a1c8-0496a1197f7f",
      "metadata": {},
      "source": [
        "<span class=\"theorem-title\">**Example 5**</span> Group the psth by\n",
        "`\"unit_id\"` and `\"brain_area\"` and compare the `.max()` of the\n",
        "`\"relative_spiking\"` to the `threshold` to determine if a unit\n",
        "`\"is_responsive\"`. Then, reset the index of `is_responsive` and name the\n",
        "new column `\"is_responsive\"`"
      ]
    },
    {
      "cell_type": "code",
      "execution_count": 71,
      "id": "d8fee1b0",
      "metadata": {},
      "outputs": [
        {
          "data": {
            "text/html": [
              "\n",
              "<p>386 rows × 3 columns</p>\n",
              "</div>"
            ]
          },
          "metadata": {},
          "output_type": "display_data"
        }
      ],
      "source": [
        "is_responsive = psth.groupby([\"unit_id\", \"brain_area\"]).relative_spiking.max() > threshold\n",
        "is_responsive = is_responsive.reset_index(name=\"is_responsive\")\n",
        "is_responsive"
      ]
    },
    {
      "cell_type": "markdown",
      "id": "aa7945d6-42e5-42d7-9933-82f2b4791ff6",
      "metadata": {},
      "source": [
        "<span class=\"theorem-title\">**Exercise 31**</span> Create a\n",
        "`sns.barplot` with `x=\"is_responsive\"` and `hue=\"brain_area\"` to\n",
        "visualize the fraction of units in each area that responds to the\n",
        "stimulus according to the `threshold` criterion."
      ]
    },
    {
      "cell_type": "code",
      "execution_count": 73,
      "id": "de7011d5",
      "metadata": {},
      "outputs": [
        {
          "name": "stdout",
          "output_type": "stream",
          "text": [
            "​"
          ]
        }
      ],
      "source": []
    },
    {
      "cell_type": "markdown",
      "id": "c2a718d9-d7a3-4724-919d-f4cc8582d0dc",
      "metadata": {},
      "source": [
        "<span class=\"theorem-title\">**Exercise 32**</span> Try a different\n",
        "`threshold` value, and plot a `sns.histplot` of the unit’s maximum\n",
        "`\"relative_firing\"` together with the threshold to check how many units\n",
        "would be rejected by the threshold. Then re-compute the responsive units\n",
        "as shown in <a href=\"#exm-resp\" class=\"quarto-xref\">Example 5</a> and\n",
        "plot the fraction of responsive units per area."
      ]
    },
    {
      "cell_type": "code",
      "execution_count": 75,
      "id": "fe19b053",
      "metadata": {},
      "outputs": [
        {
          "name": "stdout",
          "output_type": "stream",
          "text": [
            "​"
          ]
        }
      ],
      "source": []
    },
    {
      "cell_type": "markdown",
      "id": "fd665da6-2bab-4866-adee-d0399aa14325",
      "metadata": {},
      "source": [
        "<span class=\"theorem-title\">**Exercise 33**</span> Merge the\n",
        "`is_responsive` data frame into the `psth` data frame with\n",
        "`on=[\"unit_id\", \"brain_area\"]`."
      ]
    },
    {
      "cell_type": "code",
      "execution_count": 77,
      "id": "8fe1fede",
      "metadata": {},
      "outputs": [
        {
          "name": "stdout",
          "output_type": "stream",
          "text": [
            "​"
          ]
        }
      ],
      "source": []
    },
    {
      "cell_type": "markdown",
      "id": "516cb31e-6dd0-4a17-8242-440f8fa45e30",
      "metadata": {},
      "source": [
        "<span class=\"theorem-title\">**Exercise 34**</span> Select only the units\n",
        "that are responsive (`psth[psth.is_responsive]`) and plot their\n",
        "`\"baselined_spike_count\"` across `\"bin_time\"` for each brain area."
      ]
    },
    {
      "cell_type": "code",
      "execution_count": 79,
      "id": "1527b1a2",
      "metadata": {},
      "outputs": [
        {
          "name": "stdout",
          "output_type": "stream",
          "text": [
            "​"
          ]
        }
      ],
      "source": []
    },
    {
      "cell_type": "markdown",
      "id": "fc527073-ef04-4008-84a7-344bda3fa0c1",
      "metadata": {},
      "source": [
        "<span class=\"theorem-title\">**Exercise 35**</span> Plot the PSTH of the\n",
        "responsive units for each individual `\"unit_id\"`."
      ]
    },
    {
      "cell_type": "code",
      "execution_count": 81,
      "id": "91612f64",
      "metadata": {},
      "outputs": [
        {
          "name": "stdout",
          "output_type": "stream",
          "text": [
            "​"
          ]
        }
      ],
      "source": []
    }
  ],
  "metadata": {
    "kernelspec": {
      "display_name": "default",
      "language": "python",
      "name": "python3"
    },
    "language_info": {
      "codemirror_mode": {
        "name": "ipython",
        "version": 3
      },
      "file_extension": ".py",
      "mimetype": "text/x-python",
      "name": "python",
      "nbconvert_exporter": "python",
      "pygments_lexer": "ipython3",
      "version": "3.12.11"
    }
  },
  "nbformat": 4,
  "nbformat_minor": 5
}
