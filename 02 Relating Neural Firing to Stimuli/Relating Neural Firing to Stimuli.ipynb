{
  "cells": [
    {
      "cell_type": "markdown",
      "metadata": {},
      "source": [
        "# Relating Neural Firing to Stimuli\n",
        "\n",
        "## 1 Preparation\n",
        "\n",
        "Import the modules required for this session"
      ],
      "id": "c487f363-3ca1-403e-aeee-c43455d6de27"
    },
    {
      "cell_type": "code",
      "execution_count": 1,
      "metadata": {},
      "outputs": [],
      "source": [
        "import pandas as pd\n",
        "import numpy as np\n",
        "from matplotlib import pyplot as plt\n",
        "import seaborn as sns\n",
        "from scipy.stats import wilcoxon\n",
        "%matplotlib inline"
      ],
      "id": "b215f6b4"
    },
    {
      "cell_type": "markdown",
      "metadata": {},
      "source": [
        "Download the data required for this session"
      ],
      "id": "65c0fa36-65f6-487a-b0ef-8122222a66cf"
    },
    {
      "cell_type": "code",
      "execution_count": 2,
      "metadata": {},
      "outputs": [],
      "source": [
        "import requests\n",
        "\n",
        "urls = [\n",
        "    \"https://uni-bonn.sciebo.de/s/G64EkHoQkeZeoLm\",\n",
        "    \"https://uni-bonn.sciebo.de/s/mLMkb2TwbNx3Yg6\",\n",
        "]\n",
        "fnames = [\"flash_stimuli.parquet\", \"flash_spikes.parquet\"]\n",
        "\n",
        "for url, fname in zip(urls, fnames):\n",
        "    response = requests.get(f\"{url}/download\")\n",
        "    print(\"Downloading Data ...\")\n",
        "    with open(fname, \"wb\") as file:\n",
        "        file.write(response.content)\n",
        "    print(\"Done!\")"
      ],
      "id": "a692dea3"
    },
    {
      "cell_type": "markdown",
      "metadata": {},
      "source": [
        "## 2 Referencing Spike Times to Stimulus Presentations\n",
        "\n",
        "In many experiments, we wish to relate neural spiking to external\n",
        "events, like stimuli. This requires that we can relate the timing of the\n",
        "spikes to the timing of the events. If both spikes and stimuli are\n",
        "stored in data frames, we an use pandas’ `merge_asof` function to merge\n",
        "the time information from both data frames. In this section, we are\n",
        "going to explore how to use pandas to compute the timing of spikes\n",
        "relative to stimulus onset. Then, we’ll visualize the amount of spikes\n",
        "ocurring right before and after a stimulus in a peri-stimulus time\n",
        "histogram or PSTH.\n",
        "\n",
        "| Code | Description |\n",
        "|------------------------------------|------------------------------------|\n",
        "| `df = pd.read_parquet(mydata.parquet)` | Read the file `\"mydata.parquet\"` into a data frame |\n",
        "| `pd.merge_asof(left, right, left_on, right_on)` | Merge data frames `left` and `right` based on the columns `left_on` and `right_on` |\n",
        "| `df[\"newcol\"] = values` | Add a new column named `\"newcol\"` to `df` and assign it the `values` |\n",
        "| `df.col1.min()` | Get the minimum value of `\"col1\"` |\n",
        "| `df[df.col1<1]` | Get all rows of `df` where the value of `\"col1\"` is smaller than 1 |\n",
        "| `sns.histplot(df, x=\"col1\", hue=\"col2\")` | Plot a histogram of the values in `\"col1\"` and add a `hue` for the categories in `\"col2\"` |\n",
        "| `sns.histplot(df, x=\"col1\", bins=n)` | Plot a histogram of the values in `\"col1\"` with `n` bins |\n",
        "| `plt.axvline(x, ymin, ymax)` | Add a vertical line at `x` that goes from `ymin` to `ymax` |\n",
        "| `plt.xlim(xmin, xmax)` | Limit the x-axis to the range between `xmin` and `xmax` |\n",
        "\n",
        "------------------------------------------------------------------------\n",
        "\n",
        "<span class=\"theorem-title\">**Exercise 1**</span> Load the data stored\n",
        "in the files `\"flash_spikes.parquet\"` and `\"flash_stimuli.parquet\"` into\n",
        "data frames and assign them to variables called `spikes` and `stimuli`."
      ],
      "id": "ad0c9134-d273-43a0-8b6a-843052ee2318"
    },
    {
      "cell_type": "code",
      "execution_count": 4,
      "metadata": {},
      "outputs": [
        {
          "output_type": "stream",
          "name": "stdout",
          "text": [
            "​"
          ]
        }
      ],
      "source": [],
      "id": "1ad7904a"
    },
    {
      "cell_type": "markdown",
      "metadata": {},
      "source": [
        "<span class=\"theorem-title\">**Example 1**</span> Use `pd.merge_asof()`\n",
        "to merge the `spikes` and `stimuli` based on the `\"spike_time\"` and\n",
        "`\"start_time\"`. In the resulting `df`, each spike is paired with the\n",
        "last stimulus that was presented before that spike."
      ],
      "id": "7265b133-af0b-445d-8f40-f4468e2d6754"
    },
    {
      "cell_type": "code",
      "execution_count": 5,
      "metadata": {},
      "outputs": [
        {
          "output_type": "display_data",
          "metadata": {},
          "data": {
            "text/html": [
              "\n",
              "<p>457706 rows × 5 columns</p>\n",
              "</div>"
            ]
          }
        }
      ],
      "source": [
        "df = pd.merge_asof(spikes, stimuli, left_on=\"spike_time\", right_on=\"start_time\")\n",
        "df"
      ],
      "id": "bf4e5b5c"
    },
    {
      "cell_type": "markdown",
      "metadata": {},
      "source": [
        "<span class=\"theorem-title\">**Exercise 2**</span> Subtract the stimulus\n",
        "`.start_time` column from the `.spike_time` column to get the spike\n",
        "times relative to stimulus onset. Then, print the smallest spike time in\n",
        "`df`."
      ],
      "id": "1a4a8c2b-2d69-4d1c-a437-e0129b1ecc1e"
    },
    {
      "cell_type": "code",
      "execution_count": 7,
      "metadata": {},
      "outputs": [
        {
          "output_type": "stream",
          "name": "stdout",
          "text": [
            "​"
          ]
        }
      ],
      "source": [],
      "id": "44f23174"
    },
    {
      "cell_type": "markdown",
      "metadata": {},
      "source": [
        "<span class=\"theorem-title\">**Exercise 3**</span> The smallest spike\n",
        "time should be very close to 0. However, we would like our analysis time\n",
        "window to include spikes that happen before the stimulus as well. Add a\n",
        "new column to `stimuli` called `\"analysis_window_start\"` that is equal\n",
        "to the stimulus `\"start_time\"` minus `0.5` seconds. Print the `stimuli`\n",
        "to make sure the new column was created."
      ],
      "id": "21a8497e-4eb6-456e-90a7-cb219cb5e305"
    },
    {
      "cell_type": "code",
      "execution_count": 9,
      "metadata": {},
      "outputs": [
        {
          "output_type": "stream",
          "name": "stdout",
          "text": [
            "​"
          ]
        }
      ],
      "source": [],
      "id": "c36d7031"
    },
    {
      "cell_type": "markdown",
      "metadata": {},
      "source": [
        "<span class=\"theorem-title\">**Exercise 4**</span> Use `pd.merge_asof()`\n",
        "with `right_on=\"analysis_window_start\"` to match each spike with the\n",
        "analysis window that started before it."
      ],
      "id": "27c5696f-299b-433d-a75b-be16c23ba5f2"
    },
    {
      "cell_type": "code",
      "execution_count": 11,
      "metadata": {},
      "outputs": [
        {
          "output_type": "stream",
          "name": "stdout",
          "text": [
            "​"
          ]
        }
      ],
      "source": [],
      "id": "2c383ef8"
    },
    {
      "cell_type": "markdown",
      "metadata": {},
      "source": [
        "<span class=\"theorem-title\">**Exercise 5**</span> Subtract the stimulus\n",
        "`.start_time` column from the `.spike_time` column to get the spike\n",
        "times relative to stimulus onset. Then, print the smallest spike time in\n",
        "`df` this value should be very close to `-0.5`."
      ],
      "id": "61f6f779-3945-426a-b864-0f7a3fc8972a"
    },
    {
      "cell_type": "code",
      "execution_count": 13,
      "metadata": {},
      "outputs": [
        {
          "output_type": "stream",
          "name": "stdout",
          "text": [
            "​"
          ]
        }
      ],
      "source": [],
      "id": "bdb6c0fe"
    },
    {
      "cell_type": "markdown",
      "metadata": {},
      "source": [
        "<span class=\"theorem-title\">**Exercise 6**</span> Remove all the the\n",
        "rows in `df` where the `\"spike_time\"` relative to stimulus onset is\n",
        "greater than `1` second and print the maximum spike time."
      ],
      "id": "d82c4026-7455-4a00-95e9-2a23ba09cdea"
    },
    {
      "cell_type": "code",
      "execution_count": 15,
      "metadata": {},
      "outputs": [
        {
          "output_type": "stream",
          "name": "stdout",
          "text": [
            "​"
          ]
        }
      ],
      "source": [],
      "id": "8405a082"
    },
    {
      "cell_type": "markdown",
      "metadata": {},
      "source": [
        "<span class=\"theorem-title\">**Exercise 7**</span> Use `sns.histplot` to\n",
        "create a histogram of spike times relative to stimulus onset."
      ],
      "id": "24452b04-23e3-427f-afbd-7fa189e9499e"
    },
    {
      "cell_type": "code",
      "execution_count": 17,
      "metadata": {},
      "outputs": [
        {
          "output_type": "stream",
          "name": "stdout",
          "text": [
            "​"
          ]
        }
      ],
      "source": [],
      "id": "246a4436"
    },
    {
      "cell_type": "markdown",
      "metadata": {},
      "source": [
        "<span class=\"theorem-title\">**Exercise 8**</span> Use `sns.histplot` to\n",
        "create a histogram of spike times and use `plt.axvline()` to add\n",
        "vertical lines that mark the stimulus onset at `0` seconds and the\n",
        "offset at `0.25` seconds (BONUS): try using `color=\"black\"` and\n",
        "`linestyle=\"--\"` to make them look nice). Can you see the relationship\n",
        "between the spiking and stimuli?"
      ],
      "id": "c6778de1-2ddd-4975-83aa-216a72cf22fb"
    },
    {
      "cell_type": "code",
      "execution_count": 19,
      "metadata": {},
      "outputs": [
        {
          "output_type": "stream",
          "name": "stdout",
          "text": [
            "​"
          ]
        }
      ],
      "source": [],
      "id": "64fb085c"
    },
    {
      "cell_type": "markdown",
      "metadata": {},
      "source": [
        "<span class=\"theorem-title\">**Exercise 9**</span> Add a `hue` to the\n",
        "histogram that encodes the `\"brain_area\"`."
      ],
      "id": "412e0f97-27fe-47c3-8167-b00f84907688"
    },
    {
      "cell_type": "code",
      "execution_count": 21,
      "metadata": {},
      "outputs": [
        {
          "output_type": "stream",
          "name": "stdout",
          "text": [
            "​"
          ]
        }
      ],
      "source": [],
      "id": "8bf3f466"
    },
    {
      "cell_type": "markdown",
      "metadata": {},
      "source": [
        "<span class=\"theorem-title\">**Exercise 10**</span> Increate the number\n",
        "of `bins` in the histogram to improve the temporal resolution and limit\n",
        "the x-axis to the first `0.15` second after stimulus onset. Can you see\n",
        "which brain area responds first?"
      ],
      "id": "b867f7df-9a9a-4a11-a8ef-9ff916fc29cd"
    },
    {
      "cell_type": "code",
      "execution_count": 23,
      "metadata": {},
      "outputs": [
        {
          "output_type": "stream",
          "name": "stdout",
          "text": [
            "​"
          ]
        }
      ],
      "source": [],
      "id": "b9e449f2"
    },
    {
      "cell_type": "markdown",
      "metadata": {},
      "source": [
        "## 3 Counting Spikes in Discrete Bins\n",
        "\n",
        "Seaborn’s `histplot` function gives us a quick and convenient way for\n",
        "visualizing PSTHs. However, if we want to do further analyses on the\n",
        "PSTHs we need to compute and store them ourselves. In this section, we\n",
        "will explore how to divide our analysis into discrete bins and count the\n",
        "number of spikes within each bin. The bin size in an important parameter\n",
        "in many spiking analyses - if the bins are too small the resulting\n",
        "signal will be noisy but if they are too wide we lose temporal\n",
        "resolution.\n",
        "\n",
        "| Code | Description |\n",
        "|------------------------------------|------------------------------------|\n",
        "| `bins = np.arange(start, stop, stepsize)` | Create an array of evenly spaced `bins` between `start` and `stop` with the given `stepsize` |\n",
        "| `df.groupby(\"col1\").col2.value_counts()` | Group the data by columns `\"col1\"` and get the `.value_counts()` of `\"col2\"` for each grouping |\n",
        "| `df.groupby([\"col1\", \"col2\"]).col3.value_counts()` | Group the data by columns `\"col1\"` and `\"col2\"` and get the `.value_counts()` of `\"col3\"` for each grouping |\n",
        "| `df.groupby(\"col1\").col2.value_counts(bins=bins)` | Group the data by columns `\"col1\"` and get the `.value_counts()` of `\"col2\"` in the given `bins` |\n",
        "| `df.col1.array.mid` | Get the midpoints for a series of time intervals |\n",
        "| `df = df.reset_index()` | reset the index of `df` and store the old index in a new column |\n",
        "| `df.columns = [\"new1\", \"new2\"]` | Rename the columns of `df` to `\"new1\"` and `\"new2\"` |\n",
        "| `sns.lineplot(df, x=\"col1\", y=\"col2\", estimator=\"std\")` | Plot the standard deviation of `\"col1\"` against `\"col2\"` |\n",
        "| `sns.lineplot(df, x=\"col1\", y=\"col2\", hue=\"col3\")` | Plot the values in `\"col1\"` against `\"col2\"` and add a `hue` based on `\"col3\"` |\n",
        "| `sns.lineplot(df, x=\"col1\", y=\"col2\", units=\"col3\", estimator=None)` | Plot the values in `\"col1\"` against `\"col2\"` separately for all `units` in `\"col3\"` |\n",
        "\n",
        "------------------------------------------------------------------------\n",
        "\n",
        "<span class=\"theorem-title\">**Exercise 11**</span> Use `np.arange` to\n",
        "create an array of evenly spaced bins between `0` and `1` seconds that\n",
        "are `0.005` seconds wide. Print the number of bins in the array."
      ],
      "id": "0c0a391b-ed4f-4bfb-ad74-d0d8271bc596"
    },
    {
      "cell_type": "code",
      "execution_count": 25,
      "metadata": {},
      "outputs": [
        {
          "output_type": "stream",
          "name": "stdout",
          "text": [
            "​"
          ]
        }
      ],
      "source": [],
      "id": "b4d44b5c"
    },
    {
      "cell_type": "markdown",
      "metadata": {},
      "source": [
        "<span class=\"theorem-title\">**Example 2**</span> Group the `df` by\n",
        "`\"brain_area\"` and get the `.value_counts()` of the `\"spike_time\"`.\n",
        "Then, get the `.mid` of each interval and store it in the `\"spike_time\"`\n",
        "column. Finally, rename the columns to `\"bin_time\"` and `\"spike_count\"`"
      ],
      "id": "681791c2-5c16-41ad-a14e-e20cbce994c5"
    },
    {
      "cell_type": "code",
      "execution_count": 26,
      "metadata": {},
      "outputs": [
        {
          "output_type": "display_data",
          "metadata": {},
          "data": {
            "text/html": [
              "\n",
              "<p>1194 rows × 3 columns</p>\n",
              "</div>"
            ]
          }
        }
      ],
      "source": [
        "psth = df.groupby([\"brain_area\"]).spike_time.value_counts(bins=bins).reset_index()\n",
        "psth.spike_time = psth.spike_time.array.mid\n",
        "psth.columns = [\"brain_area\", \"bin_time\", \"spike_count\"]\n",
        "psth"
      ],
      "id": "0fb644e1"
    },
    {
      "cell_type": "markdown",
      "metadata": {},
      "source": [
        "<span class=\"theorem-title\">**Exercise 12**</span> Create an\n",
        "`sns.lineplot` to plot `y=\"spike_count\"` across `x=\"bin_time\"` (HINT: if\n",
        "this takes too long, you can set `errorbar=None` to speed up\n",
        "computation)."
      ],
      "id": "3dcdaaee-b34e-41f3-afae-242bfd20d0c9"
    },
    {
      "cell_type": "code",
      "execution_count": 28,
      "metadata": {},
      "outputs": [
        {
          "output_type": "stream",
          "name": "stdout",
          "text": [
            "​"
          ]
        }
      ],
      "source": [],
      "id": "44259351"
    },
    {
      "cell_type": "markdown",
      "metadata": {},
      "source": [
        "<span class=\"theorem-title\">**Exercise 13**</span> Use `sns.lineplot`\n",
        "with `estimator=\"std\"` to plot the standard deviation of the\n",
        "`\"spike_count\"` across `\"bin_time\"`."
      ],
      "id": "fdace51b-95b6-4bd1-94bb-824f8a231097"
    },
    {
      "cell_type": "code",
      "execution_count": 30,
      "metadata": {},
      "outputs": [
        {
          "output_type": "stream",
          "name": "stdout",
          "text": [
            "​"
          ]
        }
      ],
      "source": [],
      "id": "09a05025"
    },
    {
      "cell_type": "markdown",
      "metadata": {},
      "source": [
        "<span class=\"theorem-title\">**Exercise 14**</span> Create new `bins`\n",
        "between `-0.2` and `0.8` seconds with a width of `0.025` seconds. Them\n",
        "compute the `psth` as shown in\n",
        "<a href=\"#exm-bin\" class=\"quarto-xref\">Example 2</a> and plot the\n",
        "`\"spike_count\"` across `\"bin_time\"`."
      ],
      "id": "cf1b6c6d-4a8f-4c98-9543-5f62c8dc5879"
    },
    {
      "cell_type": "code",
      "execution_count": 32,
      "metadata": {},
      "outputs": [
        {
          "output_type": "stream",
          "name": "stdout",
          "text": [
            "​"
          ]
        }
      ],
      "source": [],
      "id": "e911c70c"
    },
    {
      "cell_type": "markdown",
      "metadata": {},
      "source": [
        "<span class=\"theorem-title\">**Exercise 15**</span> Reduce the bin width\n",
        "to a value that you think is appropriate, then re-compute the `psth` and\n",
        "plot it again."
      ],
      "id": "18d0f673-52f6-449f-b998-e37edd718653"
    },
    {
      "cell_type": "code",
      "execution_count": 34,
      "metadata": {},
      "outputs": [
        {
          "output_type": "stream",
          "name": "stdout",
          "text": [
            "​"
          ]
        }
      ],
      "source": [],
      "id": "fc4a6bdf"
    },
    {
      "cell_type": "markdown",
      "metadata": {},
      "source": [
        "<span class=\"theorem-title\">**Exercise 16**</span> Use `sns.lineplot` to\n",
        "plot the PSTH for each brain_area separately by setting\n",
        "`units=\"brain_area\"` and `estimator=None`."
      ],
      "id": "adafdc8e-90e6-4928-8920-17b4cbad0802"
    },
    {
      "cell_type": "code",
      "execution_count": 36,
      "metadata": {},
      "outputs": [
        {
          "output_type": "stream",
          "name": "stdout",
          "text": [
            "​"
          ]
        }
      ],
      "source": [],
      "id": "faa81277"
    },
    {
      "cell_type": "markdown",
      "metadata": {},
      "source": [
        "<span class=\"theorem-title\">**Exercise 17**</span> Re-calculate the\n",
        "`psth` as shown in <a href=\"#exm-bin\" class=\"quarto-xref\">Example 2</a>\n",
        "but group the data by `\"unit_id\"` instead of `\"brain_area\"`. Then create\n",
        "a `sns.lineplot` for every unit by setting `estimator=None` and\n",
        "`units=\"unit_id\"` (HINT: adjust the names of the `.columns`)."
      ],
      "id": "f84ab464-937e-47b8-8b85-12988f067397"
    },
    {
      "cell_type": "code",
      "execution_count": 38,
      "metadata": {},
      "outputs": [
        {
          "output_type": "stream",
          "name": "stdout",
          "text": [
            "​"
          ]
        }
      ],
      "source": [],
      "id": "8c4d54ed"
    },
    {
      "cell_type": "markdown",
      "metadata": {},
      "source": [
        "<span class=\"theorem-title\">**Exercise 18**</span> Re-calculate the\n",
        "`psth` as shown in <a href=\"#exm-bin\" class=\"quarto-xref\">Example 2</a>\n",
        "but group the data by `\"unit_id\"` AND `\"brain_area\"`. Then create a\n",
        "`sns.lineplot` of the spike `\"count\"` across `\"spike_time\"` and add\n",
        "`hue=\"brain_area\"`."
      ],
      "id": "ad086ef7-31b8-40e3-b02c-0c9896aa3086"
    },
    {
      "cell_type": "code",
      "execution_count": 40,
      "metadata": {},
      "outputs": [
        {
          "output_type": "stream",
          "name": "stdout",
          "text": [
            "​"
          ]
        }
      ],
      "source": [],
      "id": "0881b5d3"
    },
    {
      "cell_type": "markdown",
      "metadata": {},
      "source": [
        "## 4 Comparing Firing Rates to a Baseline\n",
        "\n",
        "In the previous plot, we saw that there is a large variability in the\n",
        "baseline firing rate between brain areas and units. This makes\n",
        "visualizations and statistical comparisons difficult. A common way of\n",
        "dealing with this is to apply a baseline correction. For this, we select\n",
        "a time interval and subtract the average spike count within this\n",
        "interval from the rest of the signal. The resulting PSTH represents the\n",
        "change in spiking relative to the baseline. In this section, we will\n",
        "learn how to select baseline intervals, compute the baseline spiking\n",
        "rate and correct the PSTHs.\n",
        "\n",
        "| Code | Description |\n",
        "|------------------------------------|------------------------------------|\n",
        "| `mask = df.col1 < 1` | Create a boolean `mask` that is `True` where the column `\"col1\"` is smaller than `1` |\n",
        "| `mask = (df.col1 < 1) & (df.col1 > 0)` | Create a boolean `mask` that is `True` where the column `\"col1\"` is smaller than `1` and larger than `0` |\n",
        "| `df[mask]` | Get all rows of `df` where the `mask` is `True` |\n",
        "| `df[\"newcol\"] = values` | Create a new column in `df` called `\"newcol\"` and assign it the `values` |\n",
        "| `del df[\"col1\"]` | Delete `\"col1\"` from `df` |\n",
        "| `df1.merge(df2, on=\"col1\")` | Merge the data frames `df1` and `df2` based on the colum `\"col1\"` |\n",
        "| `grouping = df.groupby([\"col1\"]).col2.mean()` | Group `df` by `\"col1\"` and get the mean value of `\"col2\"` for each grouping |\n",
        "| `sns.histplot(grouping)` | Plot the `grouping` as a histogram |\n",
        "| `sns.lineplot(psth, x=\"col1\", y=\"col2\", hue=\"col3\")` | Plot `\"col2\"` against `\"col1\"` and add a `hue` for `\"col3\"` |\n",
        "\n",
        "------------------------------------------------------------------------\n",
        "\n",
        "<span class=\"theorem-title\">**Example 3**</span> Compute the `baseline`\n",
        "spike count for every `\"unit_id\"` in the time interval between\n",
        "`tmin=-0.1` and `tmax=0` seconds."
      ],
      "id": "84bb62aa-9b71-407d-aad9-52afd6517adb"
    },
    {
      "cell_type": "code",
      "execution_count": 41,
      "metadata": {},
      "outputs": [
        {
          "output_type": "display_data",
          "metadata": {},
          "data": {
            "text/plain": [
              "unit_id\n",
              "951015628    0.2\n",
              "951015643    0.0\n",
              "951015704    0.0\n",
              "951015717    1.6\n",
              "951015731    0.0\n",
              "            ... \n",
              "951039462    2.7\n",
              "951039560    0.4\n",
              "951039854    0.2\n",
              "951039863    0.2\n",
              "951039870    8.1\n",
              "Name: spike_count, Length: 386, dtype: float64"
            ]
          }
        }
      ],
      "source": [
        "tmin = -0.1\n",
        "tmax = 0\n",
        "mask = (psth.bin_time >= tmin) & (psth.bin_time <= tmax)\n",
        "baseline = psth[mask].groupby([\"unit_id\"]).spike_count.mean()\n",
        "baseline"
      ],
      "id": "58838d8b"
    },
    {
      "cell_type": "markdown",
      "metadata": {},
      "source": [
        "<span class=\"theorem-title\">**Exercise 19**</span> Create a\n",
        "`sns.histplot` to visualize the distribution of the `baseline` spike\n",
        "count."
      ],
      "id": "e99188f6-3d80-4bae-94fc-e062da269454"
    },
    {
      "cell_type": "code",
      "execution_count": 43,
      "metadata": {},
      "outputs": [
        {
          "output_type": "stream",
          "name": "stdout",
          "text": [
            "​"
          ]
        }
      ],
      "source": [],
      "id": "239bb452"
    },
    {
      "cell_type": "markdown",
      "metadata": {},
      "source": [
        "<span class=\"theorem-title\">**Example 4**</span> `.merge()` the\n",
        "`baseline` into the `psth` data frame based on the column `\"unit_id\"`.\n",
        "Rename it to avoid naming conflicts."
      ],
      "id": "0dc11c94-34ea-48b5-bfcf-31996aa28ec4"
    },
    {
      "cell_type": "code",
      "execution_count": 44,
      "metadata": {},
      "outputs": [
        {
          "output_type": "display_data",
          "metadata": {},
          "data": {
            "text/html": [
              "\n",
              "<p>38214 rows × 5 columns</p>\n",
              "</div>"
            ]
          }
        }
      ],
      "source": [
        "baseline.name = \"baseline\"\n",
        "psth = psth.merge(baseline, on=\"unit_id\")\n",
        "psth"
      ],
      "id": "6d994410"
    },
    {
      "cell_type": "code",
      "execution_count": 45,
      "metadata": {},
      "outputs": [
        {
          "output_type": "stream",
          "name": "stdout",
          "text": [
            "​"
          ]
        }
      ],
      "source": [],
      "id": "a2edbb7a"
    },
    {
      "cell_type": "markdown",
      "metadata": {},
      "source": [
        "<span class=\"theorem-title\">**Exercise 20**</span> Subtract the\n",
        "`\"baseline\"` from the `\"spike_count\"` and write the result to a new\n",
        "column called `\"baselined_spike_count\"`."
      ],
      "id": "f1cbb790-9d27-4c27-9d4e-44bbc41b46f1"
    },
    {
      "cell_type": "code",
      "execution_count": 47,
      "metadata": {},
      "outputs": [
        {
          "output_type": "stream",
          "name": "stdout",
          "text": [
            "​"
          ]
        }
      ],
      "source": [],
      "id": "1550df92"
    },
    {
      "cell_type": "markdown",
      "metadata": {},
      "source": [
        "<span class=\"theorem-title\">**Exercise 21**</span> Create an\n",
        "`sns.lineplot` of the `\"baselined_spike_count\"` across `\"time\"` (HINT:\n",
        "if this takes too long set `errorbar=None` to speed up computation)."
      ],
      "id": "4ab55783-f699-4c7d-815b-5afad6f5bef0"
    },
    {
      "cell_type": "code",
      "execution_count": 49,
      "metadata": {},
      "outputs": [
        {
          "output_type": "stream",
          "name": "stdout",
          "text": [
            "​"
          ]
        }
      ],
      "source": [],
      "id": "8706af80"
    },
    {
      "cell_type": "markdown",
      "metadata": {},
      "source": [
        "<span class=\"theorem-title\">**Exercise 22**</span> Re-compute the\n",
        "`baseline` as shown in\n",
        "<a href=\"#exm-baseline\" class=\"quarto-xref\">Example 3</a> but use the\n",
        "time interval from `tmin=0` to `tmax=0.1`. Then, visualize the\n",
        "`baseline` with a `sns.histplot`."
      ],
      "id": "818c9d5a-5e1c-489d-8430-5cd390178e82"
    },
    {
      "cell_type": "code",
      "execution_count": 51,
      "metadata": {},
      "outputs": [
        {
          "output_type": "stream",
          "name": "stdout",
          "text": [
            "​"
          ]
        }
      ],
      "source": [],
      "id": "1fd57ff8"
    },
    {
      "cell_type": "markdown",
      "metadata": {},
      "source": [
        "<span class=\"theorem-title\">**Exercise 23**</span> Delete the existing\n",
        "`\"baseline\"` column runnign the code below, then `.merge()` the new\n",
        "`baseline` with `psth` as shown in @emx-merge. Subtract the `.baseline`\n",
        "from the `.spike_count` and plot the resulting\n",
        "`\"baselined_spike_count\"`. Was this baseline interval a good choice?"
      ],
      "id": "ff6fb84a-7024-467a-9598-d634ca7c3ea2"
    },
    {
      "cell_type": "code",
      "execution_count": 52,
      "metadata": {},
      "outputs": [],
      "source": [
        "del psth[\"baseline\"]"
      ],
      "id": "cce8b460"
    },
    {
      "cell_type": "code",
      "execution_count": 54,
      "metadata": {},
      "outputs": [
        {
          "output_type": "stream",
          "name": "stdout",
          "text": [
            "​"
          ]
        }
      ],
      "source": [],
      "id": "46419bd3"
    },
    {
      "cell_type": "markdown",
      "metadata": {},
      "source": [
        "<span class=\"theorem-title\">**Exercise 24**</span> Delete the existing\n",
        "`\"baseline\"` column , then re-compute it using the time interval from\n",
        "`tmin=-0.2` to `tmax=0`, `.merge()` it with the `psth` data frame, then\n",
        "compute and plot the \\`“baselined_spike_count”"
      ],
      "id": "d09d8539-6c4f-4fed-8227-34f71bb77710"
    },
    {
      "cell_type": "code",
      "execution_count": 56,
      "metadata": {},
      "outputs": [
        {
          "output_type": "stream",
          "name": "stdout",
          "text": [
            "​"
          ]
        }
      ],
      "source": [],
      "id": "71ffee4c"
    },
    {
      "cell_type": "markdown",
      "metadata": {},
      "source": [
        "<span class=\"theorem-title\">**Exercise 25**</span> Plot the\n",
        "`\"baselined_spike_counts\"` cross `\"bin_time\"` with a `hue` for\n",
        "`\"brain_area\"` but plot every `\"unit_id\"` as individual `units`."
      ],
      "id": "96a939ab-f53d-47e8-ac4c-6eea39da09d1"
    },
    {
      "cell_type": "code",
      "execution_count": 58,
      "metadata": {},
      "outputs": [
        {
          "output_type": "stream",
          "name": "stdout",
          "text": [
            "​"
          ]
        }
      ],
      "source": [],
      "id": "3d771fcd"
    },
    {
      "cell_type": "markdown",
      "metadata": {},
      "source": [
        "## 5 Identifying Responsive Units\n",
        "\n",
        "The last plot clearly showed that not all units respond to the stimulus\n",
        "by spiking. Some do not respond at all while others decrease their\n",
        "firing rate below the baseline. This can be problematic if we want to\n",
        "average the PSTHs to estimate the response of larger populations of\n",
        "neurons. To avoid distorting our average, we have to identify which\n",
        "units are responsive. For this purpose, we’ll normalize the PSTHs by\n",
        "applying the formular\n",
        "\n",
        "$$\n",
        "psth_{normalized} = \\frac{psth-baseline}{baseline+\\epsilon}\n",
        "$$\n",
        "\n",
        "The normalized PSTH describes the firing of a neuron relative to the\n",
        "baseline. The regularization coefficient $\\epsilon$ is a small number\n",
        "that is added to the baseline to avoid errors for units with a baseline\n",
        "rate close to 0. Based on the normalized PSTH, we can define a threshold\n",
        "(e.g. 2 times the baseline rate) and categorize each unit above this\n",
        "threshold as responsive. In this section, you’ll explore normalizing the\n",
        "PSTHs while applying different values of $\\epsilon$ and selection\n",
        "thresholds.\n",
        "\n",
        "| Code | Description |\n",
        "|------------------------------------|------------------------------------|\n",
        "| `grouping = df.groupby(\"col1\").col2.max()` | Group `df` by `\"col1\"` and get the `.max()` of `\"col2\"` for each grouping |\n",
        "| `mask = grouping > x` | Create a `mask` that is `True` where `grouping` is greater than `x` |\n",
        "| `grouping.reset_index(name=\"new\")` | Reset the index of `grouping` and store the old index in a new column under the `name=\"new\"` |\n",
        "| `df1.merge(df2, on=[\"col1\", \"col2\"])` | Merge `df2` to `df1` based `on` the columns `\"col1\"` and `\"col2\"` |\n",
        "| `sns.histplot(grouping)` | Plot a histogram of the values in `grouping` |\n",
        "| `sns.barplot(df, x=\"col1\", hue=\"col2\")` | Create a bar plot for the values in `\"col1\"` for each value in `\"col2\"` |\n",
        "| `plt.axvline(x, ymin, ymax)` | Add a vertical line at `x` that goes from `ymin` to `ymax` |\n",
        "\n",
        "------------------------------------------------------------------------\n",
        "\n",
        "<span class=\"theorem-title\">**Exercise 26**</span> Compute the spike\n",
        "count relative to the baseline by subtracting the `\"baseline\"` from the\n",
        "`\"spike_count\"` and dividing the result by the `\"baseline\"`."
      ],
      "id": "4510d605-468e-4b40-8fc0-fbbaa82e9f53"
    },
    {
      "cell_type": "code",
      "execution_count": 60,
      "metadata": {},
      "outputs": [
        {
          "output_type": "stream",
          "name": "stdout",
          "text": [
            "​"
          ]
        }
      ],
      "source": [],
      "id": "9d07faf3"
    },
    {
      "cell_type": "markdown",
      "metadata": {},
      "source": [
        "<span class=\"theorem-title\">**Exercise 27**</span> Create a\n",
        "`sns.lineplot` with `estimator=None` and `units=\"unit_id\"` to plot the\n",
        "`\"relative_spiking\"` for every unit."
      ],
      "id": "622c2a0f-d883-4344-aba7-12a8ac5ee7d1"
    },
    {
      "cell_type": "code",
      "execution_count": 62,
      "metadata": {},
      "outputs": [
        {
          "output_type": "stream",
          "name": "stdout",
          "text": [
            "​"
          ]
        }
      ],
      "source": [],
      "id": "9915191d"
    },
    {
      "cell_type": "markdown",
      "metadata": {},
      "source": [
        "<span class=\"theorem-title\">**Exercise 28**</span> Re-compute the\n",
        "`\"relative_spiking\"` but add the regularization parameter `epsilon` to\n",
        "the baseline before dividing to avoid distorting the responses of units\n",
        "with a very low baseline. Then, plot the `\"relative_spiking\"` across\n",
        "`\"bin_time\"` for each `\"unit_id\"`."
      ],
      "id": "8758d522-14d2-4e7c-a8aa-5ad0a4f9d3a8"
    },
    {
      "cell_type": "code",
      "execution_count": 63,
      "metadata": {},
      "outputs": [],
      "source": [
        "epsilon = 0.2"
      ],
      "id": "3efe6348"
    },
    {
      "cell_type": "code",
      "execution_count": 65,
      "metadata": {},
      "outputs": [
        {
          "output_type": "stream",
          "name": "stdout",
          "text": [
            "​"
          ]
        }
      ],
      "source": [],
      "id": "02707c3d"
    },
    {
      "cell_type": "markdown",
      "metadata": {},
      "source": [
        "<span class=\"theorem-title\">**Exercise 29**</span> Increase the value of\n",
        "`epsilion`, then re-compute the the values of the `\"relative_spiking\"`\n",
        "and plot them to see the effect of the regularization parameter."
      ],
      "id": "da0533ec-6e58-4ea0-8d77-7a4c2431540c"
    },
    {
      "cell_type": "code",
      "execution_count": 67,
      "metadata": {},
      "outputs": [
        {
          "output_type": "stream",
          "name": "stdout",
          "text": [
            "​"
          ]
        }
      ],
      "source": [],
      "id": "ed8aeb8b"
    },
    {
      "cell_type": "markdown",
      "metadata": {},
      "source": [
        "<span class=\"theorem-title\">**Exercise 30**</span> Group the PSTHs by\n",
        "the `\"unit_id\"` and compute the `.max()` of the `\"relative_spiking\"` for\n",
        "each unit. Plot them in a histogram and draw a `plt.axvline` at the\n",
        "`threshold` defined below."
      ],
      "id": "4b2b527e-29e5-47f0-b8bf-6636fa44510c"
    },
    {
      "cell_type": "code",
      "execution_count": 68,
      "metadata": {},
      "outputs": [],
      "source": [
        "threshold = 1.5"
      ],
      "id": "32cddfc3"
    },
    {
      "cell_type": "code",
      "execution_count": 70,
      "metadata": {},
      "outputs": [
        {
          "output_type": "stream",
          "name": "stdout",
          "text": [
            "​"
          ]
        }
      ],
      "source": [],
      "id": "7ce85871"
    },
    {
      "cell_type": "markdown",
      "metadata": {},
      "source": [
        "<span class=\"theorem-title\">**Example 5**</span> Group the psth by\n",
        "`\"unit_id\"` and `\"brain_area\"` and compare the `.max()` of the\n",
        "`\"relative_spiking\"` to the `threshold` to determine if a unit\n",
        "`\"is_responsive\"`. Then, reset the index of `is_responsive` and name the\n",
        "new column `\"is_responsive\"`"
      ],
      "id": "4bfab56e-95b9-4b07-a1c8-0496a1197f7f"
    },
    {
      "cell_type": "code",
      "execution_count": 71,
      "metadata": {},
      "outputs": [
        {
          "output_type": "display_data",
          "metadata": {},
          "data": {
            "text/html": [
              "\n",
              "<p>386 rows × 3 columns</p>\n",
              "</div>"
            ]
          }
        }
      ],
      "source": [
        "is_responsive = psth.groupby([\"unit_id\", \"brain_area\"]).relative_spiking.max() > threshold\n",
        "is_responsive = is_responsive.reset_index(name=\"is_responsive\")\n",
        "is_responsive"
      ],
      "id": "d8fee1b0"
    },
    {
      "cell_type": "markdown",
      "metadata": {},
      "source": [
        "<span class=\"theorem-title\">**Exercise 31**</span> Create a\n",
        "`sns.barplot` with `x=\"is_responsive\"` and `hue=\"brain_area\"` to\n",
        "visualize the fraction of units in each area that responds to the\n",
        "stimulus according to the `threshold` criterion."
      ],
      "id": "aa7945d6-42e5-42d7-9933-82f2b4791ff6"
    },
    {
      "cell_type": "code",
      "execution_count": 73,
      "metadata": {},
      "outputs": [
        {
          "output_type": "stream",
          "name": "stdout",
          "text": [
            "​"
          ]
        }
      ],
      "source": [],
      "id": "de7011d5"
    },
    {
      "cell_type": "markdown",
      "metadata": {},
      "source": [
        "<span class=\"theorem-title\">**Exercise 32**</span> Try a different\n",
        "`threshold` value, and plot a `sns.histplot` of the unit’s maximum\n",
        "`\"relative_firing\"` together with the threshold to check how many units\n",
        "would be rejected by the threshold. Then re-compute the responsive units\n",
        "as shown in <a href=\"#exm-resp\" class=\"quarto-xref\">Example 5</a> and\n",
        "plot the fraction of responsive units per area."
      ],
      "id": "c2a718d9-d7a3-4724-919d-f4cc8582d0dc"
    },
    {
      "cell_type": "code",
      "execution_count": 75,
      "metadata": {},
      "outputs": [
        {
          "output_type": "stream",
          "name": "stdout",
          "text": [
            "​"
          ]
        }
      ],
      "source": [],
      "id": "fe19b053"
    },
    {
      "cell_type": "markdown",
      "metadata": {},
      "source": [
        "<span class=\"theorem-title\">**Exercise 33**</span> Merge the\n",
        "`is_responsive` data frame into the `psth` data frame with\n",
        "`on=[\"unit_id\", \"brain_area\"]`."
      ],
      "id": "fd665da6-2bab-4866-adee-d0399aa14325"
    },
    {
      "cell_type": "code",
      "execution_count": 77,
      "metadata": {},
      "outputs": [
        {
          "output_type": "stream",
          "name": "stdout",
          "text": [
            "​"
          ]
        }
      ],
      "source": [],
      "id": "8fe1fede"
    },
    {
      "cell_type": "markdown",
      "metadata": {},
      "source": [
        "<span class=\"theorem-title\">**Exercise 34**</span> Select only the units\n",
        "that are responsive (`psth[psth.is_responsive]`) and plot their\n",
        "`\"baselined_spike_count\"` across `\"bin_time\"` for each brain area."
      ],
      "id": "516cb31e-6dd0-4a17-8242-440f8fa45e30"
    },
    {
      "cell_type": "code",
      "execution_count": 79,
      "metadata": {},
      "outputs": [
        {
          "output_type": "stream",
          "name": "stdout",
          "text": [
            "​"
          ]
        }
      ],
      "source": [],
      "id": "1527b1a2"
    },
    {
      "cell_type": "markdown",
      "metadata": {},
      "source": [
        "<span class=\"theorem-title\">**Exercise 35**</span> Plot the PSTH of the\n",
        "responsive units for each individual `\"unit_id\"`."
      ],
      "id": "fc527073-ef04-4008-84a7-344bda3fa0c1"
    },
    {
      "cell_type": "code",
      "execution_count": 81,
      "metadata": {},
      "outputs": [
        {
          "output_type": "stream",
          "name": "stdout",
          "text": [
            "​"
          ]
        }
      ],
      "source": [],
      "id": "91612f64"
    }
  ],
  "nbformat": 4,
  "nbformat_minor": 5,
  "metadata": {
    "kernelspec": {
      "name": "python3",
      "display_name": "Python 3 (ipykernel)",
      "language": "python",
      "path": "/home/olebi/courses/Intro-to-Neural-Spike-Analysis-in-Python/.pixi/envs/default/share/jupyter/kernels/python3"
    }
  }
}