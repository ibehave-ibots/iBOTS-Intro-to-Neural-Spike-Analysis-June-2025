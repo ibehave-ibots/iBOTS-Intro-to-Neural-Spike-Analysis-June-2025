{
  "cells": [
    {
      "cell_type": "markdown",
      "metadata": {},
      "source": [
        "# Spike Sorting with SpikeInterface\n",
        "\n",
        "## 1 Preparation\n",
        "\n",
        "Import the modules required for this notebook"
      ],
      "id": "b02dd549-7839-4f29-9ea9-01319189df04"
    },
    {
      "cell_type": "code",
      "execution_count": 1,
      "metadata": {},
      "outputs": [],
      "source": [
        "import numpy as np\n",
        "from matplotlib import pyplot as plt\n",
        "import spikeinterface.full as si\n",
        "import probeinterface as pi\n",
        "from probeinterface.plotting import plot_probe\n",
        "\n",
        "%matplotlib inline"
      ],
      "id": "b9580764"
    },
    {
      "cell_type": "markdown",
      "metadata": {},
      "source": [
        "Download the Data required for this notebook"
      ],
      "id": "591b33b0-8c06-4573-9afb-5698d558f1a2"
    },
    {
      "cell_type": "code",
      "execution_count": 2,
      "metadata": {},
      "outputs": [],
      "source": [
        "import os\n",
        "import requests\n",
        "import zipfile\n",
        "\n",
        "url = \"https://uni-bonn.sciebo.de/s/x2mNZ3pm3hAHKQa/download\"\n",
        "response = requests.get(url)\n",
        "print(\"Downloading Data ...\")\n",
        "with open(\"openephys_recording.zip\", \"wb\") as file:\n",
        "    file.write(response.content)\n",
        "\n",
        "with zipfile.ZipFile(\"openephys_recording.zip\", \"r\") as zip_ref:\n",
        "    zip_ref.extractall(\"\")\n",
        "os.remove(\"openephys_recording.zip\")\n",
        "print(\"Done!\")"
      ],
      "id": "f60c5921"
    },
    {
      "cell_type": "markdown",
      "metadata": {},
      "source": [
        "## 2 Working with Recordings\n",
        "\n",
        "SpikeInterface provides a unified interface for reading, handling, and\n",
        "processing extracellular electrophysiological recordings from a wide\n",
        "variety of file formats. In this section, you will learn how to load\n",
        "recordings, inspect their properties, and extract data segments for\n",
        "further analysis. This is the first step in any spike sorting workflow,\n",
        "as it allows you to access and manipulate the raw voltage traces\n",
        "recorded from your experiment.\n",
        "\n",
        "| Code | Description |\n",
        "|------------------------------------|------------------------------------|\n",
        "| `rec = si.read_openephys(data_dir, stream_id=\"1\")` | Read a specific stream from the Open Ephys recording in `data_dir`. |\n",
        "| `rec.get_num_channels()` | Get the number of channels in the recording `rec`. |\n",
        "| `rec.get_duration()` | Get the total duration (in seconds) of the recording `rec`. |\n",
        "| `rec.get_sampling_frequency()` | Get the sampling frequency (in Hz) of the recording `rec`. |\n",
        "| `rec.get_traces(start_frame=i, stop_frame=j)` | Get a NumPy array containing the data recorded between samples `i` and `j`. |\n",
        "| `rec.frame_slice(start_frame, end_frame)` | Get a segment of the recording between the specified frames. |\n",
        "| `plt.plot(traces[:, :n])` | Plot the traces for the first `n` channels. |\n",
        "\n",
        "------------------------------------------------------------------------\n",
        "\n",
        "Run the cell below to define the data directory"
      ],
      "id": "680fab30-deff-4208-ad37-087f8c79b965"
    },
    {
      "cell_type": "code",
      "execution_count": 3,
      "metadata": {},
      "outputs": [],
      "source": [
        "data_dir = \"openephys_raw/2023-08-23_15-56-05\""
      ],
      "id": "e1f0ccc2"
    },
    {
      "cell_type": "markdown",
      "metadata": {},
      "source": [
        "<span class=\"theorem-title\">**Example 1**</span> Load the recording\n",
        "stream with the id `\"1\"`, which contains the auxiliary channels, assign\n",
        "the returned `RecordingExtractor` to a variable called `aux_rec` and\n",
        "print it."
      ],
      "id": "61f13ae5-87f7-4443-acc5-d1863b642f92"
    },
    {
      "cell_type": "code",
      "execution_count": 4,
      "metadata": {},
      "outputs": [
        {
          "output_type": "display_data",
          "metadata": {},
          "data": {
            "text/html": [
              "<div style='border:1px solid #ddd; padding:10px;'><strong>OpenEphysBinaryRecordingExtractor: 8 channels - 30.0kHz - 1 segments - 9,000,000 samples - 300.00s (5.00 minutes) - int16 dtype - 137.33 MiB</strong></div><details style='margin-left: 10px;'>  <summary><strong>Channel IDs</strong></summary><ul>['ADC1' 'ADC2' 'ADC3' 'ADC4' 'ADC5' 'ADC6' 'ADC7' 'ADC8'] </details><details style='margin-left: 10px;'>  <summary><strong>Annotations</strong></summary><ul><li> <strong> is_filtered </strong>: False</li><li> <strong> experiment_name </strong>: experiment1</li></details><details style='margin-left: 10px;'><summary><strong>Properties</strong></summary><ul><details><summary><strong>gain_to_uV</strong></summary>[152.58789062 152.58789062 152.58789062 152.58789062 152.58789062\n",
              " 152.58789062 152.58789062 152.58789062]</details><details><summary><strong>offset_to_uV</strong></summary>[0. 0. 0. 0. 0. 0. 0. 0.]</details><details><summary><strong>physical_unit</strong></summary>['V' 'V' 'V' 'V' 'V' 'V' 'V' 'V']</details><details><summary><strong>gain_to_physical_unit</strong></summary>[0.00015259 0.00015259 0.00015259 0.00015259 0.00015259 0.00015259\n",
              " 0.00015259 0.00015259]</details><details><summary><strong>offset_to_physical_unit</strong></summary>[0. 0. 0. 0. 0. 0. 0. 0.]</details><details><summary><strong>channel_name</strong></summary>['ADC1' 'ADC2' 'ADC3' 'ADC4' 'ADC5' 'ADC6' 'ADC7' 'ADC8']</details></ul></details>"
            ]
          }
        }
      ],
      "source": [
        "rec = si.read_openephys(data_dir, stream_id=\"1\")\n",
        "rec"
      ],
      "id": "f5da3280"
    },
    {
      "cell_type": "markdown",
      "metadata": {},
      "source": [
        "<span class=\"theorem-title\">**Exercise 1**</span> Load the stream with\n",
        "the id `\"0\"` and assign the returned `RecordingExtractor` to a variable\n",
        "called `rec`."
      ],
      "id": "40920305-1fa2-49c8-a047-fb9f6d96e82d"
    },
    {
      "cell_type": "code",
      "execution_count": 6,
      "metadata": {},
      "outputs": [
        {
          "output_type": "stream",
          "name": "stdout",
          "text": [
            "​"
          ]
        }
      ],
      "source": [],
      "id": "74ce10fb"
    },
    {
      "cell_type": "markdown",
      "metadata": {},
      "source": [
        "<span class=\"theorem-title\">**Exercise 2**</span> Get the duration of\n",
        "the recording"
      ],
      "id": "5fb442d1-5824-412a-83d6-160b29ea135a"
    },
    {
      "cell_type": "code",
      "execution_count": 8,
      "metadata": {},
      "outputs": [
        {
          "output_type": "stream",
          "name": "stdout",
          "text": [
            "​"
          ]
        }
      ],
      "source": [],
      "id": "8bfd4e54"
    },
    {
      "cell_type": "markdown",
      "metadata": {},
      "source": [
        "<span class=\"theorem-title\">**Exercise 3**</span> Get the sampling\n",
        "frequency of the recording and assign it to a variable `fs`"
      ],
      "id": "add8ca6b-8a8b-419c-a831-29524b24f346"
    },
    {
      "cell_type": "code",
      "execution_count": 10,
      "metadata": {},
      "outputs": [
        {
          "output_type": "stream",
          "name": "stdout",
          "text": [
            "​"
          ]
        }
      ],
      "source": [],
      "id": "580487af"
    },
    {
      "cell_type": "markdown",
      "metadata": {},
      "source": [
        "<span class=\"theorem-title\">**Example 2**</span> Use the `frame_slice`\n",
        "method to select the first `10` seconds of the recording `rec`. Assign\n",
        "the returned object to a new variable `seg` and get it’s duration."
      ],
      "id": "b6dd78ec-d073-469e-9d34-0d17ab6d2818"
    },
    {
      "cell_type": "code",
      "execution_count": 11,
      "metadata": {},
      "outputs": [
        {
          "output_type": "display_data",
          "metadata": {},
          "data": {
            "text/plain": [
              "10.000000000000027"
            ]
          }
        }
      ],
      "source": [
        "seg = rec.frame_slice(start_frame=0 * fs, end_frame=10 * fs)\n",
        "seg.get_duration()"
      ],
      "id": "8d998428"
    },
    {
      "cell_type": "markdown",
      "metadata": {},
      "source": [
        "<span class=\"theorem-title\">**Exercise 4**</span> Use the `frame_slice`\n",
        "method to select the segment between `0.5` and `0.7` seconds. Assign the\n",
        "returned object to a new variable `seg` and get it’s duration."
      ],
      "id": "2a5c7861-fa40-4020-a5f5-3326a8638cbb"
    },
    {
      "cell_type": "code",
      "execution_count": 13,
      "metadata": {},
      "outputs": [
        {
          "output_type": "stream",
          "name": "stdout",
          "text": [
            "​"
          ]
        }
      ],
      "source": [],
      "id": "2b42b7a2"
    },
    {
      "cell_type": "markdown",
      "metadata": {},
      "source": [
        "<span class=\"theorem-title\">**Exercise 5**</span> Use `seg.get_traces()`\n",
        "to get the raw voltage traces and assign them to a variable `traces`."
      ],
      "id": "69cfc77a-ce19-4ac1-8fe5-ce5bf0397755"
    },
    {
      "cell_type": "code",
      "execution_count": 15,
      "metadata": {},
      "outputs": [
        {
          "output_type": "stream",
          "name": "stdout",
          "text": [
            "​"
          ]
        }
      ],
      "source": [],
      "id": "aa0fed67"
    },
    {
      "cell_type": "markdown",
      "metadata": {},
      "source": [
        "<span class=\"theorem-title\">**Example 3**</span> Plot the extracted\n",
        "`traces` for the first 3 channels"
      ],
      "id": "9fe209cc-1383-46ba-9361-f1ef02ee1970"
    },
    {
      "cell_type": "code",
      "execution_count": 16,
      "metadata": {},
      "outputs": [
        {
          "output_type": "display_data",
          "metadata": {},
          "data": {
            "image/png": "[encoded data removed]"
          }
        }
      ],
      "source": [
        "plt.plot(traces[:, :3])"
      ],
      "id": "3ae57ad4"
    },
    {
      "cell_type": "markdown",
      "metadata": {},
      "source": [
        "<span class=\"theorem-title\">**Exercise 6**</span> Plot the extracted\n",
        "`traces` for the last 5 channels"
      ],
      "id": "910ed613-93b7-441e-8390-bff92af4312c"
    },
    {
      "cell_type": "code",
      "execution_count": 18,
      "metadata": {},
      "outputs": [
        {
          "output_type": "stream",
          "name": "stdout",
          "text": [
            "​"
          ]
        }
      ],
      "source": [],
      "id": "60f076a1"
    },
    {
      "cell_type": "markdown",
      "metadata": {},
      "source": [
        "## 3 Handling Probe Information\n",
        "\n",
        "Accurate probe information is essential for interpreting extracellular\n",
        "recordings, as it defines the spatial arrangement and wiring of the\n",
        "electrodes. ProbeInterface, integrated with SpikeInterface, allows you\n",
        "to load, visualize, and configure probe layouts from a wide range of\n",
        "manufacturers. In this section, you will learn how to select a probe,\n",
        "visualize its geometry, remap its wiring, and attach it to your\n",
        "recording for downstream analysis.\n",
        "\n",
        "| Code | Description |\n",
        "|------------------------------------|------------------------------------|\n",
        "| `probe = pi.get_probe(\"neuropixels\", probe=\"NP2014\")` | Get the `\"NP2014\"` probe from `\"neuropixels\"` and assign it to `probe`. |\n",
        "| `probe = pi.get_probe(manufacturer, probe_name)` | Get a probe by specifying the manufacturer and probe name. |\n",
        "| `pi.get_available_pathways()` | List all available wiring pathways for connecting probes and acquisition systems. |\n",
        "| `probe.wiring_to_device(pathway)` | Remap the probe’s channels for a given wiring pathway. |\n",
        "| `plot_probe(probe, ax=ax)` | Plot the probe and its channels using a matplotlib axis `ax`. |\n",
        "| `plot_probe(probe, ax=ax, with_contact_id=True, with_device_index=True)` | Plot the probe with contact and device indices. |\n",
        "| `rec.set_probe(probe)` | Add the probe information to the recording object `rec`. |\n",
        "| `probe = rec.get_probe()` | Retrieve the probe information from a recording object. |\n",
        "| `fig, ax = plt.subplots()` | Create a new matplotlib figure and axis for plotting. |\n",
        "| `ax.set(xlim=(a, b), ylim=(c, d))` | Set the x and y axis limits for the plot. |\n",
        "\n",
        "------------------------------------------------------------------------\n",
        "\n",
        "<span class=\"theorem-title\">**Example 4**</span> Get the `\"NP1010\"`\n",
        "probe from `\"neuropixels\"`."
      ],
      "id": "68f1a382-31b5-4763-8f1c-d6ab2681acab"
    },
    {
      "cell_type": "code",
      "execution_count": 19,
      "metadata": {},
      "outputs": [
        {
          "output_type": "display_data",
          "metadata": {},
          "data": {
            "text/plain": [
              "Probe - IMEC - Neuropixels 1.0 - 960ch - 1shanks"
            ]
          }
        }
      ],
      "source": [
        "manufacturer = \"neuropixels\"\n",
        "probe_name = \"NP1010\"\n",
        "probe = pi.get_probe(manufacturer, probe_name)\n",
        "probe"
      ],
      "id": "96988b53"
    },
    {
      "cell_type": "markdown",
      "metadata": {},
      "source": [
        "<span class=\"theorem-title\">**Example 5**</span> Plot the probe and\n",
        "adjust the axis limits to display the probe’s tip"
      ],
      "id": "9ddee454-137d-4e7f-8cee-3ad3f1f364f7"
    },
    {
      "cell_type": "code",
      "execution_count": 20,
      "metadata": {},
      "outputs": [
        {
          "output_type": "display_data",
          "metadata": {},
          "data": {
            "image/png": "[encoded data removed]"
          }
        }
      ],
      "source": [
        "fig, ax = plt.subplots()\n",
        "plot_probe(probe, ax=ax)\n",
        "ax.set(xlim=(-50, 100), ylim=(-200, 150))"
      ],
      "id": "5379cc5e"
    },
    {
      "cell_type": "markdown",
      "metadata": {},
      "source": [
        "<span class=\"theorem-title\">**Exercise 7**</span> Get the `\"1S256\"`\n",
        "probe from `\"plexon\"`"
      ],
      "id": "63e5650a-5489-4827-836a-b6a545047bbe"
    },
    {
      "cell_type": "code",
      "execution_count": 22,
      "metadata": {},
      "outputs": [
        {
          "output_type": "stream",
          "name": "stdout",
          "text": [
            "​"
          ]
        }
      ],
      "source": [],
      "id": "8ee781f2"
    },
    {
      "cell_type": "markdown",
      "metadata": {},
      "source": [
        "<span class=\"theorem-title\">**Exercise 8**</span> Plot the probe and\n",
        "adjust the axis limits to display the probe’s tip"
      ],
      "id": "02131408-251d-4082-835f-826eb56f3787"
    },
    {
      "cell_type": "code",
      "execution_count": 24,
      "metadata": {},
      "outputs": [
        {
          "output_type": "stream",
          "name": "stdout",
          "text": [
            "​"
          ]
        }
      ],
      "source": [],
      "id": "929ae5c0"
    },
    {
      "cell_type": "markdown",
      "metadata": {},
      "source": [
        "<span class=\"theorem-title\">**Exercise 9**</span> Go to the\n",
        "[ProbeInterface\n",
        "library](https://github.com/SpikeInterface/probeinterface_library/tree/main)\n",
        "and select a new manufacturer and probe from there. Then, get the probe\n",
        "and plot it"
      ],
      "id": "632deb54-05c9-4876-80f8-0889a08aae21"
    },
    {
      "cell_type": "code",
      "execution_count": 26,
      "metadata": {},
      "outputs": [
        {
          "output_type": "stream",
          "name": "stdout",
          "text": [
            "​"
          ]
        }
      ],
      "source": [],
      "id": "6551c140"
    },
    {
      "cell_type": "markdown",
      "metadata": {},
      "source": [
        "<span class=\"theorem-title\">**Example 6**</span> Load the\n",
        "`\"ASSY-236-H5\"` probe from `\"cambridgeneurotech\"` and remap the channels\n",
        "for the `\"cambridgeneurotech_mini-amp-64\"` wiring pathway. Then, plot\n",
        "the probe with the contact and device indices and adjust the axis limit\n",
        "to view the tip of the probe."
      ],
      "id": "a242a770-d55a-439f-bbdf-508b8eba049d"
    },
    {
      "cell_type": "code",
      "execution_count": 27,
      "metadata": {},
      "outputs": [
        {
          "output_type": "display_data",
          "metadata": {},
          "data": {
            "image/png": "[encoded data removed]"
          }
        }
      ],
      "source": [
        "probe = pi.get_probe(\"cambridgeneurotech\", \"ASSY-236-H5\")\n",
        "probe.wiring_to_device(\"cambridgeneurotech_mini-amp-64\")\n",
        "\n",
        "fig, ax = plt.subplots()\n",
        "plot_probe(probe, ax=ax, with_contact_id=True, with_device_index=True)\n",
        "ax.set(xlim=(-25, 50), ylim=(-50, 150))"
      ],
      "id": "dd5d7bb9"
    },
    {
      "cell_type": "markdown",
      "metadata": {},
      "source": [
        "<span class=\"theorem-title\">**Exercise 10**</span> Load the\n",
        "`\"ASSY-236-H5\"` probe from `\"cambridgeneurotech\"` and remap the channels\n",
        "for the `\"ASSY-156>RHD2164\"` wiring pathway. Then, plot the probe with\n",
        "the contact and device indices and adjust the axis limit to view the tip\n",
        "of the probe."
      ],
      "id": "6664a49c-e989-41c1-ad45-0b60c7c82042"
    },
    {
      "cell_type": "code",
      "execution_count": 29,
      "metadata": {},
      "outputs": [
        {
          "output_type": "stream",
          "name": "stdout",
          "text": [
            "​"
          ]
        }
      ],
      "source": [],
      "id": "4a7b5557"
    },
    {
      "cell_type": "markdown",
      "metadata": {},
      "source": [
        "<span class=\"theorem-title\">**Exercise 11**</span> List all of the\n",
        "available wiring pathways. Select one and apply it to the\n",
        "`\"ASSY-236-H5\"` probe from `\"cambridgeneurotech\"` and plot the probe\n",
        "(NOTE: not all wiring pathways are compatible with every device)."
      ],
      "id": "ca3c588c-3594-4599-8aac-106147b97a46"
    },
    {
      "cell_type": "code",
      "execution_count": 31,
      "metadata": {},
      "outputs": [
        {
          "output_type": "stream",
          "name": "stdout",
          "text": [
            "​"
          ]
        }
      ],
      "source": [],
      "id": "cb611fc3"
    },
    {
      "cell_type": "markdown",
      "metadata": {},
      "source": [
        "<span class=\"theorem-title\">**Exercise 12**</span> Add the `probe` to\n",
        "the recording `rec` using `.set_probe()` and then call `.get_probe()`\n",
        "method to verify the probe info was added to the recording."
      ],
      "id": "fe7fa933-f6ed-4169-b3c4-dc894786fd75"
    },
    {
      "cell_type": "code",
      "execution_count": 33,
      "metadata": {},
      "outputs": [
        {
          "output_type": "stream",
          "name": "stdout",
          "text": [
            "​"
          ]
        }
      ],
      "source": [],
      "id": "df330f78"
    },
    {
      "cell_type": "markdown",
      "metadata": {},
      "source": [
        "## 4 Spike Sorting\n",
        "\n",
        "Spike sorting is the process of detecting and classifying action\n",
        "potentials (spikes) from extracellular recordings, assigning them to\n",
        "putative single units (neurons). SpikeInterface provides a unified API\n",
        "to run a variety of spike sorting algorithms (sorters) and manage their\n",
        "outputs. In this section, you will learn how to list available sorters,\n",
        "run a sorter on your data, and inspect the results, including the number\n",
        "of detected units and their spike trains.\n",
        "\n",
        "| Code | Description |\n",
        "|------------------------------------|------------------------------------|\n",
        "| `si.installed_sorters()` | List all spike sorters installed in the current environment. |\n",
        "| `si.run_sorter(sorter_name, recording, folder, **kwargs)` | Run a spike sorter on the given recording, saving results to the specified folder. |\n",
        "| `results.get_num_units()` | Get the number of units detected in the spike sorting results. |\n",
        "| `results.get_unit_ids()` | Get the list of unit IDs from the sorting results. |\n",
        "| `results.get_unit_spike_train(unit_id, return_times=True)` | Get the spike train for a specific unit, optionally returning spike times. |\n",
        "| `rec.frame_slice(start_frame, end_frame)` | Select a segment of the recording for spike sorting. |\n",
        "| `fs = rec.get_sampling_frequency()` | Get the sampling frequency of the recording. |\n",
        "\n",
        "------------------------------------------------------------------------\n",
        "\n",
        "Run the code below to load the recording, and add the probe information\n",
        "to it."
      ],
      "id": "56fbfc29-cc79-4668-8a44-55afd162eada"
    },
    {
      "cell_type": "code",
      "execution_count": 34,
      "metadata": {},
      "outputs": [],
      "source": [
        "rec = si.read_openephys(data_dir, stream_id=\"0\")\n",
        "probe = pi.get_probe(\"cambridgeneurotech\", \"ASSY-236-H5\")\n",
        "probe.wiring_to_device(\"cambridgeneurotech_mini-amp-64\")\n",
        "rec = rec.set_probe(probe)"
      ],
      "id": "a78eac64"
    },
    {
      "cell_type": "markdown",
      "metadata": {},
      "source": [
        "<span class=\"theorem-title\">**Exercise 13**</span> List all of the\n",
        "installed spike sorters"
      ],
      "id": "0c852512-df90-4a8d-8464-d3c6e5fa1264"
    },
    {
      "cell_type": "code",
      "execution_count": 36,
      "metadata": {},
      "outputs": [
        {
          "output_type": "stream",
          "name": "stdout",
          "text": [
            "​"
          ]
        }
      ],
      "source": [],
      "id": "52afe92a"
    },
    {
      "cell_type": "markdown",
      "metadata": {},
      "source": [
        "<span class=\"theorem-title\">**Example 7**</span> Select the first `10`\n",
        "seconds of the recording `rec` and run the spike sorter `\"tridesclous2\"`\n",
        "on the recording segment `seg`."
      ],
      "id": "89666064-1cb9-4031-a3dd-2527e7ea4524"
    },
    {
      "cell_type": "code",
      "execution_count": 37,
      "metadata": {},
      "outputs": [
        {
          "output_type": "stream",
          "name": "stderr",
          "text": [
            "/home/olebi/courses/Intro-to-Neural-Spike-Analysis-in-Python/.pixi/envs/default/lib/python3.12/site-packages/sklearn/utils/deprecation.py:151: FutureWarning: 'force_all_finite' was renamed to 'ensure_all_finite' in 1.6 and will be removed in 1.8.\n",
            "  warnings.warn(\n",
            "/home/olebi/courses/Intro-to-Neural-Spike-Analysis-in-Python/.pixi/envs/default/lib/python3.12/site-packages/sklearn/utils/deprecation.py:151: FutureWarning: 'force_all_finite' was renamed to 'ensure_all_finite' in 1.6 and will be removed in 1.8.\n",
            "  warnings.warn(\n",
            "/home/olebi/courses/Intro-to-Neural-Spike-Analysis-in-Python/.pixi/envs/default/lib/python3.12/site-packages/sklearn/utils/deprecation.py:151: FutureWarning: 'force_all_finite' was renamed to 'ensure_all_finite' in 1.6 and will be removed in 1.8.\n",
            "  warnings.warn(\n",
            "/home/olebi/courses/Intro-to-Neural-Spike-Analysis-in-Python/.pixi/envs/default/lib/python3.12/site-packages/sklearn/utils/deprecation.py:151: FutureWarning: 'force_all_finite' was renamed to 'ensure_all_finite' in 1.6 and will be removed in 1.8.\n",
            "  warnings.warn(\n",
            "/home/olebi/courses/Intro-to-Neural-Spike-Analysis-in-Python/.pixi/envs/default/lib/python3.12/site-packages/sklearn/utils/deprecation.py:151: FutureWarning: 'force_all_finite' was renamed to 'ensure_all_finite' in 1.6 and will be removed in 1.8.\n",
            "  warnings.warn(\n",
            "/home/olebi/courses/Intro-to-Neural-Spike-Analysis-in-Python/.pixi/envs/default/lib/python3.12/site-packages/sklearn/utils/deprecation.py:151: FutureWarning: 'force_all_finite' was renamed to 'ensure_all_finite' in 1.6 and will be removed in 1.8.\n",
            "  warnings.warn(\n",
            "/home/olebi/courses/Intro-to-Neural-Spike-Analysis-in-Python/.pixi/envs/default/lib/python3.12/site-packages/sklearn/utils/deprecation.py:151: FutureWarning: 'force_all_finite' was renamed to 'ensure_all_finite' in 1.6 and will be removed in 1.8.\n",
            "  warnings.warn(\n",
            "/home/olebi/courses/Intro-to-Neural-Spike-Analysis-in-Python/.pixi/envs/default/lib/python3.12/site-packages/sklearn/utils/deprecation.py:151: FutureWarning: 'force_all_finite' was renamed to 'ensure_all_finite' in 1.6 and will be removed in 1.8.\n",
            "  warnings.warn(\n",
            "/home/olebi/courses/Intro-to-Neural-Spike-Analysis-in-Python/.pixi/envs/default/lib/python3.12/site-packages/sklearn/utils/deprecation.py:151: FutureWarning: 'force_all_finite' was renamed to 'ensure_all_finite' in 1.6 and will be removed in 1.8.\n",
            "  warnings.warn(\n",
            "/home/olebi/courses/Intro-to-Neural-Spike-Analysis-in-Python/.pixi/envs/default/lib/python3.12/site-packages/sklearn/utils/deprecation.py:151: FutureWarning: 'force_all_finite' was renamed to 'ensure_all_finite' in 1.6 and will be removed in 1.8.\n",
            "  warnings.warn(\n",
            "/home/olebi/courses/Intro-to-Neural-Spike-Analysis-in-Python/.pixi/envs/default/lib/python3.12/site-packages/sklearn/utils/deprecation.py:151: FutureWarning: 'force_all_finite' was renamed to 'ensure_all_finite' in 1.6 and will be removed in 1.8.\n",
            "  warnings.warn(\n",
            "/home/olebi/courses/Intro-to-Neural-Spike-Analysis-in-Python/.pixi/envs/default/lib/python3.12/site-packages/sklearn/utils/deprecation.py:151: FutureWarning: 'force_all_finite' was renamed to 'ensure_all_finite' in 1.6 and will be removed in 1.8.\n",
            "  warnings.warn(\n",
            "/home/olebi/courses/Intro-to-Neural-Spike-Analysis-in-Python/.pixi/envs/default/lib/python3.12/site-packages/sklearn/utils/deprecation.py:151: FutureWarning: 'force_all_finite' was renamed to 'ensure_all_finite' in 1.6 and will be removed in 1.8.\n",
            "  warnings.warn(\n",
            "/home/olebi/courses/Intro-to-Neural-Spike-Analysis-in-Python/.pixi/envs/default/lib/python3.12/site-packages/sklearn/utils/deprecation.py:151: FutureWarning: 'force_all_finite' was renamed to 'ensure_all_finite' in 1.6 and will be removed in 1.8.\n",
            "  warnings.warn(\n",
            "/home/olebi/courses/Intro-to-Neural-Spike-Analysis-in-Python/.pixi/envs/default/lib/python3.12/site-packages/sklearn/utils/deprecation.py:151: FutureWarning: 'force_all_finite' was renamed to 'ensure_all_finite' in 1.6 and will be removed in 1.8.\n",
            "  warnings.warn(\n",
            "/home/olebi/courses/Intro-to-Neural-Spike-Analysis-in-Python/.pixi/envs/default/lib/python3.12/site-packages/sklearn/utils/deprecation.py:151: FutureWarning: 'force_all_finite' was renamed to 'ensure_all_finite' in 1.6 and will be removed in 1.8.\n",
            "  warnings.warn(\n",
            "/home/olebi/courses/Intro-to-Neural-Spike-Analysis-in-Python/.pixi/envs/default/lib/python3.12/site-packages/sklearn/utils/deprecation.py:151: FutureWarning: 'force_all_finite' was renamed to 'ensure_all_finite' in 1.6 and will be removed in 1.8.\n",
            "  warnings.warn(\n",
            "/home/olebi/courses/Intro-to-Neural-Spike-Analysis-in-Python/.pixi/envs/default/lib/python3.12/site-packages/sklearn/utils/deprecation.py:151: FutureWarning: 'force_all_finite' was renamed to 'ensure_all_finite' in 1.6 and will be removed in 1.8.\n",
            "  warnings.warn(\n",
            "/home/olebi/courses/Intro-to-Neural-Spike-Analysis-in-Python/.pixi/envs/default/lib/python3.12/site-packages/sklearn/utils/deprecation.py:151: FutureWarning: 'force_all_finite' was renamed to 'ensure_all_finite' in 1.6 and will be removed in 1.8.\n",
            "  warnings.warn(\n",
            "/home/olebi/courses/Intro-to-Neural-Spike-Analysis-in-Python/.pixi/envs/default/lib/python3.12/site-packages/sklearn/utils/deprecation.py:151: FutureWarning: 'force_all_finite' was renamed to 'ensure_all_finite' in 1.6 and will be removed in 1.8.\n",
            "  warnings.warn(\n",
            "/home/olebi/courses/Intro-to-Neural-Spike-Analysis-in-Python/.pixi/envs/default/lib/python3.12/site-packages/sklearn/utils/deprecation.py:151: FutureWarning: 'force_all_finite' was renamed to 'ensure_all_finite' in 1.6 and will be removed in 1.8.\n",
            "  warnings.warn(\n",
            "/home/olebi/courses/Intro-to-Neural-Spike-Analysis-in-Python/.pixi/envs/default/lib/python3.12/site-packages/sklearn/utils/deprecation.py:151: FutureWarning: 'force_all_finite' was renamed to 'ensure_all_finite' in 1.6 and will be removed in 1.8.\n",
            "  warnings.warn(\n",
            "/home/olebi/courses/Intro-to-Neural-Spike-Analysis-in-Python/.pixi/envs/default/lib/python3.12/site-packages/sklearn/utils/deprecation.py:151: FutureWarning: 'force_all_finite' was renamed to 'ensure_all_finite' in 1.6 and will be removed in 1.8.\n",
            "  warnings.warn(\n",
            "/home/olebi/courses/Intro-to-Neural-Spike-Analysis-in-Python/.pixi/envs/default/lib/python3.12/site-packages/sklearn/utils/deprecation.py:151: FutureWarning: 'force_all_finite' was renamed to 'ensure_all_finite' in 1.6 and will be removed in 1.8.\n",
            "  warnings.warn(\n",
            "/home/olebi/courses/Intro-to-Neural-Spike-Analysis-in-Python/.pixi/envs/default/lib/python3.12/site-packages/sklearn/utils/deprecation.py:151: FutureWarning: 'force_all_finite' was renamed to 'ensure_all_finite' in 1.6 and will be removed in 1.8.\n",
            "  warnings.warn(\n",
            "/home/olebi/courses/Intro-to-Neural-Spike-Analysis-in-Python/.pixi/envs/default/lib/python3.12/site-packages/sklearn/utils/deprecation.py:151: FutureWarning: 'force_all_finite' was renamed to 'ensure_all_finite' in 1.6 and will be removed in 1.8.\n",
            "  warnings.warn(\n",
            "/home/olebi/courses/Intro-to-Neural-Spike-Analysis-in-Python/.pixi/envs/default/lib/python3.12/site-packages/sklearn/utils/deprecation.py:151: FutureWarning: 'force_all_finite' was renamed to 'ensure_all_finite' in 1.6 and will be removed in 1.8.\n",
            "  warnings.warn(\n",
            "/home/olebi/courses/Intro-to-Neural-Spike-Analysis-in-Python/.pixi/envs/default/lib/python3.12/site-packages/sklearn/utils/deprecation.py:151: FutureWarning: 'force_all_finite' was renamed to 'ensure_all_finite' in 1.6 and will be removed in 1.8.\n",
            "  warnings.warn(\n",
            "/home/olebi/courses/Intro-to-Neural-Spike-Analysis-in-Python/.pixi/envs/default/lib/python3.12/site-packages/sklearn/utils/deprecation.py:151: FutureWarning: 'force_all_finite' was renamed to 'ensure_all_finite' in 1.6 and will be removed in 1.8.\n",
            "  warnings.warn(\n",
            "/home/olebi/courses/Intro-to-Neural-Spike-Analysis-in-Python/.pixi/envs/default/lib/python3.12/site-packages/sklearn/utils/deprecation.py:151: FutureWarning: 'force_all_finite' was renamed to 'ensure_all_finite' in 1.6 and will be removed in 1.8.\n",
            "  warnings.warn(\n",
            "/home/olebi/courses/Intro-to-Neural-Spike-Analysis-in-Python/.pixi/envs/default/lib/python3.12/site-packages/sklearn/utils/deprecation.py:151: FutureWarning: 'force_all_finite' was renamed to 'ensure_all_finite' in 1.6 and will be removed in 1.8.\n",
            "  warnings.warn(\n",
            "/home/olebi/courses/Intro-to-Neural-Spike-Analysis-in-Python/.pixi/envs/default/lib/python3.12/site-packages/sklearn/utils/deprecation.py:151: FutureWarning: 'force_all_finite' was renamed to 'ensure_all_finite' in 1.6 and will be removed in 1.8.\n",
            "  warnings.warn(\n",
            "/home/olebi/courses/Intro-to-Neural-Spike-Analysis-in-Python/.pixi/envs/default/lib/python3.12/site-packages/sklearn/utils/deprecation.py:151: FutureWarning: 'force_all_finite' was renamed to 'ensure_all_finite' in 1.6 and will be removed in 1.8.\n",
            "  warnings.warn(\n",
            "/home/olebi/courses/Intro-to-Neural-Spike-Analysis-in-Python/.pixi/envs/default/lib/python3.12/site-packages/sklearn/utils/deprecation.py:151: FutureWarning: 'force_all_finite' was renamed to 'ensure_all_finite' in 1.6 and will be removed in 1.8.\n",
            "  warnings.warn(\n",
            "/home/olebi/courses/Intro-to-Neural-Spike-Analysis-in-Python/.pixi/envs/default/lib/python3.12/site-packages/sklearn/utils/deprecation.py:151: FutureWarning: 'force_all_finite' was renamed to 'ensure_all_finite' in 1.6 and will be removed in 1.8.\n",
            "  warnings.warn(\n",
            "/home/olebi/courses/Intro-to-Neural-Spike-Analysis-in-Python/.pixi/envs/default/lib/python3.12/site-packages/sklearn/utils/deprecation.py:151: FutureWarning: 'force_all_finite' was renamed to 'ensure_all_finite' in 1.6 and will be removed in 1.8.\n",
            "  warnings.warn(\n",
            "/home/olebi/courses/Intro-to-Neural-Spike-Analysis-in-Python/.pixi/envs/default/lib/python3.12/site-packages/sklearn/utils/deprecation.py:151: FutureWarning: 'force_all_finite' was renamed to 'ensure_all_finite' in 1.6 and will be removed in 1.8.\n",
            "  warnings.warn(\n",
            "/home/olebi/courses/Intro-to-Neural-Spike-Analysis-in-Python/.pixi/envs/default/lib/python3.12/site-packages/sklearn/utils/deprecation.py:151: FutureWarning: 'force_all_finite' was renamed to 'ensure_all_finite' in 1.6 and will be removed in 1.8.\n",
            "  warnings.warn(\n",
            "/home/olebi/courses/Intro-to-Neural-Spike-Analysis-in-Python/.pixi/envs/default/lib/python3.12/site-packages/sklearn/utils/deprecation.py:151: FutureWarning: 'force_all_finite' was renamed to 'ensure_all_finite' in 1.6 and will be removed in 1.8.\n",
            "  warnings.warn(\n",
            "/home/olebi/courses/Intro-to-Neural-Spike-Analysis-in-Python/.pixi/envs/default/lib/python3.12/site-packages/sklearn/utils/deprecation.py:151: FutureWarning: 'force_all_finite' was renamed to 'ensure_all_finite' in 1.6 and will be removed in 1.8.\n",
            "  warnings.warn(\n",
            "/home/olebi/courses/Intro-to-Neural-Spike-Analysis-in-Python/.pixi/envs/default/lib/python3.12/site-packages/sklearn/utils/deprecation.py:151: FutureWarning: 'force_all_finite' was renamed to 'ensure_all_finite' in 1.6 and will be removed in 1.8.\n",
            "  warnings.warn(\n",
            "/home/olebi/courses/Intro-to-Neural-Spike-Analysis-in-Python/.pixi/envs/default/lib/python3.12/site-packages/sklearn/utils/deprecation.py:151: FutureWarning: 'force_all_finite' was renamed to 'ensure_all_finite' in 1.6 and will be removed in 1.8.\n",
            "  warnings.warn(\n",
            "/home/olebi/courses/Intro-to-Neural-Spike-Analysis-in-Python/.pixi/envs/default/lib/python3.12/site-packages/sklearn/utils/deprecation.py:151: FutureWarning: 'force_all_finite' was renamed to 'ensure_all_finite' in 1.6 and will be removed in 1.8.\n",
            "  warnings.warn(\n",
            "/home/olebi/courses/Intro-to-Neural-Spike-Analysis-in-Python/.pixi/envs/default/lib/python3.12/site-packages/sklearn/utils/deprecation.py:151: FutureWarning: 'force_all_finite' was renamed to 'ensure_all_finite' in 1.6 and will be removed in 1.8.\n",
            "  warnings.warn(\n",
            "/home/olebi/courses/Intro-to-Neural-Spike-Analysis-in-Python/.pixi/envs/default/lib/python3.12/site-packages/spikeinterface/core/baserecordingsnippets.py:268: UserWarning: There is no Probe attached to this recording. Creating a dummy one with contact positions\n",
            "  warn(\"There is no Probe attached to this recording. Creating a dummy one with contact positions\")"
          ]
        }
      ],
      "source": [
        "t_start = 0\n",
        "t_stop = 10\n",
        "fs = rec.get_sampling_frequency()\n",
        "seg = rec.frame_slice(start_frame=t_start * fs, end_frame=t_stop * fs)\n",
        "sorting_TDC = si.run_sorter(\n",
        "    sorter_name=\"tridesclous2\",\n",
        "    recording=seg,\n",
        "    folder=\"results_TDC\",\n",
        "    remove_existing_folder=True,\n",
        ")"
      ],
      "id": "2d67396e"
    },
    {
      "cell_type": "markdown",
      "metadata": {},
      "source": [
        "<span class=\"theorem-title\">**Exercise 14**</span> Get the number of\n",
        "units in `sorting_TDC`."
      ],
      "id": "c70b7843-6ab3-4f45-a4ff-643d51040d3d"
    },
    {
      "cell_type": "code",
      "execution_count": 39,
      "metadata": {},
      "outputs": [
        {
          "output_type": "stream",
          "name": "stdout",
          "text": [
            "​"
          ]
        }
      ],
      "source": [],
      "id": "3aa831b6"
    },
    {
      "cell_type": "markdown",
      "metadata": {},
      "source": [
        "<span class=\"theorem-title\">**Exercise 15**</span> Get the unit ids in\n",
        "`sorting_TDC`."
      ],
      "id": "1fac98c7-234a-4b79-9c06-c275b58c48d3"
    },
    {
      "cell_type": "code",
      "execution_count": 41,
      "metadata": {},
      "outputs": [
        {
          "output_type": "stream",
          "name": "stdout",
          "text": [
            "​"
          ]
        }
      ],
      "source": [],
      "id": "e8067538"
    },
    {
      "cell_type": "markdown",
      "metadata": {},
      "source": [
        "<span class=\"theorem-title\">**Exercise 16**</span> Get the spike train\n",
        "for any of the units."
      ],
      "id": "52af0f3b-ed85-4563-89c2-951f1186f375"
    },
    {
      "cell_type": "code",
      "execution_count": 43,
      "metadata": {},
      "outputs": [
        {
          "output_type": "stream",
          "name": "stdout",
          "text": [
            "​"
          ]
        }
      ],
      "source": [],
      "id": "26ff10ab"
    },
    {
      "cell_type": "markdown",
      "metadata": {},
      "source": [
        "<span class=\"theorem-title\">**Exercise 17**</span> Select the first `10`\n",
        "seconds of the recording `rec` and run the spike sorter\n",
        "`\"spykingcircus2\"` with `apply_motion_correction=False` on the recording\n",
        "segment `seg`. Then, print the number of identified units."
      ],
      "id": "787569fe-a002-4f4e-937b-58dccc6ec3f6"
    },
    {
      "cell_type": "code",
      "execution_count": 45,
      "metadata": {},
      "outputs": [
        {
          "output_type": "stream",
          "name": "stdout",
          "text": [
            "​"
          ]
        }
      ],
      "source": [],
      "id": "73ee49f8"
    },
    {
      "cell_type": "markdown",
      "metadata": {},
      "source": [
        "## 5 Setting Sorting Parameters\n",
        "\n",
        "Many spike sorters offer a range of parameters that can be tuned to\n",
        "optimize detection and clustering for your specific dataset.\n",
        "SpikeInterface allows you to query and set these parameters in a\n",
        "standardized way. In this section, you will learn how to retrieve\n",
        "default parameters for a sorter, modify detection and filtering\n",
        "settings, and run sorters with custom configurations to improve sorting\n",
        "performance.\n",
        "\n",
        "| Code | Description |\n",
        "|------------------------------------|------------------------------------|\n",
        "| `si.get_default_sorter_params(sorter_name)` | Get the default parameters for a given spike sorter. |\n",
        "| `si.run_sorter(sorter_name, recording, folder, detection=..., filtering=..., **kwargs)` | Run a spike sorter with custom detection or filtering parameters. |\n",
        "| `detection = {\"detect_threshold\": value}` | Set the detection threshold parameter for a sorter. |\n",
        "| `filtering = {\"freq_min\": fmin, \"freq_max\": fmax}` | Set the minimum and maximum filter frequencies for a sorter. |\n",
        "| `svd = {\"n_components\": 3}` | Set the number of SVD/PCA components to use for feature extraction. |\n",
        "| `results.get_num_units()` | Get the number of detected units after sorting. |\n",
        "\n",
        "------------------------------------------------------------------------\n",
        "\n",
        "<span class=\"theorem-title\">**Exercise 18**</span> Get the default\n",
        "parameters for the spike sorter `\"tridesclous2\"`"
      ],
      "id": "c58618f5-f167-4a14-890f-9188843d5b19"
    },
    {
      "cell_type": "code",
      "execution_count": 47,
      "metadata": {},
      "outputs": [
        {
          "output_type": "stream",
          "name": "stdout",
          "text": [
            "​"
          ]
        }
      ],
      "source": [],
      "id": "6930191e"
    },
    {
      "cell_type": "markdown",
      "metadata": {},
      "source": [
        "<span class=\"theorem-title\">**Example 8**</span> Run the spike sorter\n",
        "`\"tridesclous2\"` on the first 10 seconds of the recording `rec` and set\n",
        "the `detection` parameter to `{\"detect_threshold\":8}`. Then, print the\n",
        "number of detected units."
      ],
      "id": "958f23c0-6595-4898-947e-d72e5562c3ce"
    },
    {
      "cell_type": "code",
      "execution_count": 48,
      "metadata": {},
      "outputs": [
        {
          "output_type": "stream",
          "name": "stderr",
          "text": [
            "/home/olebi/courses/Intro-to-Neural-Spike-Analysis-in-Python/.pixi/envs/default/lib/python3.12/site-packages/sklearn/utils/deprecation.py:151: FutureWarning: 'force_all_finite' was renamed to 'ensure_all_finite' in 1.6 and will be removed in 1.8.\n",
            "  warnings.warn(\n",
            "/home/olebi/courses/Intro-to-Neural-Spike-Analysis-in-Python/.pixi/envs/default/lib/python3.12/site-packages/sklearn/utils/deprecation.py:151: FutureWarning: 'force_all_finite' was renamed to 'ensure_all_finite' in 1.6 and will be removed in 1.8.\n",
            "  warnings.warn(\n",
            "/home/olebi/courses/Intro-to-Neural-Spike-Analysis-in-Python/.pixi/envs/default/lib/python3.12/site-packages/sklearn/utils/deprecation.py:151: FutureWarning: 'force_all_finite' was renamed to 'ensure_all_finite' in 1.6 and will be removed in 1.8.\n",
            "  warnings.warn(\n",
            "/home/olebi/courses/Intro-to-Neural-Spike-Analysis-in-Python/.pixi/envs/default/lib/python3.12/site-packages/sklearn/utils/deprecation.py:151: FutureWarning: 'force_all_finite' was renamed to 'ensure_all_finite' in 1.6 and will be removed in 1.8.\n",
            "  warnings.warn(\n",
            "/home/olebi/courses/Intro-to-Neural-Spike-Analysis-in-Python/.pixi/envs/default/lib/python3.12/site-packages/sklearn/utils/deprecation.py:151: FutureWarning: 'force_all_finite' was renamed to 'ensure_all_finite' in 1.6 and will be removed in 1.8.\n",
            "  warnings.warn(\n",
            "/home/olebi/courses/Intro-to-Neural-Spike-Analysis-in-Python/.pixi/envs/default/lib/python3.12/site-packages/sklearn/utils/deprecation.py:151: FutureWarning: 'force_all_finite' was renamed to 'ensure_all_finite' in 1.6 and will be removed in 1.8.\n",
            "  warnings.warn(\n",
            "/home/olebi/courses/Intro-to-Neural-Spike-Analysis-in-Python/.pixi/envs/default/lib/python3.12/site-packages/sklearn/utils/deprecation.py:151: FutureWarning: 'force_all_finite' was renamed to 'ensure_all_finite' in 1.6 and will be removed in 1.8.\n",
            "  warnings.warn(\n",
            "/home/olebi/courses/Intro-to-Neural-Spike-Analysis-in-Python/.pixi/envs/default/lib/python3.12/site-packages/sklearn/utils/deprecation.py:151: FutureWarning: 'force_all_finite' was renamed to 'ensure_all_finite' in 1.6 and will be removed in 1.8.\n",
            "  warnings.warn(\n",
            "/home/olebi/courses/Intro-to-Neural-Spike-Analysis-in-Python/.pixi/envs/default/lib/python3.12/site-packages/sklearn/utils/deprecation.py:151: FutureWarning: 'force_all_finite' was renamed to 'ensure_all_finite' in 1.6 and will be removed in 1.8.\n",
            "  warnings.warn(\n",
            "/home/olebi/courses/Intro-to-Neural-Spike-Analysis-in-Python/.pixi/envs/default/lib/python3.12/site-packages/sklearn/utils/deprecation.py:151: FutureWarning: 'force_all_finite' was renamed to 'ensure_all_finite' in 1.6 and will be removed in 1.8.\n",
            "  warnings.warn(\n",
            "/home/olebi/courses/Intro-to-Neural-Spike-Analysis-in-Python/.pixi/envs/default/lib/python3.12/site-packages/sklearn/utils/deprecation.py:151: FutureWarning: 'force_all_finite' was renamed to 'ensure_all_finite' in 1.6 and will be removed in 1.8.\n",
            "  warnings.warn(\n",
            "/home/olebi/courses/Intro-to-Neural-Spike-Analysis-in-Python/.pixi/envs/default/lib/python3.12/site-packages/sklearn/utils/deprecation.py:151: FutureWarning: 'force_all_finite' was renamed to 'ensure_all_finite' in 1.6 and will be removed in 1.8.\n",
            "  warnings.warn(\n",
            "/home/olebi/courses/Intro-to-Neural-Spike-Analysis-in-Python/.pixi/envs/default/lib/python3.12/site-packages/sklearn/utils/deprecation.py:151: FutureWarning: 'force_all_finite' was renamed to 'ensure_all_finite' in 1.6 and will be removed in 1.8.\n",
            "  warnings.warn(\n",
            "/home/olebi/courses/Intro-to-Neural-Spike-Analysis-in-Python/.pixi/envs/default/lib/python3.12/site-packages/sklearn/utils/deprecation.py:151: FutureWarning: 'force_all_finite' was renamed to 'ensure_all_finite' in 1.6 and will be removed in 1.8.\n",
            "  warnings.warn(\n",
            "/home/olebi/courses/Intro-to-Neural-Spike-Analysis-in-Python/.pixi/envs/default/lib/python3.12/site-packages/sklearn/utils/deprecation.py:151: FutureWarning: 'force_all_finite' was renamed to 'ensure_all_finite' in 1.6 and will be removed in 1.8.\n",
            "  warnings.warn(\n",
            "/home/olebi/courses/Intro-to-Neural-Spike-Analysis-in-Python/.pixi/envs/default/lib/python3.12/site-packages/sklearn/utils/deprecation.py:151: FutureWarning: 'force_all_finite' was renamed to 'ensure_all_finite' in 1.6 and will be removed in 1.8.\n",
            "  warnings.warn(\n",
            "/home/olebi/courses/Intro-to-Neural-Spike-Analysis-in-Python/.pixi/envs/default/lib/python3.12/site-packages/spikeinterface/core/baserecordingsnippets.py:268: UserWarning: There is no Probe attached to this recording. Creating a dummy one with contact positions\n",
            "  warn(\"There is no Probe attached to this recording. Creating a dummy one with contact positions\")"
          ]
        },
        {
          "output_type": "display_data",
          "metadata": {},
          "data": {
            "text/plain": [
              "27"
            ]
          }
        }
      ],
      "source": [
        "t_start = 0\n",
        "t_stop = 10\n",
        "fs = rec.get_sampling_frequency()\n",
        "seg = rec.frame_slice(start_frame=t_start * fs, end_frame=t_stop * fs)\n",
        "\n",
        "detection = {\"detect_threshold\": 8}\n",
        "sorting_TDC = si.run_sorter(\n",
        "    sorter_name=\"tridesclous2\",\n",
        "    recording=seg,\n",
        "    folder=\"results_TDC\",\n",
        "    remove_existing_folder=True,\n",
        "    detection=detection,\n",
        ")\n",
        "sorting_TDC.get_num_units()"
      ],
      "id": "f031ce13"
    },
    {
      "cell_type": "markdown",
      "metadata": {},
      "source": [
        "<span class=\"theorem-title\">**Exercise 19**</span> Run the spike sorter\n",
        "`\"tridesclous2\"` on the first 10 seconds of the recording `rec` and set\n",
        "the `filtering` parameter to `{\"freq_min\": 1000, \"freq_max\":9000}`.\n",
        "Then, print the number of detected units."
      ],
      "id": "160118f0-4f29-420f-9253-390b311115d1"
    },
    {
      "cell_type": "code",
      "execution_count": 50,
      "metadata": {},
      "outputs": [
        {
          "output_type": "stream",
          "name": "stdout",
          "text": [
            "​"
          ]
        }
      ],
      "source": [],
      "id": "32556db7"
    },
    {
      "cell_type": "markdown",
      "metadata": {},
      "source": [
        "<span class=\"theorem-title\">**Exercise 20**</span> Run the spike sorter\n",
        "`\"tridesclous2\"` on the segment `seg` with `svd={\"n_components\":3}`"
      ],
      "id": "31e8f7da-55da-473e-a398-2650ed61e740"
    },
    {
      "cell_type": "code",
      "execution_count": 52,
      "metadata": {},
      "outputs": [
        {
          "output_type": "stream",
          "name": "stdout",
          "text": [
            "​"
          ]
        }
      ],
      "source": [],
      "id": "4e990977"
    }
  ],
  "nbformat": 4,
  "nbformat_minor": 5,
  "metadata": {
    "kernelspec": {
      "name": "python3",
      "display_name": "Python 3 (ipykernel)",
      "language": "python",
      "path": "/home/olebi/courses/Intro-to-Neural-Spike-Analysis-in-Python/.pixi/envs/default/share/jupyter/kernels/python3"
    },
    "language_info": {
      "name": "python",
      "codemirror_mode": {
        "name": "ipython",
        "version": "3"
      },
      "file_extension": ".py",
      "mimetype": "text/x-python",
      "nbconvert_exporter": "python",
      "pygments_lexer": "ipython3",
      "version": "3.12.11"
    }
  }
}