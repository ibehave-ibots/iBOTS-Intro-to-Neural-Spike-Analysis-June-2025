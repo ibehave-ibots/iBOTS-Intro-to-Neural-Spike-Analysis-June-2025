{
  "cells": [
    {
      "cell_type": "markdown",
      "id": "1b7dc7a0-333e-4822-be20-56233ecd9a43",
      "metadata": {},
      "source": [
        "# Running Sorters with Docker (Demo)"
      ]
    },
    {
      "cell_type": "code",
      "execution_count": 1,
      "id": "5bcfb59c",
      "metadata": {},
      "outputs": [],
      "source": [
        "import spikeinterface.full as si\n",
        "import probeinterface as pi"
      ]
    },
    {
      "cell_type": "markdown",
      "id": "d14eef25-2284-4979-a00c-b49105be07ab",
      "metadata": {},
      "source": [
        "Check which sorters are installed and which ones are available"
      ]
    },
    {
      "cell_type": "code",
      "execution_count": 3,
      "id": "578c9dfb",
      "metadata": {},
      "outputs": [
        {
          "name": "stdout",
          "output_type": "stream",
          "text": [
            "Installed sorters: ['simple', 'spykingcircus2', 'tridesclous2']\n",
            "Available sorters: ['combinato', 'hdsort', 'herdingspikes', 'ironclust', 'kilosort', 'kilosort2', 'kilosort2_5', 'kilosort3', 'kilosort4', 'klusta', 'mountainsort4', 'mountainsort5', 'pykilosort', 'simple', 'spykingcircus', 'spykingcircus2', 'tridesclous', 'tridesclous2', 'waveclus', 'waveclus_snippets', 'yass']"
          ]
        }
      ],
      "source": [
        "print(\"Installed sorters:\", si.installed_sorters())\n",
        "print(\"Available sorters:\", si.available_sorters())"
      ]
    },
    {
      "cell_type": "markdown",
      "id": "56cbe01b-8e1b-45f9-8cb9-ce69b32c971b",
      "metadata": {},
      "source": [
        "Load the data and add probe information"
      ]
    },
    {
      "cell_type": "code",
      "execution_count": 3,
      "id": "fd1684dc",
      "metadata": {},
      "outputs": [],
      "source": [
        "data_dir = \"openephys_raw/2023-08-23_15-56-05\"\n",
        "rec = si.read_openephys(data_dir, stream_id=\"0\")\n",
        "probe = pi.get_probe(\"cambridgeneurotech\", \"ASSY-236-H5\")\n",
        "probe.wiring_to_device(\"cambridgeneurotech_mini-amp-64\")\n",
        "rec = rec.set_probe(probe)"
      ]
    },
    {
      "cell_type": "markdown",
      "id": "2000ddc4-517b-4c3f-84ff-b6958dedbf6e",
      "metadata": {},
      "source": [
        "Make sure docker is installed"
      ]
    },
    {
      "cell_type": "code",
      "execution_count": 4,
      "id": "e46fb78f",
      "metadata": {},
      "outputs": [
        {
          "name": "stdout",
          "output_type": "stream",
          "text": [
            "Docker version 28.1.1, build 4eba377\n"
          ]
        }
      ],
      "source": [
        "!docker --version"
      ]
    },
    {
      "cell_type": "markdown",
      "id": "7150e5b5-986c-4150-a265-a64f111f3447",
      "metadata": {},
      "source": [
        "Select a short segment for demo purpose."
      ]
    },
    {
      "cell_type": "code",
      "execution_count": 5,
      "id": "4422ba39",
      "metadata": {},
      "outputs": [],
      "source": [
        "t_start = 0\n",
        "t_stop = 10\n",
        "fs = rec.get_sampling_frequency()\n",
        "seg = rec.frame_slice(start_frame=t_start * fs, end_frame=t_stop * fs)"
      ]
    },
    {
      "cell_type": "markdown",
      "id": "76700c0f-d252-46c0-abb2-ed809e9adae3",
      "metadata": {},
      "source": [
        "Running `\"kilosort4\"` will throw an error, because it is not installed"
      ]
    },
    {
      "cell_type": "code",
      "execution_count": null,
      "id": "9113e0c4",
      "metadata": {},
      "outputs": [
        {
          "name": "stderr",
          "output_type": "stream",
          "text": [
            "/home/olebi/courses/iBOTS-Intro-to-Neural-Spike-Analysis-June-2025/.pixi/envs/default/lib/python3.12/site-packages/hdbscan/plots.py:448: SyntaxWarning: invalid escape sequence '\\l'\n",
            "  axis.set_ylabel('$\\lambda$ value')\n",
            "/home/olebi/courses/iBOTS-Intro-to-Neural-Spike-Analysis-June-2025/.pixi/envs/default/lib/python3.12/site-packages/hdbscan/robust_single_linkage_.py:175: SyntaxWarning: invalid escape sequence '\\{'\n",
            "  $max \\{ core_k(a), core_k(b), 1/\\alpha d(a,b) \\}$.\n"
          ]
        }
      ],
      "source": [
        "sorting_KS4 = si.run_sorter(\n",
        "    sorter_name=\"kilosort4\",\n",
        "    recording=rec,\n",
        "    folder=\"results_KS4\",\n",
        "    remove_existing_folder=True,\n",
        ")"
      ]
    },
    {
      "cell_type": "markdown",
      "id": "f5be8d34-ab0e-4806-a5eb-ba37a7e2d402",
      "metadata": {},
      "source": [
        "However, by setting `docker_image=True`, we can allow the `run_sorter()`\n",
        "function to download a docker image from the SpikeInterface library and\n",
        "run the sorter inside the cotainer."
      ]
    },
    {
      "cell_type": "code",
      "execution_count": 8,
      "id": "c2f1dede",
      "metadata": {},
      "outputs": [],
      "source": [
        "sorting_KS4 = si.run_sorter(\n",
        "    sorter_name=\"kilosort4\",\n",
        "    recording=rec,\n",
        "    folder=\"results_KS4\",\n",
        "    docker_image=True,\n",
        "    delete_container_files=False,\n",
        ")"
      ]
    }
  ],
  "metadata": {
    "kernelspec": {
      "display_name": "default",
      "language": "python",
      "name": "python3"
    },
    "language_info": {
      "codemirror_mode": {
        "name": "ipython",
        "version": 3
      },
      "file_extension": ".py",
      "mimetype": "text/x-python",
      "name": "python",
      "nbconvert_exporter": "python",
      "pygments_lexer": "ipython3",
      "version": "3.12.11"
    }
  },
  "nbformat": 4,
  "nbformat_minor": 5
}
