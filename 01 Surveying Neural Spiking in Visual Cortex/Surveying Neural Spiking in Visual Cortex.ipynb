{
  "cells": [
    {
      "cell_type": "markdown",
      "id": "7a16a8ca-5e02-4102-a4dd-634324283428",
      "metadata": {},
      "source": [
        "# Surveying Neural Spiking in Visual Cortex\n",
        "\n",
        "## 1 Preparation\n",
        "\n",
        "Import the modules required for this notebook"
      ]
    },
    {
      "cell_type": "code",
      "execution_count": 1,
      "id": "d05f7c46",
      "metadata": {},
      "outputs": [],
      "source": [
        "import numpy as np\n",
        "import pandas as pd\n",
        "from matplotlib import pyplot as plt\n",
        "import seaborn as sns\n",
        "import pingouin as pg"
      ]
    },
    {
      "cell_type": "markdown",
      "id": "ee9b6acd-fef9-4607-afff-8934f10a1922",
      "metadata": {},
      "source": [
        "Download the data required for this notebook"
      ]
    },
    {
      "cell_type": "code",
      "execution_count": 2,
      "id": "7bc13a4b",
      "metadata": {},
      "outputs": [],
      "source": [
        "import requests\n",
        "\n",
        "url = \"https://uni-bonn.sciebo.de/s/mLMkb2TwbNx3Yg6\"\n",
        "fname = \"flash_spikes.parquet\"\n",
        "response = requests.get(f\"{url}/download\")\n",
        "print(\"Downloading Data ...\")\n",
        "with open(fname, \"wb\") as file:\n",
        "    file.write(response.content)\n",
        "print(\"Done!\")"
      ]
    },
    {
      "cell_type": "markdown",
      "id": "a4b507b9-be60-45c1-83b8-f845ff2444fb",
      "metadata": {},
      "source": [
        "## 2 Exploring the Data\n",
        "\n",
        "In this notebook, we are working with data that was recorded in a\n",
        "[recent study](https://www.nature.com/articles/s41586-020-03171-x)\n",
        "conducted at the Allen Institute for Brain Science. The data we’ll use\n",
        "contains the spikes recorded from over 300 neurons recorded across 6\n",
        "different visual brain areas. In this section, we are going to read the\n",
        "data into a pandas data frame and explore its contents.\n",
        "\n",
        "| Code | Description |\n",
        "|------------------------------------|------------------------------------|\n",
        "| `df = pd.read_parquet(\"mydata.parquet\")` | Read the file `\"mydata.parquet\"` into a data frame `df` |\n",
        "| `df.head(n)` | Print the first `n` lines of the data frame `df` |\n",
        "| `df.shape` | Get the `shape` of a data frame (i.e. the number of rows and columns) |\n",
        "| `df.col1` | Access the column `col1` of the data frame `df` |\n",
        "| `df.col1.unique()` | Get the `.unique()` values stored in the column `col1` |\n",
        "| `df.col1.nunique()` | Get the number of unique values in the column `col` |\n",
        "| `df.col1.max()` | Get the maximum value in column `col1` |\n",
        "| `df.groupby(\"col1\")` | Group the data in `df` by the values in `\"col1\"` |\n",
        "| `df.groupby(\"col1\").col2.count()` | Get the `.count()` of `.col2` for every unique value in `\"col1\"` |\n",
        "\n",
        "------------------------------------------------------------------------\n",
        "\n",
        "<span class=\"theorem-title\">**Exercise 1**</span> Load the data stored\n",
        "in `flash_spikes.parquet` into a data frame and print the first 5 rows."
      ]
    },
    {
      "cell_type": "code",
      "execution_count": 4,
      "id": "25753dba",
      "metadata": {},
      "outputs": [
        {
          "name": "stdout",
          "output_type": "stream",
          "text": [
            "​"
          ]
        }
      ],
      "source": []
    },
    {
      "cell_type": "markdown",
      "id": "3d90135b-dff9-4c86-83d9-2f2a49957f6b",
      "metadata": {},
      "source": [
        "<span class=\"theorem-title\">**Exercise 2**</span> How many spikes are\n",
        "there in the data frame (HINT: each row contains one spike)"
      ]
    },
    {
      "cell_type": "code",
      "execution_count": 6,
      "id": "8ebf8fa6",
      "metadata": {},
      "outputs": [
        {
          "name": "stdout",
          "output_type": "stream",
          "text": [
            "​"
          ]
        }
      ],
      "source": []
    },
    {
      "cell_type": "markdown",
      "id": "e7573a9b-320e-4c0c-9155-24e36f5d406b",
      "metadata": {},
      "source": [
        "<span class=\"theorem-title\">**Exercise 3**</span> At what time was the\n",
        "first and last spike recorded?"
      ]
    },
    {
      "cell_type": "code",
      "execution_count": 8,
      "id": "f90d5593",
      "metadata": {},
      "outputs": [
        {
          "name": "stdout",
          "output_type": "stream",
          "text": [
            "​"
          ]
        }
      ],
      "source": []
    },
    {
      "cell_type": "markdown",
      "id": "5538b8ec-e7e2-4330-8184-a7e7ff6f0967",
      "metadata": {},
      "source": [
        "<span class=\"theorem-title\">**Exercise 4**</span> From which (unique)\n",
        "brain areas were the spikes recorded?"
      ]
    },
    {
      "cell_type": "code",
      "execution_count": 10,
      "id": "845d78ba",
      "metadata": {},
      "outputs": [
        {
          "name": "stdout",
          "output_type": "stream",
          "text": [
            "​"
          ]
        }
      ],
      "source": []
    },
    {
      "cell_type": "markdown",
      "id": "b4383772-7673-4c2f-80af-f2b5564dcfc5",
      "metadata": {},
      "source": [
        "<span class=\"theorem-title\">**Exercise 5**</span> What is the total\n",
        "number of units recorded?"
      ]
    },
    {
      "cell_type": "code",
      "execution_count": 12,
      "id": "d6a83711",
      "metadata": {},
      "outputs": [
        {
          "name": "stdout",
          "output_type": "stream",
          "text": [
            "​"
          ]
        }
      ],
      "source": []
    },
    {
      "cell_type": "markdown",
      "id": "a22c9f7d-d1d5-46a6-88f8-94b28dafdd9e",
      "metadata": {},
      "source": [
        "<span class=\"theorem-title\">**Exercise 6**</span> What is the number of\n",
        "spikes recorded from every unit?"
      ]
    },
    {
      "cell_type": "code",
      "execution_count": 14,
      "id": "32417cec",
      "metadata": {},
      "outputs": [
        {
          "name": "stdout",
          "output_type": "stream",
          "text": [
            "​"
          ]
        }
      ],
      "source": []
    },
    {
      "cell_type": "markdown",
      "id": "07c889c0-1abc-4b80-93c8-7e0adb54f8fb",
      "metadata": {},
      "source": [
        "<span class=\"theorem-title\">**Exercise 7**</span> What is the number of\n",
        "units recorded in each brain area (HINT: use\n",
        "`df.groupby(\"brain_area\")[\"unit_id\"]`)?"
      ]
    },
    {
      "cell_type": "code",
      "execution_count": 16,
      "id": "0d9a60cd",
      "metadata": {},
      "outputs": [
        {
          "name": "stdout",
          "output_type": "stream",
          "text": [
            "​"
          ]
        }
      ],
      "source": []
    },
    {
      "cell_type": "markdown",
      "id": "3f3fddfa-8766-4919-adbb-cf61359c3e41",
      "metadata": {},
      "source": [
        "<span class=\"theorem-title\">**Exercise 8**</span> What is the smallest\n",
        "and largest number of spikes recorded from any single unit?"
      ]
    },
    {
      "cell_type": "code",
      "execution_count": 18,
      "id": "9564981e",
      "metadata": {},
      "outputs": [
        {
          "name": "stdout",
          "output_type": "stream",
          "text": [
            "​"
          ]
        }
      ],
      "source": []
    },
    {
      "cell_type": "markdown",
      "id": "0ef0f4f4-c597-48ee-959f-6d922c8ce2ca",
      "metadata": {},
      "source": [
        "## 3 Visualizing Neural Firing with Rasterplots\n",
        "\n",
        "Even though the metrics we computed in the previous section are useful\n",
        "for describing and understanding the data, they only provide a very\n",
        "coarse and incomplete picture. In this section, we are going to\n",
        "visualize the spike trains to get a more detailed view of what is going\n",
        "on. For this, we will use rasterplots, one of the most common\n",
        "visualizations of neural spiking activity. We can make rasterplots for\n",
        "single neurons or groups of neurons to show how the firing of neurons\n",
        "evolves over time.\n",
        "\n",
        "| Code | Description |\n",
        "|------------------------------------|------------------------------------|\n",
        "| `df[df.col1==1]` | Get all rows of `df` where the value of column `.col1` equals `1` |\n",
        "| `df.col1.tolist()` | Export the data in column `.col1` as a list |\n",
        "| `plt.eventplot(x)` | Plot the events in `x` |\n",
        "| `plt.eventplot(x, linewidth=0.5, linelengths=0.5)` | Plot the events in `x` and change the with and legth of the lines |\n",
        "| `plt.eventplot([x1, x2], lineoffsets=1.5)` | Plot the events in `x1` and `x2` on separate lines with the given offset |\n",
        "| `plt.xlim(xmin, xmax)` | Limit the x-axis to the range between `xmin` and `xmax` |\n",
        "\n",
        "------------------------------------------------------------------------\n",
        "\n",
        "<span class=\"theorem-title\">**Exercise 9**</span> Get all spikes\n",
        "recorded from unit `951021564`"
      ]
    },
    {
      "cell_type": "code",
      "execution_count": 20,
      "id": "fef05fd1",
      "metadata": {},
      "outputs": [
        {
          "name": "stdout",
          "output_type": "stream",
          "text": [
            "​"
          ]
        }
      ],
      "source": []
    },
    {
      "cell_type": "markdown",
      "id": "56663357-3d13-4299-bebb-64018271c34a",
      "metadata": {},
      "source": [
        "<span class=\"theorem-title\">**Exercise 10**</span> Create a rasterplot\n",
        "of the spikes recorded from unit `951021564` (HINT: use\n",
        "`plt.eventplot`)."
      ]
    },
    {
      "cell_type": "code",
      "execution_count": 22,
      "id": "6d127225",
      "metadata": {},
      "outputs": [
        {
          "name": "stdout",
          "output_type": "stream",
          "text": [
            "​"
          ]
        }
      ],
      "source": []
    },
    {
      "cell_type": "markdown",
      "id": "6e46a0da-4f87-4637-b2d6-b7bf685b01b8",
      "metadata": {},
      "source": [
        "<span class=\"theorem-title\">**Exercise 11**</span> Create a rasterplot\n",
        "of the spikes recorded from unit `951021564` and reduce the `linewidth`\n",
        "to `0.5`."
      ]
    },
    {
      "cell_type": "code",
      "execution_count": 24,
      "id": "e47d1912",
      "metadata": {},
      "outputs": [
        {
          "name": "stdout",
          "output_type": "stream",
          "text": [
            "​"
          ]
        }
      ],
      "source": []
    },
    {
      "cell_type": "markdown",
      "id": "fa840524-601a-4175-94f8-95289b663159",
      "metadata": {},
      "source": [
        "<span class=\"theorem-title\">**Exercise 12**</span> Create a rasterplot\n",
        "for the units `951021564` and `951021835` (HINT: `plt.eventplot` accepts\n",
        "a lists as input)."
      ]
    },
    {
      "cell_type": "code",
      "execution_count": 26,
      "id": "f37eecad",
      "metadata": {},
      "outputs": [
        {
          "name": "stdout",
          "output_type": "stream",
          "text": [
            "​"
          ]
        }
      ],
      "source": []
    },
    {
      "cell_type": "markdown",
      "id": "1725c878-b0d1-4e67-b1ad-e7ae24bc827d",
      "metadata": {},
      "source": [
        "<span class=\"theorem-title\">**Example 1**</span> Extract the spikes\n",
        "recorded from every unit in the primary visual cortex `\"V1\"`."
      ]
    },
    {
      "cell_type": "code",
      "execution_count": 27,
      "id": "66f1b541",
      "metadata": {},
      "outputs": [],
      "source": [
        "mask = df.brain_area == \"V1\"\n",
        "spike_times = df[mask].groupby(\"unit_id\").spike_time.unique().tolist()"
      ]
    },
    {
      "cell_type": "markdown",
      "id": "87d68549-43a9-4f5a-bc01-30a2f5cef504",
      "metadata": {},
      "source": [
        "<span class=\"theorem-title\">**Exercise 13**</span> Create a rasterplot\n",
        "displaying the `spike_times` from each unit between `1300` and `1350`\n",
        "seconds."
      ]
    },
    {
      "cell_type": "code",
      "execution_count": 29,
      "id": "7d64ba21",
      "metadata": {},
      "outputs": [
        {
          "name": "stdout",
          "output_type": "stream",
          "text": [
            "​"
          ]
        }
      ],
      "source": []
    },
    {
      "cell_type": "markdown",
      "id": "addfa6a5-8147-4b17-b192-5d534c9d3ec9",
      "metadata": {},
      "source": [
        "<span class=\"theorem-title\">**Exercise 14**</span> Create a rasterplot\n",
        "displaying the spikes from all units recorded in the posteriomedial area\n",
        "`\"PM\"` between `1300` and `1350` seconds."
      ]
    },
    {
      "cell_type": "code",
      "execution_count": 31,
      "id": "2ee00dd1",
      "metadata": {},
      "outputs": [
        {
          "name": "stdout",
          "output_type": "stream",
          "text": [
            "​"
          ]
        }
      ],
      "source": []
    },
    {
      "cell_type": "markdown",
      "id": "4c4765e8-f038-4f8f-89cd-69517d323f42",
      "metadata": {},
      "source": [
        "<span class=\"theorem-title\">**Exercise 15**</span> Create a rasterplot\n",
        "displaying the spikes from all units recorded in the rostrolateral area\n",
        "`\"RL\"` between `1400` and `1500` seconds."
      ]
    },
    {
      "cell_type": "code",
      "execution_count": 33,
      "id": "bdf37d4d",
      "metadata": {},
      "outputs": [
        {
          "name": "stdout",
          "output_type": "stream",
          "text": [
            "​"
          ]
        }
      ],
      "source": []
    },
    {
      "cell_type": "markdown",
      "id": "149de0a0-98e3-4cac-a818-f3843b9428c7",
      "metadata": {},
      "source": [
        "## 4 Comparing Neural Firing Across Visual Areas\n",
        "\n",
        "Raster plots are great for detailed visualization of neural firing but\n",
        "with all this detail, it is difficult to make out larger trends and\n",
        "compare the activity between larger groups of neurons. In this section,\n",
        "we are going to use the seaborn library to create plots that aggregate\n",
        "information across spikes and units which allows us to compare the\n",
        "different areas in the visual cortex.\n",
        "\n",
        "| Code | Description |\n",
        "|------------------------------------|------------------------------------|\n",
        "| `sns.countplot(df, x=\"col1\")` | Create a barplot that counts how often each unique value in `\"col1\"` appears in `df` |\n",
        "| `sns.countplot(df, y=\"col1\")` | Create the same bar plot but with horizontal bars |\n",
        "| `sns.countplot(df, x=\"col1\", hue=\"col2\")` | Create count plot for the unique values in `\"col1\"` and add a `hue` for the unique values in `\"col2\"` |\n",
        "| `sns.kdeplot(df, x=\"col1\")` | Plot the kernel density estimate for the values in `\"col1\"` |\n",
        "| `sns.kdeplot(df, x=\"col1\", hue=\"col2\")` | Plot the kernel density estimate for the values in `\"col1\"` and add a `hue` for the unique values in `\"col2\"` |\n",
        "| `sns.barplot(x)` | Create a barplot for the aggregated values in the pandas series `x` |\n",
        "\n",
        "------------------------------------------------------------------------\n",
        "\n",
        "<span class=\"theorem-title\">**Exercise 16**</span> Create a\n",
        "`sns.countplot` that displays the number of spikes recorded from each\n",
        "`\"brain_area\"`."
      ]
    },
    {
      "cell_type": "code",
      "execution_count": 35,
      "id": "767b60e9",
      "metadata": {},
      "outputs": [
        {
          "name": "stdout",
          "output_type": "stream",
          "text": [
            "​"
          ]
        }
      ],
      "source": []
    },
    {
      "cell_type": "markdown",
      "id": "d9a6f269-70a2-415d-8a54-e71fe2b47578",
      "metadata": {},
      "source": [
        "<span class=\"theorem-title\">**Exercise 17**</span> Create a\n",
        "`sns.countplot` that displays the number of spikes recorded from each\n",
        "`\"unit\"` (HINT: you can remove the x-ticks with `plt.xticks([])`)."
      ]
    },
    {
      "cell_type": "code",
      "execution_count": 37,
      "id": "c413b95f",
      "metadata": {},
      "outputs": [
        {
          "name": "stdout",
          "output_type": "stream",
          "text": [
            "​"
          ]
        }
      ],
      "source": []
    },
    {
      "cell_type": "markdown",
      "id": "cb18e17f-a66b-46a7-8761-23081feab9fc",
      "metadata": {},
      "source": [
        "<span class=\"theorem-title\">**Exercise 18**</span> Create a\n",
        "`sns.countplot` that displays the number of spikes recorded from each\n",
        "`\"unit\"` and add a `hue` to encode `\"brain_area\"`."
      ]
    },
    {
      "cell_type": "code",
      "execution_count": 39,
      "id": "20c2c73c",
      "metadata": {},
      "outputs": [
        {
          "name": "stdout",
          "output_type": "stream",
          "text": [
            "​"
          ]
        }
      ],
      "source": []
    },
    {
      "cell_type": "markdown",
      "id": "48b7545b-0606-49c9-8b84-785fe3db1b3c",
      "metadata": {},
      "source": [
        "<span class=\"theorem-title\">**Exercise 19**</span> Create the same plot\n",
        "again but with horizontal bars"
      ]
    },
    {
      "cell_type": "code",
      "execution_count": 41,
      "id": "ec27be63",
      "metadata": {},
      "outputs": [
        {
          "name": "stdout",
          "output_type": "stream",
          "text": [
            "​"
          ]
        }
      ],
      "source": []
    },
    {
      "cell_type": "markdown",
      "id": "22db51c5-cb15-4e62-86f6-b5bb8e5e2b6e",
      "metadata": {},
      "source": [
        "<span class=\"theorem-title\">**Exercise 20**</span> Create a\n",
        "`sns.kdeplot` to visualize the distribution of `\"spike_time\"`"
      ]
    },
    {
      "cell_type": "code",
      "execution_count": 43,
      "id": "69da7fb0",
      "metadata": {},
      "outputs": [
        {
          "name": "stdout",
          "output_type": "stream",
          "text": [
            "​"
          ]
        }
      ],
      "source": []
    },
    {
      "cell_type": "markdown",
      "id": "4c34b305-ab2a-4a44-b872-0ce77c486149",
      "metadata": {},
      "source": [
        "<span class=\"theorem-title\">**Exercise 21**</span> Create a\n",
        "`sns.kdeplot` to visualize the distribution of `\"spike_time\"` and add a\n",
        "`hue` for `\"brain_area\"`."
      ]
    },
    {
      "cell_type": "code",
      "execution_count": 45,
      "id": "54b98947",
      "metadata": {},
      "outputs": [
        {
          "name": "stdout",
          "output_type": "stream",
          "text": [
            "​"
          ]
        }
      ],
      "source": []
    },
    {
      "cell_type": "markdown",
      "id": "e6a1f1e0-e0f2-48b4-88ca-fad12b3f2da6",
      "metadata": {},
      "source": [
        "<span class=\"theorem-title\">**Exercise 22**</span> Compute the number of\n",
        "units recorded in each brain area and plot the result as a `sns.barplot`\n",
        "(HINT: the function only requires a single argument)."
      ]
    },
    {
      "cell_type": "code",
      "execution_count": 47,
      "id": "31a31af0",
      "metadata": {},
      "outputs": [
        {
          "name": "stdout",
          "output_type": "stream",
          "text": [
            "​"
          ]
        }
      ],
      "source": []
    },
    {
      "cell_type": "markdown",
      "id": "a03a2507-04ef-4d9f-8d1d-255e6efc8462",
      "metadata": {},
      "source": [
        "<span class=\"theorem-title\">**Exercise 23**</span> Get the number of\n",
        "spikes recorded from each brain area and divide it by the number of\n",
        "units recorded in each area to get the average number of spikes per unit\n",
        "in each area. Then, plot the result as a `sns.barplot`."
      ]
    },
    {
      "cell_type": "code",
      "execution_count": 49,
      "id": "50a2fb30",
      "metadata": {},
      "outputs": [
        {
          "name": "stdout",
          "output_type": "stream",
          "text": [
            "​"
          ]
        }
      ],
      "source": []
    },
    {
      "cell_type": "markdown",
      "id": "00eef3c1-3989-459d-8824-5a181ff0b82a",
      "metadata": {},
      "source": [
        "## 5 Statistical Comparison of Firing Rates across Areas\n",
        "\n",
        "The visualizations from the previous session seem to suggest differences\n",
        "in firing rates between visual areas. In this section we are going to\n",
        "quantify these differences. We are going to compute the firing rates for\n",
        "every unit and visualize their distribution across the different brain\n",
        "areas. Then, we are going to use the Mann-Whitney-U (MWU) test to check\n",
        "whether the observed differences are statistically significant. The MWU\n",
        "test is a non-parametric statistical test that estimates how likely it\n",
        "is that two sets of measurements (i.e. firing rates in two areas) come\n",
        "from the same distribution. Based on this probability, captured by the\n",
        "`p-value`, we can assess whether the difference is above what we would\n",
        "expect by chance.\n",
        "\n",
        "| Code | Description |\n",
        "|------------------------------------|------------------------------------|\n",
        "| `df.groupby([\"col1\", \"col2\"])` | Group `df` by the columns `\"col1\"` and `\"col2\"` |\n",
        "| `df.groupby([\"col1\", \"col2\"]).count()` | Group `df` by the columns `\"col1\"` and `\"col2\"` and `.count()` the number of elements for each grouping |\n",
        "| `df.reset_index()` | Reset the index of `df` and store the old index as a new column |\n",
        "| `df.columns = [\"new1\", \"new2\"]` | Rename the columns to `\"new1\"` and `\"new2\"` (the number of elements must match the number of columns) |\n",
        "| `sns.barplot(df, x=\"col2\", y=\"col1\", estimator=\"mean\")` | Plot the `\"mean\"` of the `\"col1\"` for every category in `\"col2\"` |\n",
        "| `pg.mwu(x, y)` | Apply the MWU test to the measurements `x` and `y` |\n",
        "| `pg.multicomp(pvals, alpha, method=\"bonferroni\")` | Apply the Bonferroni correction for multiple comparisons to the given `pvals` and check if they are significant given the threshold `alpha` |\n",
        "\n",
        "------------------------------------------------------------------------\n",
        "\n",
        "<span class=\"theorem-title\">**Exercise 24**</span> Compute the number of\n",
        "spike times for each `\"brain_area\"` and `\"unit_id\"`."
      ]
    },
    {
      "cell_type": "code",
      "execution_count": 51,
      "id": "d4ffb3f6",
      "metadata": {},
      "outputs": [
        {
          "name": "stdout",
          "output_type": "stream",
          "text": [
            "​"
          ]
        }
      ],
      "source": []
    },
    {
      "cell_type": "markdown",
      "id": "4b97d0b8-86a0-4f0a-b313-ef3ba01868b5",
      "metadata": {},
      "source": [
        "<span class=\"theorem-title\">**Exercise 25**</span> Divide the result\n",
        "from <a href=\"#exr-count\" class=\"quarto-xref\">Exercise 24</a> by the\n",
        "duration of the recording to get the firing rate of every unit (HINT:\n",
        "you can approximate the duration as the difference between the first and\n",
        "last `\"spike_time\"`). Assign the result to a new variable `fr`."
      ]
    },
    {
      "cell_type": "code",
      "execution_count": 53,
      "id": "1246ae1f",
      "metadata": {},
      "outputs": [
        {
          "name": "stdout",
          "output_type": "stream",
          "text": [
            "​"
          ]
        }
      ],
      "source": []
    },
    {
      "cell_type": "markdown",
      "id": "524ca732-5d76-4d54-a2c5-b59e689f2bb3",
      "metadata": {},
      "source": [
        "<span class=\"theorem-title\">**Exercise 26**</span> Use\n",
        "`fr.reset_index()` to create a new data frame where each row represents\n",
        "one unit (HINT: the method does not modify `fr` so you must expliclity\n",
        "overwrite the original value). Then, rename the columns to label the new\n",
        "column with `\"firing_rate\"` and print the renamed data frame."
      ]
    },
    {
      "cell_type": "code",
      "execution_count": 55,
      "id": "d931048f",
      "metadata": {},
      "outputs": [
        {
          "name": "stdout",
          "output_type": "stream",
          "text": [
            "​"
          ]
        }
      ],
      "source": []
    },
    {
      "cell_type": "markdown",
      "id": "f3e92900-b04a-4c97-8d0a-71b60d919176",
      "metadata": {},
      "source": [
        "<span class=\"theorem-title\">**Example 2**</span> Create a `sns.barplot`\n",
        "for the mean `\"firing_rate\"` of every `\"brain_area\"`."
      ]
    },
    {
      "cell_type": "code",
      "execution_count": 56,
      "id": "f18eaf46",
      "metadata": {},
      "outputs": [
        {
          "data": {
            "image/png": "[encoded data removed]"
          },
          "metadata": {},
          "output_type": "display_data"
        }
      ],
      "source": [
        "sns.barplot(fr, x=\"brain_area\", y=\"firing_rate\", estimator=\"mean\")"
      ]
    },
    {
      "cell_type": "markdown",
      "id": "1f7821ab-5cc0-4f76-ac21-52ca9b9c2345",
      "metadata": {},
      "source": [
        "<span class=\"theorem-title\">**Exercise 27**</span> Create a\n",
        "`sns.barplot` for the standard deviation `\"std\"` of the `\"firing_rate\"`\n",
        "of every `\"brain_area\"`."
      ]
    },
    {
      "cell_type": "code",
      "execution_count": 58,
      "id": "ac45961e",
      "metadata": {},
      "outputs": [
        {
          "name": "stdout",
          "output_type": "stream",
          "text": [
            "​"
          ]
        }
      ],
      "source": []
    },
    {
      "cell_type": "markdown",
      "id": "4aad160a-8cfa-4df7-9de0-d711b0e90ad8",
      "metadata": {},
      "source": [
        "<span class=\"theorem-title\">**Exercise 28**</span> Create a\n",
        "`sns.kdeplot` to visualize the distribution of `\"firing_rate\"` and add a\n",
        "`hue` to encode the `\"brain_area\"`."
      ]
    },
    {
      "cell_type": "code",
      "execution_count": 60,
      "id": "006b627e",
      "metadata": {},
      "outputs": [
        {
          "name": "stdout",
          "output_type": "stream",
          "text": [
            "​"
          ]
        }
      ],
      "source": []
    },
    {
      "cell_type": "markdown",
      "id": "a005a575-7424-4166-8ad4-6f63e2e4cfb4",
      "metadata": {},
      "source": [
        "<span class=\"theorem-title\">**Exercise 29**</span> Re-create the\n",
        "`sns.kdeplot` but use `common_norm=False` to account for the difference\n",
        "in the number of recorded units per area."
      ]
    },
    {
      "cell_type": "code",
      "execution_count": 62,
      "id": "02181354",
      "metadata": {},
      "outputs": [
        {
          "name": "stdout",
          "output_type": "stream",
          "text": [
            "​"
          ]
        }
      ],
      "source": []
    },
    {
      "cell_type": "markdown",
      "id": "e92b148e-bb27-48ee-aa8f-f1c0c50c6e6d",
      "metadata": {},
      "source": [
        "<span class=\"theorem-title\">**Example 3**</span> Perform a\n",
        "Mann-Whitney-U-Test to test if there is a significant difference in\n",
        "firing rate between the primary visual cortex `\"V1\"` and the\n",
        "anterolateral area `\"AL\"`"
      ]
    },
    {
      "cell_type": "code",
      "execution_count": 63,
      "id": "e782c573",
      "metadata": {},
      "outputs": [
        {
          "data": {
            "text/html": [
              "\n",
              "</div>"
            ]
          },
          "metadata": {},
          "output_type": "display_data"
        }
      ],
      "source": [
        "x = fr[fr.brain_area == \"V1\"].firing_rate\n",
        "y = fr[fr.brain_area == \"AL\"].firing_rate\n",
        "pg.mwu(x, y)"
      ]
    },
    {
      "cell_type": "markdown",
      "id": "b25c24e3-804e-40d8-8963-89e52d975ab2",
      "metadata": {},
      "source": [
        "<span class=\"theorem-title\">**Exercise 30**</span> Look at the graph\n",
        "created in <a href=\"#exm-mean\" class=\"quarto-xref\">Example 2</a> that\n",
        "showed the mean firing rates for each brain area. Based on this plot,\n",
        "which differences would you expect to be significant? Test you\n",
        "expectation by performing Mann-Whitney-U-Test on the respective pair(s)."
      ]
    },
    {
      "cell_type": "code",
      "execution_count": 65,
      "id": "5e3dec24",
      "metadata": {},
      "outputs": [
        {
          "name": "stdout",
          "output_type": "stream",
          "text": [
            "​"
          ]
        }
      ],
      "source": []
    },
    {
      "cell_type": "markdown",
      "id": "890e2776-4284-4f7c-a1de-090ad1d0019c",
      "metadata": {},
      "source": [
        "<span class=\"theorem-title\">**Example 4**</span> Apply the Bonferroni\n",
        "correction to adjust the p-values for multiple comparisons and compare\n",
        "them to the given threshold `alpha`."
      ]
    },
    {
      "cell_type": "code",
      "execution_count": 66,
      "id": "115f4e66",
      "metadata": {},
      "outputs": [
        {
          "data": {
            "text/plain": [
              "(array([ True, False]), array([0.02, 0.08]))"
            ]
          },
          "metadata": {},
          "output_type": "display_data"
        }
      ],
      "source": [
        "pvals = [0.01, 0.04]\n",
        "alpha = 0.05\n",
        "pg.multicomp(pvals, alpha, method=\"bonferroni\")"
      ]
    },
    {
      "cell_type": "markdown",
      "id": "a800335f-2639-458f-9e59-d1e004d98d1a",
      "metadata": {},
      "source": [
        "<span class=\"theorem-title\">**Exercise 31**</span> Apply the Bonferroni\n",
        "correction to adjust the p-values returned by the statistical tests you\n",
        "performed in the exercises before. Are the results still significant\n",
        "after correction?"
      ]
    },
    {
      "cell_type": "code",
      "execution_count": 67,
      "id": "1da5c9e8",
      "metadata": {},
      "outputs": [
        {
          "name": "stdout",
          "output_type": "stream",
          "text": [
            "​"
          ]
        }
      ],
      "source": []
    }
  ],
  "metadata": {
    "kernelspec": {
      "display_name": "Python 3 (ipykernel)",
      "language": "python",
      "name": "python3",
      "path": "/home/olebi/courses/Intro-to-Neural-Spike-Analysis-in-Python/.pixi/envs/default/share/jupyter/kernels/python3"
    }
  },
  "nbformat": 4,
  "nbformat_minor": 5
}
